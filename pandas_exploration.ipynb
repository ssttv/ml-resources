{
  "nbformat": 4,
  "nbformat_minor": 0,
  "metadata": {
    "colab": {
      "name": "pandas-exploration.ipynb",
      "version": "0.3.2",
      "provenance": [],
      "collapsed_sections": [],
      "include_colab_link": true
    },
    "kernelspec": {
      "name": "python3",
      "display_name": "Python 3"
    },
    "accelerator": "GPU"
  },
  "cells": [
    {
      "cell_type": "markdown",
      "metadata": {
        "id": "view-in-github",
        "colab_type": "text"
      },
      "source": [
        "<a href=\"https://colab.research.google.com/github/ssttv/ml-resources/blob/master/pandas_exploration.ipynb\" target=\"_parent\"><img src=\"https://colab.research.google.com/assets/colab-badge.svg\" alt=\"Open In Colab\"/></a>"
      ]
    },
    {
      "metadata": {
        "id": "D4YXqLRrhlrw",
        "colab_type": "code",
        "colab": {}
      },
      "cell_type": "code",
      "source": [
        "!apt-get install -y -qq software-properties-common module-init-tools\n",
        "!add-apt-repository -y ppa:alessandro-strada/ppa 2>&1 > /dev/null\n",
        "!apt-get update -qq 2>&1 > /dev/null\n",
        "!apt-get -y install -qq google-drive-ocamlfuse fuse\n",
        "from google.colab import auth\n",
        "auth.authenticate_user()\n",
        "from oauth2client.client import GoogleCredentials\n",
        "creds = GoogleCredentials.get_application_default()\n",
        "import getpass\n",
        "!google-drive-ocamlfuse -headless -id={creds.client_id} -secret={creds.client_secret} < /dev/null 2>&1 | grep URL\n",
        "vcode = getpass.getpass()\n",
        "!echo {vcode} | google-drive-ocamlfuse -headless -id={creds.client_id} -secret={creds.client_secret}\n",
        "!pip install ipywidgets\n",
        "import ipywidgets\n",
        "from ipywidgets import IntProgress"
      ],
      "execution_count": 0,
      "outputs": []
    },
    {
      "metadata": {
        "id": "m31lUO9AiMqG",
        "colab_type": "code",
        "colab": {}
      },
      "cell_type": "code",
      "source": [
        "!mkdir -p drive\n",
        "!google-drive-ocamlfuse drive"
      ],
      "execution_count": 0,
      "outputs": []
    },
    {
      "metadata": {
        "id": "rLuwbKvlBh_P",
        "colab_type": "code",
        "colab": {}
      },
      "cell_type": "code",
      "source": [
        "import numpy as np\n",
        "import pandas as pd\n",
        "# we don't like warnings\n",
        "# you can comment the following 2 lines if you'd like to\n",
        "import warnings\n",
        "warnings.filterwarnings('ignore')"
      ],
      "execution_count": 0,
      "outputs": []
    },
    {
      "metadata": {
        "id": "e18_MMYFfUOc",
        "colab_type": "code",
        "colab": {
          "base_uri": "https://localhost:8080/",
          "height": 258
        },
        "outputId": "d2944351-0f36-4b98-b299-26560bf39910"
      },
      "cell_type": "code",
      "source": [
        "df = pd.read_csv('/content/drive/generic_datasets/tele_churn.csv')\n",
        "df.head()"
      ],
      "execution_count": 5,
      "outputs": [
        {
          "output_type": "execute_result",
          "data": {
            "text/html": [
              "<div>\n",
              "<style scoped>\n",
              "    .dataframe tbody tr th:only-of-type {\n",
              "        vertical-align: middle;\n",
              "    }\n",
              "\n",
              "    .dataframe tbody tr th {\n",
              "        vertical-align: top;\n",
              "    }\n",
              "\n",
              "    .dataframe thead th {\n",
              "        text-align: right;\n",
              "    }\n",
              "</style>\n",
              "<table border=\"1\" class=\"dataframe\">\n",
              "  <thead>\n",
              "    <tr style=\"text-align: right;\">\n",
              "      <th></th>\n",
              "      <th>State</th>\n",
              "      <th>Account length</th>\n",
              "      <th>Area code</th>\n",
              "      <th>International plan</th>\n",
              "      <th>Voice mail plan</th>\n",
              "      <th>Number vmail messages</th>\n",
              "      <th>Total day minutes</th>\n",
              "      <th>Total day calls</th>\n",
              "      <th>Total day charge</th>\n",
              "      <th>Total eve minutes</th>\n",
              "      <th>Total eve calls</th>\n",
              "      <th>Total eve charge</th>\n",
              "      <th>Total night minutes</th>\n",
              "      <th>Total night calls</th>\n",
              "      <th>Total night charge</th>\n",
              "      <th>Total intl minutes</th>\n",
              "      <th>Total intl calls</th>\n",
              "      <th>Total intl charge</th>\n",
              "      <th>Customer service calls</th>\n",
              "      <th>Churn</th>\n",
              "    </tr>\n",
              "  </thead>\n",
              "  <tbody>\n",
              "    <tr>\n",
              "      <th>0</th>\n",
              "      <td>KS</td>\n",
              "      <td>128</td>\n",
              "      <td>415</td>\n",
              "      <td>No</td>\n",
              "      <td>Yes</td>\n",
              "      <td>25</td>\n",
              "      <td>265.1</td>\n",
              "      <td>110</td>\n",
              "      <td>45.07</td>\n",
              "      <td>197.4</td>\n",
              "      <td>99</td>\n",
              "      <td>16.78</td>\n",
              "      <td>244.7</td>\n",
              "      <td>91</td>\n",
              "      <td>11.01</td>\n",
              "      <td>10.0</td>\n",
              "      <td>3</td>\n",
              "      <td>2.70</td>\n",
              "      <td>1</td>\n",
              "      <td>False</td>\n",
              "    </tr>\n",
              "    <tr>\n",
              "      <th>1</th>\n",
              "      <td>OH</td>\n",
              "      <td>107</td>\n",
              "      <td>415</td>\n",
              "      <td>No</td>\n",
              "      <td>Yes</td>\n",
              "      <td>26</td>\n",
              "      <td>161.6</td>\n",
              "      <td>123</td>\n",
              "      <td>27.47</td>\n",
              "      <td>195.5</td>\n",
              "      <td>103</td>\n",
              "      <td>16.62</td>\n",
              "      <td>254.4</td>\n",
              "      <td>103</td>\n",
              "      <td>11.45</td>\n",
              "      <td>13.7</td>\n",
              "      <td>3</td>\n",
              "      <td>3.70</td>\n",
              "      <td>1</td>\n",
              "      <td>False</td>\n",
              "    </tr>\n",
              "    <tr>\n",
              "      <th>2</th>\n",
              "      <td>NJ</td>\n",
              "      <td>137</td>\n",
              "      <td>415</td>\n",
              "      <td>No</td>\n",
              "      <td>No</td>\n",
              "      <td>0</td>\n",
              "      <td>243.4</td>\n",
              "      <td>114</td>\n",
              "      <td>41.38</td>\n",
              "      <td>121.2</td>\n",
              "      <td>110</td>\n",
              "      <td>10.30</td>\n",
              "      <td>162.6</td>\n",
              "      <td>104</td>\n",
              "      <td>7.32</td>\n",
              "      <td>12.2</td>\n",
              "      <td>5</td>\n",
              "      <td>3.29</td>\n",
              "      <td>0</td>\n",
              "      <td>False</td>\n",
              "    </tr>\n",
              "    <tr>\n",
              "      <th>3</th>\n",
              "      <td>OH</td>\n",
              "      <td>84</td>\n",
              "      <td>408</td>\n",
              "      <td>Yes</td>\n",
              "      <td>No</td>\n",
              "      <td>0</td>\n",
              "      <td>299.4</td>\n",
              "      <td>71</td>\n",
              "      <td>50.90</td>\n",
              "      <td>61.9</td>\n",
              "      <td>88</td>\n",
              "      <td>5.26</td>\n",
              "      <td>196.9</td>\n",
              "      <td>89</td>\n",
              "      <td>8.86</td>\n",
              "      <td>6.6</td>\n",
              "      <td>7</td>\n",
              "      <td>1.78</td>\n",
              "      <td>2</td>\n",
              "      <td>False</td>\n",
              "    </tr>\n",
              "    <tr>\n",
              "      <th>4</th>\n",
              "      <td>OK</td>\n",
              "      <td>75</td>\n",
              "      <td>415</td>\n",
              "      <td>Yes</td>\n",
              "      <td>No</td>\n",
              "      <td>0</td>\n",
              "      <td>166.7</td>\n",
              "      <td>113</td>\n",
              "      <td>28.34</td>\n",
              "      <td>148.3</td>\n",
              "      <td>122</td>\n",
              "      <td>12.61</td>\n",
              "      <td>186.9</td>\n",
              "      <td>121</td>\n",
              "      <td>8.41</td>\n",
              "      <td>10.1</td>\n",
              "      <td>3</td>\n",
              "      <td>2.73</td>\n",
              "      <td>3</td>\n",
              "      <td>False</td>\n",
              "    </tr>\n",
              "  </tbody>\n",
              "</table>\n",
              "</div>"
            ],
            "text/plain": [
              "  State  Account length  Area code International plan Voice mail plan  \\\n",
              "0    KS             128        415                 No             Yes   \n",
              "1    OH             107        415                 No             Yes   \n",
              "2    NJ             137        415                 No              No   \n",
              "3    OH              84        408                Yes              No   \n",
              "4    OK              75        415                Yes              No   \n",
              "\n",
              "   Number vmail messages  Total day minutes  Total day calls  \\\n",
              "0                     25              265.1              110   \n",
              "1                     26              161.6              123   \n",
              "2                      0              243.4              114   \n",
              "3                      0              299.4               71   \n",
              "4                      0              166.7              113   \n",
              "\n",
              "   Total day charge  Total eve minutes  Total eve calls  Total eve charge  \\\n",
              "0             45.07              197.4               99             16.78   \n",
              "1             27.47              195.5              103             16.62   \n",
              "2             41.38              121.2              110             10.30   \n",
              "3             50.90               61.9               88              5.26   \n",
              "4             28.34              148.3              122             12.61   \n",
              "\n",
              "   Total night minutes  Total night calls  Total night charge  \\\n",
              "0                244.7                 91               11.01   \n",
              "1                254.4                103               11.45   \n",
              "2                162.6                104                7.32   \n",
              "3                196.9                 89                8.86   \n",
              "4                186.9                121                8.41   \n",
              "\n",
              "   Total intl minutes  Total intl calls  Total intl charge  \\\n",
              "0                10.0                 3               2.70   \n",
              "1                13.7                 3               3.70   \n",
              "2                12.2                 5               3.29   \n",
              "3                 6.6                 7               1.78   \n",
              "4                10.1                 3               2.73   \n",
              "\n",
              "   Customer service calls  Churn  \n",
              "0                       1  False  \n",
              "1                       1  False  \n",
              "2                       0  False  \n",
              "3                       2  False  \n",
              "4                       3  False  "
            ]
          },
          "metadata": {
            "tags": []
          },
          "execution_count": 5
        }
      ]
    },
    {
      "metadata": {
        "id": "D4X2EWddflN0",
        "colab_type": "code",
        "colab": {
          "base_uri": "https://localhost:8080/",
          "height": 35
        },
        "outputId": "fa0216c2-9d51-49cc-cabf-270eebb6711c"
      },
      "cell_type": "code",
      "source": [
        "print( df.shape)"
      ],
      "execution_count": 6,
      "outputs": [
        {
          "output_type": "stream",
          "text": [
            "(3333, 20)\n"
          ],
          "name": "stdout"
        }
      ]
    },
    {
      "metadata": {
        "id": "2AxSVe0zkoBn",
        "colab_type": "code",
        "colab": {
          "base_uri": "https://localhost:8080/",
          "height": 161
        },
        "outputId": "b62edfff-7553-4ed5-e428-5e3966d4ef25"
      },
      "cell_type": "code",
      "source": [
        "print(df.columns)"
      ],
      "execution_count": 7,
      "outputs": [
        {
          "output_type": "stream",
          "text": [
            "Index(['State', 'Account length', 'Area code', 'International plan',\n",
            "       'Voice mail plan', 'Number vmail messages', 'Total day minutes',\n",
            "       'Total day calls', 'Total day charge', 'Total eve minutes',\n",
            "       'Total eve calls', 'Total eve charge', 'Total night minutes',\n",
            "       'Total night calls', 'Total night charge', 'Total intl minutes',\n",
            "       'Total intl calls', 'Total intl charge', 'Customer service calls',\n",
            "       'Churn'],\n",
            "      dtype='object')\n"
          ],
          "name": "stdout"
        }
      ]
    },
    {
      "metadata": {
        "id": "vbs0hoJVksPP",
        "colab_type": "code",
        "colab": {
          "base_uri": "https://localhost:8080/",
          "height": 485
        },
        "outputId": "60a7ef4f-103a-45de-eed9-cf659018a124"
      },
      "cell_type": "code",
      "source": [
        "print(df.info())"
      ],
      "execution_count": 8,
      "outputs": [
        {
          "output_type": "stream",
          "text": [
            "<class 'pandas.core.frame.DataFrame'>\n",
            "RangeIndex: 3333 entries, 0 to 3332\n",
            "Data columns (total 20 columns):\n",
            "State                     3333 non-null object\n",
            "Account length            3333 non-null int64\n",
            "Area code                 3333 non-null int64\n",
            "International plan        3333 non-null object\n",
            "Voice mail plan           3333 non-null object\n",
            "Number vmail messages     3333 non-null int64\n",
            "Total day minutes         3333 non-null float64\n",
            "Total day calls           3333 non-null int64\n",
            "Total day charge          3333 non-null float64\n",
            "Total eve minutes         3333 non-null float64\n",
            "Total eve calls           3333 non-null int64\n",
            "Total eve charge          3333 non-null float64\n",
            "Total night minutes       3333 non-null float64\n",
            "Total night calls         3333 non-null int64\n",
            "Total night charge        3333 non-null float64\n",
            "Total intl minutes        3333 non-null float64\n",
            "Total intl calls          3333 non-null int64\n",
            "Total intl charge         3333 non-null float64\n",
            "Customer service calls    3333 non-null int64\n",
            "Churn                     3333 non-null bool\n",
            "dtypes: bool(1), float64(8), int64(8), object(3)\n",
            "memory usage: 498.1+ KB\n",
            "None\n"
          ],
          "name": "stdout"
        }
      ]
    },
    {
      "metadata": {
        "id": "folVthrJkvlV",
        "colab_type": "code",
        "colab": {}
      },
      "cell_type": "code",
      "source": [
        "df['Churn'] = df['Churn'].astype('int64')"
      ],
      "execution_count": 0,
      "outputs": []
    },
    {
      "metadata": {
        "id": "4TLdPQr7qUUM",
        "colab_type": "code",
        "colab": {
          "base_uri": "https://localhost:8080/",
          "height": 173
        },
        "outputId": "f0622dfa-080e-4978-f60d-deda86239e14"
      },
      "cell_type": "code",
      "source": [
        "df.describe(include = ['object', 'bool'])"
      ],
      "execution_count": 10,
      "outputs": [
        {
          "output_type": "execute_result",
          "data": {
            "text/html": [
              "<div>\n",
              "<style scoped>\n",
              "    .dataframe tbody tr th:only-of-type {\n",
              "        vertical-align: middle;\n",
              "    }\n",
              "\n",
              "    .dataframe tbody tr th {\n",
              "        vertical-align: top;\n",
              "    }\n",
              "\n",
              "    .dataframe thead th {\n",
              "        text-align: right;\n",
              "    }\n",
              "</style>\n",
              "<table border=\"1\" class=\"dataframe\">\n",
              "  <thead>\n",
              "    <tr style=\"text-align: right;\">\n",
              "      <th></th>\n",
              "      <th>State</th>\n",
              "      <th>International plan</th>\n",
              "      <th>Voice mail plan</th>\n",
              "    </tr>\n",
              "  </thead>\n",
              "  <tbody>\n",
              "    <tr>\n",
              "      <th>count</th>\n",
              "      <td>3333</td>\n",
              "      <td>3333</td>\n",
              "      <td>3333</td>\n",
              "    </tr>\n",
              "    <tr>\n",
              "      <th>unique</th>\n",
              "      <td>51</td>\n",
              "      <td>2</td>\n",
              "      <td>2</td>\n",
              "    </tr>\n",
              "    <tr>\n",
              "      <th>top</th>\n",
              "      <td>WV</td>\n",
              "      <td>No</td>\n",
              "      <td>No</td>\n",
              "    </tr>\n",
              "    <tr>\n",
              "      <th>freq</th>\n",
              "      <td>106</td>\n",
              "      <td>3010</td>\n",
              "      <td>2411</td>\n",
              "    </tr>\n",
              "  </tbody>\n",
              "</table>\n",
              "</div>"
            ],
            "text/plain": [
              "       State International plan Voice mail plan\n",
              "count   3333               3333            3333\n",
              "unique    51                  2               2\n",
              "top       WV                 No              No\n",
              "freq     106               3010            2411"
            ]
          },
          "metadata": {
            "tags": []
          },
          "execution_count": 10
        }
      ]
    },
    {
      "metadata": {
        "id": "j619_K6iqhpl",
        "colab_type": "code",
        "colab": {
          "base_uri": "https://localhost:8080/",
          "height": 71
        },
        "outputId": "e6941c9b-8bf6-4892-f982-d8732acba0d9"
      },
      "cell_type": "code",
      "source": [
        "df['Churn'].value_counts(normalize=True)"
      ],
      "execution_count": 11,
      "outputs": [
        {
          "output_type": "execute_result",
          "data": {
            "text/plain": [
              "0    0.855086\n",
              "1    0.144914\n",
              "Name: Churn, dtype: float64"
            ]
          },
          "metadata": {
            "tags": []
          },
          "execution_count": 11
        }
      ]
    },
    {
      "metadata": {
        "id": "gvppf_hArGj9",
        "colab_type": "code",
        "colab": {
          "base_uri": "https://localhost:8080/",
          "height": 258
        },
        "outputId": "f9a18a7a-88b6-4348-ee09-8889edff61e0"
      },
      "cell_type": "code",
      "source": [
        "df.sort_values(by=['Churn', 'Total day charge'], ascending=[True, False]).head()"
      ],
      "execution_count": 12,
      "outputs": [
        {
          "output_type": "execute_result",
          "data": {
            "text/html": [
              "<div>\n",
              "<style scoped>\n",
              "    .dataframe tbody tr th:only-of-type {\n",
              "        vertical-align: middle;\n",
              "    }\n",
              "\n",
              "    .dataframe tbody tr th {\n",
              "        vertical-align: top;\n",
              "    }\n",
              "\n",
              "    .dataframe thead th {\n",
              "        text-align: right;\n",
              "    }\n",
              "</style>\n",
              "<table border=\"1\" class=\"dataframe\">\n",
              "  <thead>\n",
              "    <tr style=\"text-align: right;\">\n",
              "      <th></th>\n",
              "      <th>State</th>\n",
              "      <th>Account length</th>\n",
              "      <th>Area code</th>\n",
              "      <th>International plan</th>\n",
              "      <th>Voice mail plan</th>\n",
              "      <th>Number vmail messages</th>\n",
              "      <th>Total day minutes</th>\n",
              "      <th>Total day calls</th>\n",
              "      <th>Total day charge</th>\n",
              "      <th>Total eve minutes</th>\n",
              "      <th>Total eve calls</th>\n",
              "      <th>Total eve charge</th>\n",
              "      <th>Total night minutes</th>\n",
              "      <th>Total night calls</th>\n",
              "      <th>Total night charge</th>\n",
              "      <th>Total intl minutes</th>\n",
              "      <th>Total intl calls</th>\n",
              "      <th>Total intl charge</th>\n",
              "      <th>Customer service calls</th>\n",
              "      <th>Churn</th>\n",
              "    </tr>\n",
              "  </thead>\n",
              "  <tbody>\n",
              "    <tr>\n",
              "      <th>688</th>\n",
              "      <td>MN</td>\n",
              "      <td>13</td>\n",
              "      <td>510</td>\n",
              "      <td>No</td>\n",
              "      <td>Yes</td>\n",
              "      <td>21</td>\n",
              "      <td>315.6</td>\n",
              "      <td>105</td>\n",
              "      <td>53.65</td>\n",
              "      <td>208.9</td>\n",
              "      <td>71</td>\n",
              "      <td>17.76</td>\n",
              "      <td>260.1</td>\n",
              "      <td>123</td>\n",
              "      <td>11.70</td>\n",
              "      <td>12.1</td>\n",
              "      <td>3</td>\n",
              "      <td>3.27</td>\n",
              "      <td>3</td>\n",
              "      <td>0</td>\n",
              "    </tr>\n",
              "    <tr>\n",
              "      <th>2259</th>\n",
              "      <td>NC</td>\n",
              "      <td>210</td>\n",
              "      <td>415</td>\n",
              "      <td>No</td>\n",
              "      <td>Yes</td>\n",
              "      <td>31</td>\n",
              "      <td>313.8</td>\n",
              "      <td>87</td>\n",
              "      <td>53.35</td>\n",
              "      <td>147.7</td>\n",
              "      <td>103</td>\n",
              "      <td>12.55</td>\n",
              "      <td>192.7</td>\n",
              "      <td>97</td>\n",
              "      <td>8.67</td>\n",
              "      <td>10.1</td>\n",
              "      <td>7</td>\n",
              "      <td>2.73</td>\n",
              "      <td>3</td>\n",
              "      <td>0</td>\n",
              "    </tr>\n",
              "    <tr>\n",
              "      <th>534</th>\n",
              "      <td>LA</td>\n",
              "      <td>67</td>\n",
              "      <td>510</td>\n",
              "      <td>No</td>\n",
              "      <td>No</td>\n",
              "      <td>0</td>\n",
              "      <td>310.4</td>\n",
              "      <td>97</td>\n",
              "      <td>52.77</td>\n",
              "      <td>66.5</td>\n",
              "      <td>123</td>\n",
              "      <td>5.65</td>\n",
              "      <td>246.5</td>\n",
              "      <td>99</td>\n",
              "      <td>11.09</td>\n",
              "      <td>9.2</td>\n",
              "      <td>10</td>\n",
              "      <td>2.48</td>\n",
              "      <td>4</td>\n",
              "      <td>0</td>\n",
              "    </tr>\n",
              "    <tr>\n",
              "      <th>575</th>\n",
              "      <td>SD</td>\n",
              "      <td>114</td>\n",
              "      <td>415</td>\n",
              "      <td>No</td>\n",
              "      <td>Yes</td>\n",
              "      <td>36</td>\n",
              "      <td>309.9</td>\n",
              "      <td>90</td>\n",
              "      <td>52.68</td>\n",
              "      <td>200.3</td>\n",
              "      <td>89</td>\n",
              "      <td>17.03</td>\n",
              "      <td>183.5</td>\n",
              "      <td>105</td>\n",
              "      <td>8.26</td>\n",
              "      <td>14.2</td>\n",
              "      <td>2</td>\n",
              "      <td>3.83</td>\n",
              "      <td>1</td>\n",
              "      <td>0</td>\n",
              "    </tr>\n",
              "    <tr>\n",
              "      <th>2858</th>\n",
              "      <td>AL</td>\n",
              "      <td>141</td>\n",
              "      <td>510</td>\n",
              "      <td>No</td>\n",
              "      <td>Yes</td>\n",
              "      <td>28</td>\n",
              "      <td>308.0</td>\n",
              "      <td>123</td>\n",
              "      <td>52.36</td>\n",
              "      <td>247.8</td>\n",
              "      <td>128</td>\n",
              "      <td>21.06</td>\n",
              "      <td>152.9</td>\n",
              "      <td>103</td>\n",
              "      <td>6.88</td>\n",
              "      <td>7.4</td>\n",
              "      <td>3</td>\n",
              "      <td>2.00</td>\n",
              "      <td>1</td>\n",
              "      <td>0</td>\n",
              "    </tr>\n",
              "  </tbody>\n",
              "</table>\n",
              "</div>"
            ],
            "text/plain": [
              "     State  Account length  Area code International plan Voice mail plan  \\\n",
              "688     MN              13        510                 No             Yes   \n",
              "2259    NC             210        415                 No             Yes   \n",
              "534     LA              67        510                 No              No   \n",
              "575     SD             114        415                 No             Yes   \n",
              "2858    AL             141        510                 No             Yes   \n",
              "\n",
              "      Number vmail messages  Total day minutes  Total day calls  \\\n",
              "688                      21              315.6              105   \n",
              "2259                     31              313.8               87   \n",
              "534                       0              310.4               97   \n",
              "575                      36              309.9               90   \n",
              "2858                     28              308.0              123   \n",
              "\n",
              "      Total day charge  Total eve minutes  Total eve calls  Total eve charge  \\\n",
              "688              53.65              208.9               71             17.76   \n",
              "2259             53.35              147.7              103             12.55   \n",
              "534              52.77               66.5              123              5.65   \n",
              "575              52.68              200.3               89             17.03   \n",
              "2858             52.36              247.8              128             21.06   \n",
              "\n",
              "      Total night minutes  Total night calls  Total night charge  \\\n",
              "688                 260.1                123               11.70   \n",
              "2259                192.7                 97                8.67   \n",
              "534                 246.5                 99               11.09   \n",
              "575                 183.5                105                8.26   \n",
              "2858                152.9                103                6.88   \n",
              "\n",
              "      Total intl minutes  Total intl calls  Total intl charge  \\\n",
              "688                 12.1                 3               3.27   \n",
              "2259                10.1                 7               2.73   \n",
              "534                  9.2                10               2.48   \n",
              "575                 14.2                 2               3.83   \n",
              "2858                 7.4                 3               2.00   \n",
              "\n",
              "      Customer service calls  Churn  \n",
              "688                        3      0  \n",
              "2259                       3      0  \n",
              "534                        4      0  \n",
              "575                        1      0  \n",
              "2858                       1      0  "
            ]
          },
          "metadata": {
            "tags": []
          },
          "execution_count": 12
        }
      ]
    },
    {
      "metadata": {
        "id": "qU_K3d9vyfko",
        "colab_type": "code",
        "colab": {
          "base_uri": "https://localhost:8080/",
          "height": 35
        },
        "outputId": "633ace54-47be-4d4b-fd30-f5f547023935"
      },
      "cell_type": "code",
      "source": [
        "df['Total day charge'].mean()\n"
      ],
      "execution_count": 13,
      "outputs": [
        {
          "output_type": "execute_result",
          "data": {
            "text/plain": [
              "30.562307230723075"
            ]
          },
          "metadata": {
            "tags": []
          },
          "execution_count": 13
        }
      ]
    },
    {
      "metadata": {
        "id": "N2uudHNa0oE4",
        "colab_type": "code",
        "colab": {
          "base_uri": "https://localhost:8080/",
          "height": 35
        },
        "outputId": "67f46773-fa37-44ca-c71f-b8379fdc7788"
      },
      "cell_type": "code",
      "source": [
        "df['Churn'].mean()"
      ],
      "execution_count": 14,
      "outputs": [
        {
          "output_type": "execute_result",
          "data": {
            "text/plain": [
              "0.14491449144914492"
            ]
          },
          "metadata": {
            "tags": []
          },
          "execution_count": 14
        }
      ]
    },
    {
      "metadata": {
        "id": "iJ-Jj_hB1Fan",
        "colab_type": "code",
        "colab": {
          "base_uri": "https://localhost:8080/",
          "height": 341
        },
        "outputId": "e2b2f7ca-7b14-4121-a708-5184e235ab63"
      },
      "cell_type": "code",
      "source": [
        "df[df['Churn'] == 1].mean()"
      ],
      "execution_count": 15,
      "outputs": [
        {
          "output_type": "execute_result",
          "data": {
            "text/plain": [
              "Account length            102.664596\n",
              "Area code                 437.817805\n",
              "Number vmail messages       5.115942\n",
              "Total day minutes         206.914079\n",
              "Total day calls           101.335404\n",
              "Total day charge           35.175921\n",
              "Total eve minutes         212.410145\n",
              "Total eve calls           100.561077\n",
              "Total eve charge           18.054969\n",
              "Total night minutes       205.231677\n",
              "Total night calls         100.399586\n",
              "Total night charge          9.235528\n",
              "Total intl minutes         10.700000\n",
              "Total intl calls            4.163561\n",
              "Total intl charge           2.889545\n",
              "Customer service calls      2.229814\n",
              "Churn                       1.000000\n",
              "dtype: float64"
            ]
          },
          "metadata": {
            "tags": []
          },
          "execution_count": 15
        }
      ]
    },
    {
      "metadata": {
        "id": "Enu6-NLy1T0O",
        "colab_type": "code",
        "colab": {
          "base_uri": "https://localhost:8080/",
          "height": 35
        },
        "outputId": "c5caded6-ebec-4eec-8751-d6d3c1142434"
      },
      "cell_type": "code",
      "source": [
        "df[df['Churn'] == 1]['Total day minutes'].mean()"
      ],
      "execution_count": 16,
      "outputs": [
        {
          "output_type": "execute_result",
          "data": {
            "text/plain": [
              "206.91407867494823"
            ]
          },
          "metadata": {
            "tags": []
          },
          "execution_count": 16
        }
      ]
    },
    {
      "metadata": {
        "id": "IUTgOh5a1qdw",
        "colab_type": "code",
        "colab": {
          "base_uri": "https://localhost:8080/",
          "height": 35
        },
        "outputId": "1ddfbd2d-0c0f-4b68-b033-083d6ec429b3"
      },
      "cell_type": "code",
      "source": [
        "df[(df['Churn'] == 0) & (df['International plan'] == 'No')]['Total intl minutes'].mean()\n"
      ],
      "execution_count": 17,
      "outputs": [
        {
          "output_type": "execute_result",
          "data": {
            "text/plain": [
              "10.185472972972972"
            ]
          },
          "metadata": {
            "tags": []
          },
          "execution_count": 17
        }
      ]
    },
    {
      "metadata": {
        "id": "hInXjb571u4q",
        "colab_type": "code",
        "colab": {
          "base_uri": "https://localhost:8080/",
          "height": 390
        },
        "outputId": "dcf06e59-5779-4521-dded-d496e5a4d256"
      },
      "cell_type": "code",
      "source": [
        "df.loc[0:10, 'State':'Area code']"
      ],
      "execution_count": 19,
      "outputs": [
        {
          "output_type": "execute_result",
          "data": {
            "text/html": [
              "<div>\n",
              "<style scoped>\n",
              "    .dataframe tbody tr th:only-of-type {\n",
              "        vertical-align: middle;\n",
              "    }\n",
              "\n",
              "    .dataframe tbody tr th {\n",
              "        vertical-align: top;\n",
              "    }\n",
              "\n",
              "    .dataframe thead th {\n",
              "        text-align: right;\n",
              "    }\n",
              "</style>\n",
              "<table border=\"1\" class=\"dataframe\">\n",
              "  <thead>\n",
              "    <tr style=\"text-align: right;\">\n",
              "      <th></th>\n",
              "      <th>State</th>\n",
              "      <th>Account length</th>\n",
              "      <th>Area code</th>\n",
              "    </tr>\n",
              "  </thead>\n",
              "  <tbody>\n",
              "    <tr>\n",
              "      <th>0</th>\n",
              "      <td>KS</td>\n",
              "      <td>128</td>\n",
              "      <td>415</td>\n",
              "    </tr>\n",
              "    <tr>\n",
              "      <th>1</th>\n",
              "      <td>OH</td>\n",
              "      <td>107</td>\n",
              "      <td>415</td>\n",
              "    </tr>\n",
              "    <tr>\n",
              "      <th>2</th>\n",
              "      <td>NJ</td>\n",
              "      <td>137</td>\n",
              "      <td>415</td>\n",
              "    </tr>\n",
              "    <tr>\n",
              "      <th>3</th>\n",
              "      <td>OH</td>\n",
              "      <td>84</td>\n",
              "      <td>408</td>\n",
              "    </tr>\n",
              "    <tr>\n",
              "      <th>4</th>\n",
              "      <td>OK</td>\n",
              "      <td>75</td>\n",
              "      <td>415</td>\n",
              "    </tr>\n",
              "    <tr>\n",
              "      <th>5</th>\n",
              "      <td>AL</td>\n",
              "      <td>118</td>\n",
              "      <td>510</td>\n",
              "    </tr>\n",
              "    <tr>\n",
              "      <th>6</th>\n",
              "      <td>MA</td>\n",
              "      <td>121</td>\n",
              "      <td>510</td>\n",
              "    </tr>\n",
              "    <tr>\n",
              "      <th>7</th>\n",
              "      <td>MO</td>\n",
              "      <td>147</td>\n",
              "      <td>415</td>\n",
              "    </tr>\n",
              "    <tr>\n",
              "      <th>8</th>\n",
              "      <td>LA</td>\n",
              "      <td>117</td>\n",
              "      <td>408</td>\n",
              "    </tr>\n",
              "    <tr>\n",
              "      <th>9</th>\n",
              "      <td>WV</td>\n",
              "      <td>141</td>\n",
              "      <td>415</td>\n",
              "    </tr>\n",
              "    <tr>\n",
              "      <th>10</th>\n",
              "      <td>IN</td>\n",
              "      <td>65</td>\n",
              "      <td>415</td>\n",
              "    </tr>\n",
              "  </tbody>\n",
              "</table>\n",
              "</div>"
            ],
            "text/plain": [
              "   State  Account length  Area code\n",
              "0     KS             128        415\n",
              "1     OH             107        415\n",
              "2     NJ             137        415\n",
              "3     OH              84        408\n",
              "4     OK              75        415\n",
              "5     AL             118        510\n",
              "6     MA             121        510\n",
              "7     MO             147        415\n",
              "8     LA             117        408\n",
              "9     WV             141        415\n",
              "10    IN              65        415"
            ]
          },
          "metadata": {
            "tags": []
          },
          "execution_count": 19
        }
      ]
    },
    {
      "metadata": {
        "id": "46QFKQEh1-Bw",
        "colab_type": "code",
        "colab": {
          "base_uri": "https://localhost:8080/",
          "height": 204
        },
        "outputId": "37cc227f-bfe5-402a-b4f4-2359666a13ac"
      },
      "cell_type": "code",
      "source": [
        "df.iloc[0:5, 0:6]"
      ],
      "execution_count": 20,
      "outputs": [
        {
          "output_type": "execute_result",
          "data": {
            "text/html": [
              "<div>\n",
              "<style scoped>\n",
              "    .dataframe tbody tr th:only-of-type {\n",
              "        vertical-align: middle;\n",
              "    }\n",
              "\n",
              "    .dataframe tbody tr th {\n",
              "        vertical-align: top;\n",
              "    }\n",
              "\n",
              "    .dataframe thead th {\n",
              "        text-align: right;\n",
              "    }\n",
              "</style>\n",
              "<table border=\"1\" class=\"dataframe\">\n",
              "  <thead>\n",
              "    <tr style=\"text-align: right;\">\n",
              "      <th></th>\n",
              "      <th>State</th>\n",
              "      <th>Account length</th>\n",
              "      <th>Area code</th>\n",
              "      <th>International plan</th>\n",
              "      <th>Voice mail plan</th>\n",
              "      <th>Number vmail messages</th>\n",
              "    </tr>\n",
              "  </thead>\n",
              "  <tbody>\n",
              "    <tr>\n",
              "      <th>0</th>\n",
              "      <td>KS</td>\n",
              "      <td>128</td>\n",
              "      <td>415</td>\n",
              "      <td>No</td>\n",
              "      <td>Yes</td>\n",
              "      <td>25</td>\n",
              "    </tr>\n",
              "    <tr>\n",
              "      <th>1</th>\n",
              "      <td>OH</td>\n",
              "      <td>107</td>\n",
              "      <td>415</td>\n",
              "      <td>No</td>\n",
              "      <td>Yes</td>\n",
              "      <td>26</td>\n",
              "    </tr>\n",
              "    <tr>\n",
              "      <th>2</th>\n",
              "      <td>NJ</td>\n",
              "      <td>137</td>\n",
              "      <td>415</td>\n",
              "      <td>No</td>\n",
              "      <td>No</td>\n",
              "      <td>0</td>\n",
              "    </tr>\n",
              "    <tr>\n",
              "      <th>3</th>\n",
              "      <td>OH</td>\n",
              "      <td>84</td>\n",
              "      <td>408</td>\n",
              "      <td>Yes</td>\n",
              "      <td>No</td>\n",
              "      <td>0</td>\n",
              "    </tr>\n",
              "    <tr>\n",
              "      <th>4</th>\n",
              "      <td>OK</td>\n",
              "      <td>75</td>\n",
              "      <td>415</td>\n",
              "      <td>Yes</td>\n",
              "      <td>No</td>\n",
              "      <td>0</td>\n",
              "    </tr>\n",
              "  </tbody>\n",
              "</table>\n",
              "</div>"
            ],
            "text/plain": [
              "  State  Account length  Area code International plan Voice mail plan  \\\n",
              "0    KS             128        415                 No             Yes   \n",
              "1    OH             107        415                 No             Yes   \n",
              "2    NJ             137        415                 No              No   \n",
              "3    OH              84        408                Yes              No   \n",
              "4    OK              75        415                Yes              No   \n",
              "\n",
              "   Number vmail messages  \n",
              "0                     25  \n",
              "1                     26  \n",
              "2                      0  \n",
              "3                      0  \n",
              "4                      0  "
            ]
          },
          "metadata": {
            "tags": []
          },
          "execution_count": 20
        }
      ]
    },
    {
      "metadata": {
        "id": "9P6gG5H4n8Xx",
        "colab_type": "code",
        "colab": {
          "base_uri": "https://localhost:8080/",
          "height": 134
        },
        "outputId": "21753e17-9a54-4ddc-e5f5-cba223a38492"
      },
      "cell_type": "code",
      "source": [
        "\n",
        "df[-1:]"
      ],
      "execution_count": 23,
      "outputs": [
        {
          "output_type": "execute_result",
          "data": {
            "text/html": [
              "<div>\n",
              "<style scoped>\n",
              "    .dataframe tbody tr th:only-of-type {\n",
              "        vertical-align: middle;\n",
              "    }\n",
              "\n",
              "    .dataframe tbody tr th {\n",
              "        vertical-align: top;\n",
              "    }\n",
              "\n",
              "    .dataframe thead th {\n",
              "        text-align: right;\n",
              "    }\n",
              "</style>\n",
              "<table border=\"1\" class=\"dataframe\">\n",
              "  <thead>\n",
              "    <tr style=\"text-align: right;\">\n",
              "      <th></th>\n",
              "      <th>State</th>\n",
              "      <th>Account length</th>\n",
              "      <th>Area code</th>\n",
              "      <th>International plan</th>\n",
              "      <th>Voice mail plan</th>\n",
              "      <th>Number vmail messages</th>\n",
              "      <th>Total day minutes</th>\n",
              "      <th>Total day calls</th>\n",
              "      <th>Total day charge</th>\n",
              "      <th>Total eve minutes</th>\n",
              "      <th>Total eve calls</th>\n",
              "      <th>Total eve charge</th>\n",
              "      <th>Total night minutes</th>\n",
              "      <th>Total night calls</th>\n",
              "      <th>Total night charge</th>\n",
              "      <th>Total intl minutes</th>\n",
              "      <th>Total intl calls</th>\n",
              "      <th>Total intl charge</th>\n",
              "      <th>Customer service calls</th>\n",
              "      <th>Churn</th>\n",
              "    </tr>\n",
              "  </thead>\n",
              "  <tbody>\n",
              "    <tr>\n",
              "      <th>3332</th>\n",
              "      <td>TN</td>\n",
              "      <td>74</td>\n",
              "      <td>415</td>\n",
              "      <td>No</td>\n",
              "      <td>Yes</td>\n",
              "      <td>25</td>\n",
              "      <td>234.4</td>\n",
              "      <td>113</td>\n",
              "      <td>39.85</td>\n",
              "      <td>265.9</td>\n",
              "      <td>82</td>\n",
              "      <td>22.6</td>\n",
              "      <td>241.4</td>\n",
              "      <td>77</td>\n",
              "      <td>10.86</td>\n",
              "      <td>13.7</td>\n",
              "      <td>4</td>\n",
              "      <td>3.7</td>\n",
              "      <td>0</td>\n",
              "      <td>0</td>\n",
              "    </tr>\n",
              "  </tbody>\n",
              "</table>\n",
              "</div>"
            ],
            "text/plain": [
              "     State  Account length  Area code International plan Voice mail plan  \\\n",
              "3332    TN              74        415                 No             Yes   \n",
              "\n",
              "      Number vmail messages  Total day minutes  Total day calls  \\\n",
              "3332                     25              234.4              113   \n",
              "\n",
              "      Total day charge  Total eve minutes  Total eve calls  Total eve charge  \\\n",
              "3332             39.85              265.9               82              22.6   \n",
              "\n",
              "      Total night minutes  Total night calls  Total night charge  \\\n",
              "3332                241.4                 77               10.86   \n",
              "\n",
              "      Total intl minutes  Total intl calls  Total intl charge  \\\n",
              "3332                13.7                 4                3.7   \n",
              "\n",
              "      Customer service calls  Churn  \n",
              "3332                       0      0  "
            ]
          },
          "metadata": {
            "tags": []
          },
          "execution_count": 23
        }
      ]
    },
    {
      "metadata": {
        "id": "o5frIeVkoBLS",
        "colab_type": "code",
        "colab": {
          "base_uri": "https://localhost:8080/",
          "height": 395
        },
        "outputId": "8c925a59-8963-4908-e1a3-908fbb11370d"
      },
      "cell_type": "code",
      "source": [
        "df.apply(np.min) "
      ],
      "execution_count": 26,
      "outputs": [
        {
          "output_type": "execute_result",
          "data": {
            "text/plain": [
              "State                       AK\n",
              "Account length               1\n",
              "Area code                  408\n",
              "International plan          No\n",
              "Voice mail plan             No\n",
              "Number vmail messages        0\n",
              "Total day minutes            0\n",
              "Total day calls              0\n",
              "Total day charge             0\n",
              "Total eve minutes            0\n",
              "Total eve calls              0\n",
              "Total eve charge             0\n",
              "Total night minutes       23.2\n",
              "Total night calls           33\n",
              "Total night charge        1.04\n",
              "Total intl minutes           0\n",
              "Total intl calls             0\n",
              "Total intl charge            0\n",
              "Customer service calls       0\n",
              "Churn                        0\n",
              "dtype: object"
            ]
          },
          "metadata": {
            "tags": []
          },
          "execution_count": 26
        }
      ]
    },
    {
      "metadata": {
        "id": "ri0UHQEcoSyz",
        "colab_type": "code",
        "colab": {
          "base_uri": "https://localhost:8080/",
          "height": 258
        },
        "outputId": "af829614-b8c7-4975-9ed7-2d7e024cd7bf"
      },
      "cell_type": "code",
      "source": [
        "df[df['State'].apply(lambda state: state[0] == 'W')].head()"
      ],
      "execution_count": 27,
      "outputs": [
        {
          "output_type": "execute_result",
          "data": {
            "text/html": [
              "<div>\n",
              "<style scoped>\n",
              "    .dataframe tbody tr th:only-of-type {\n",
              "        vertical-align: middle;\n",
              "    }\n",
              "\n",
              "    .dataframe tbody tr th {\n",
              "        vertical-align: top;\n",
              "    }\n",
              "\n",
              "    .dataframe thead th {\n",
              "        text-align: right;\n",
              "    }\n",
              "</style>\n",
              "<table border=\"1\" class=\"dataframe\">\n",
              "  <thead>\n",
              "    <tr style=\"text-align: right;\">\n",
              "      <th></th>\n",
              "      <th>State</th>\n",
              "      <th>Account length</th>\n",
              "      <th>Area code</th>\n",
              "      <th>International plan</th>\n",
              "      <th>Voice mail plan</th>\n",
              "      <th>Number vmail messages</th>\n",
              "      <th>Total day minutes</th>\n",
              "      <th>Total day calls</th>\n",
              "      <th>Total day charge</th>\n",
              "      <th>Total eve minutes</th>\n",
              "      <th>Total eve calls</th>\n",
              "      <th>Total eve charge</th>\n",
              "      <th>Total night minutes</th>\n",
              "      <th>Total night calls</th>\n",
              "      <th>Total night charge</th>\n",
              "      <th>Total intl minutes</th>\n",
              "      <th>Total intl calls</th>\n",
              "      <th>Total intl charge</th>\n",
              "      <th>Customer service calls</th>\n",
              "      <th>Churn</th>\n",
              "    </tr>\n",
              "  </thead>\n",
              "  <tbody>\n",
              "    <tr>\n",
              "      <th>9</th>\n",
              "      <td>WV</td>\n",
              "      <td>141</td>\n",
              "      <td>415</td>\n",
              "      <td>Yes</td>\n",
              "      <td>Yes</td>\n",
              "      <td>37</td>\n",
              "      <td>258.6</td>\n",
              "      <td>84</td>\n",
              "      <td>43.96</td>\n",
              "      <td>222.0</td>\n",
              "      <td>111</td>\n",
              "      <td>18.87</td>\n",
              "      <td>326.4</td>\n",
              "      <td>97</td>\n",
              "      <td>14.69</td>\n",
              "      <td>11.2</td>\n",
              "      <td>5</td>\n",
              "      <td>3.02</td>\n",
              "      <td>0</td>\n",
              "      <td>0</td>\n",
              "    </tr>\n",
              "    <tr>\n",
              "      <th>26</th>\n",
              "      <td>WY</td>\n",
              "      <td>57</td>\n",
              "      <td>408</td>\n",
              "      <td>No</td>\n",
              "      <td>Yes</td>\n",
              "      <td>39</td>\n",
              "      <td>213.0</td>\n",
              "      <td>115</td>\n",
              "      <td>36.21</td>\n",
              "      <td>191.1</td>\n",
              "      <td>112</td>\n",
              "      <td>16.24</td>\n",
              "      <td>182.7</td>\n",
              "      <td>115</td>\n",
              "      <td>8.22</td>\n",
              "      <td>9.5</td>\n",
              "      <td>3</td>\n",
              "      <td>2.57</td>\n",
              "      <td>0</td>\n",
              "      <td>0</td>\n",
              "    </tr>\n",
              "    <tr>\n",
              "      <th>44</th>\n",
              "      <td>WI</td>\n",
              "      <td>64</td>\n",
              "      <td>510</td>\n",
              "      <td>No</td>\n",
              "      <td>No</td>\n",
              "      <td>0</td>\n",
              "      <td>154.0</td>\n",
              "      <td>67</td>\n",
              "      <td>26.18</td>\n",
              "      <td>225.8</td>\n",
              "      <td>118</td>\n",
              "      <td>19.19</td>\n",
              "      <td>265.3</td>\n",
              "      <td>86</td>\n",
              "      <td>11.94</td>\n",
              "      <td>3.5</td>\n",
              "      <td>3</td>\n",
              "      <td>0.95</td>\n",
              "      <td>1</td>\n",
              "      <td>0</td>\n",
              "    </tr>\n",
              "    <tr>\n",
              "      <th>49</th>\n",
              "      <td>WY</td>\n",
              "      <td>97</td>\n",
              "      <td>415</td>\n",
              "      <td>No</td>\n",
              "      <td>Yes</td>\n",
              "      <td>24</td>\n",
              "      <td>133.2</td>\n",
              "      <td>135</td>\n",
              "      <td>22.64</td>\n",
              "      <td>217.2</td>\n",
              "      <td>58</td>\n",
              "      <td>18.46</td>\n",
              "      <td>70.6</td>\n",
              "      <td>79</td>\n",
              "      <td>3.18</td>\n",
              "      <td>11.0</td>\n",
              "      <td>3</td>\n",
              "      <td>2.97</td>\n",
              "      <td>1</td>\n",
              "      <td>0</td>\n",
              "    </tr>\n",
              "    <tr>\n",
              "      <th>54</th>\n",
              "      <td>WY</td>\n",
              "      <td>87</td>\n",
              "      <td>415</td>\n",
              "      <td>No</td>\n",
              "      <td>No</td>\n",
              "      <td>0</td>\n",
              "      <td>151.0</td>\n",
              "      <td>83</td>\n",
              "      <td>25.67</td>\n",
              "      <td>219.7</td>\n",
              "      <td>116</td>\n",
              "      <td>18.67</td>\n",
              "      <td>203.9</td>\n",
              "      <td>127</td>\n",
              "      <td>9.18</td>\n",
              "      <td>9.7</td>\n",
              "      <td>3</td>\n",
              "      <td>2.62</td>\n",
              "      <td>5</td>\n",
              "      <td>1</td>\n",
              "    </tr>\n",
              "  </tbody>\n",
              "</table>\n",
              "</div>"
            ],
            "text/plain": [
              "   State  Account length  Area code International plan Voice mail plan  \\\n",
              "9     WV             141        415                Yes             Yes   \n",
              "26    WY              57        408                 No             Yes   \n",
              "44    WI              64        510                 No              No   \n",
              "49    WY              97        415                 No             Yes   \n",
              "54    WY              87        415                 No              No   \n",
              "\n",
              "    Number vmail messages  Total day minutes  Total day calls  \\\n",
              "9                      37              258.6               84   \n",
              "26                     39              213.0              115   \n",
              "44                      0              154.0               67   \n",
              "49                     24              133.2              135   \n",
              "54                      0              151.0               83   \n",
              "\n",
              "    Total day charge  Total eve minutes  Total eve calls  Total eve charge  \\\n",
              "9              43.96              222.0              111             18.87   \n",
              "26             36.21              191.1              112             16.24   \n",
              "44             26.18              225.8              118             19.19   \n",
              "49             22.64              217.2               58             18.46   \n",
              "54             25.67              219.7              116             18.67   \n",
              "\n",
              "    Total night minutes  Total night calls  Total night charge  \\\n",
              "9                 326.4                 97               14.69   \n",
              "26                182.7                115                8.22   \n",
              "44                265.3                 86               11.94   \n",
              "49                 70.6                 79                3.18   \n",
              "54                203.9                127                9.18   \n",
              "\n",
              "    Total intl minutes  Total intl calls  Total intl charge  \\\n",
              "9                 11.2                 5               3.02   \n",
              "26                 9.5                 3               2.57   \n",
              "44                 3.5                 3               0.95   \n",
              "49                11.0                 3               2.97   \n",
              "54                 9.7                 3               2.62   \n",
              "\n",
              "    Customer service calls  Churn  \n",
              "9                        0      0  \n",
              "26                       0      0  \n",
              "44                       1      0  \n",
              "49                       1      0  \n",
              "54                       5      1  "
            ]
          },
          "metadata": {
            "tags": []
          },
          "execution_count": 27
        }
      ]
    },
    {
      "metadata": {
        "id": "r0NySA9bocel",
        "colab_type": "code",
        "colab": {
          "base_uri": "https://localhost:8080/",
          "height": 193
        },
        "outputId": "ab37a473-ffc5-4bab-8023-449be632a4c1"
      },
      "cell_type": "code",
      "source": [
        "columns_to_show = ['Total day minutes', 'Total eve minutes', \n",
        "                   'Total night minutes']\n",
        "\n",
        "df.groupby(['Churn'])[columns_to_show].describe(percentiles=[])"
      ],
      "execution_count": 33,
      "outputs": [
        {
          "output_type": "execute_result",
          "data": {
            "text/html": [
              "<div>\n",
              "<style scoped>\n",
              "    .dataframe tbody tr th:only-of-type {\n",
              "        vertical-align: middle;\n",
              "    }\n",
              "\n",
              "    .dataframe tbody tr th {\n",
              "        vertical-align: top;\n",
              "    }\n",
              "\n",
              "    .dataframe thead tr th {\n",
              "        text-align: left;\n",
              "    }\n",
              "\n",
              "    .dataframe thead tr:last-of-type th {\n",
              "        text-align: right;\n",
              "    }\n",
              "</style>\n",
              "<table border=\"1\" class=\"dataframe\">\n",
              "  <thead>\n",
              "    <tr>\n",
              "      <th></th>\n",
              "      <th colspan=\"6\" halign=\"left\">Total day minutes</th>\n",
              "      <th colspan=\"6\" halign=\"left\">Total eve minutes</th>\n",
              "      <th colspan=\"6\" halign=\"left\">Total night minutes</th>\n",
              "    </tr>\n",
              "    <tr>\n",
              "      <th></th>\n",
              "      <th>count</th>\n",
              "      <th>mean</th>\n",
              "      <th>std</th>\n",
              "      <th>min</th>\n",
              "      <th>50%</th>\n",
              "      <th>max</th>\n",
              "      <th>count</th>\n",
              "      <th>mean</th>\n",
              "      <th>std</th>\n",
              "      <th>min</th>\n",
              "      <th>50%</th>\n",
              "      <th>max</th>\n",
              "      <th>count</th>\n",
              "      <th>mean</th>\n",
              "      <th>std</th>\n",
              "      <th>min</th>\n",
              "      <th>50%</th>\n",
              "      <th>max</th>\n",
              "    </tr>\n",
              "    <tr>\n",
              "      <th>Churn</th>\n",
              "      <th></th>\n",
              "      <th></th>\n",
              "      <th></th>\n",
              "      <th></th>\n",
              "      <th></th>\n",
              "      <th></th>\n",
              "      <th></th>\n",
              "      <th></th>\n",
              "      <th></th>\n",
              "      <th></th>\n",
              "      <th></th>\n",
              "      <th></th>\n",
              "      <th></th>\n",
              "      <th></th>\n",
              "      <th></th>\n",
              "      <th></th>\n",
              "      <th></th>\n",
              "      <th></th>\n",
              "    </tr>\n",
              "  </thead>\n",
              "  <tbody>\n",
              "    <tr>\n",
              "      <th>0</th>\n",
              "      <td>2850.0</td>\n",
              "      <td>175.175754</td>\n",
              "      <td>50.181655</td>\n",
              "      <td>0.0</td>\n",
              "      <td>177.2</td>\n",
              "      <td>315.6</td>\n",
              "      <td>2850.0</td>\n",
              "      <td>199.043298</td>\n",
              "      <td>50.292175</td>\n",
              "      <td>0.0</td>\n",
              "      <td>199.6</td>\n",
              "      <td>361.8</td>\n",
              "      <td>2850.0</td>\n",
              "      <td>200.133193</td>\n",
              "      <td>51.105032</td>\n",
              "      <td>23.2</td>\n",
              "      <td>200.25</td>\n",
              "      <td>395.0</td>\n",
              "    </tr>\n",
              "    <tr>\n",
              "      <th>1</th>\n",
              "      <td>483.0</td>\n",
              "      <td>206.914079</td>\n",
              "      <td>68.997792</td>\n",
              "      <td>0.0</td>\n",
              "      <td>217.6</td>\n",
              "      <td>350.8</td>\n",
              "      <td>483.0</td>\n",
              "      <td>212.410145</td>\n",
              "      <td>51.728910</td>\n",
              "      <td>70.9</td>\n",
              "      <td>211.3</td>\n",
              "      <td>363.7</td>\n",
              "      <td>483.0</td>\n",
              "      <td>205.231677</td>\n",
              "      <td>47.132825</td>\n",
              "      <td>47.4</td>\n",
              "      <td>204.80</td>\n",
              "      <td>354.9</td>\n",
              "    </tr>\n",
              "  </tbody>\n",
              "</table>\n",
              "</div>"
            ],
            "text/plain": [
              "      Total day minutes                                            \\\n",
              "                  count        mean        std  min    50%    max   \n",
              "Churn                                                               \n",
              "0                2850.0  175.175754  50.181655  0.0  177.2  315.6   \n",
              "1                 483.0  206.914079  68.997792  0.0  217.6  350.8   \n",
              "\n",
              "      Total eve minutes                                             \\\n",
              "                  count        mean        std   min    50%    max   \n",
              "Churn                                                                \n",
              "0                2850.0  199.043298  50.292175   0.0  199.6  361.8   \n",
              "1                 483.0  212.410145  51.728910  70.9  211.3  363.7   \n",
              "\n",
              "      Total night minutes                                              \n",
              "                    count        mean        std   min     50%    max  \n",
              "Churn                                                                  \n",
              "0                  2850.0  200.133193  51.105032  23.2  200.25  395.0  \n",
              "1                   483.0  205.231677  47.132825  47.4  204.80  354.9  "
            ]
          },
          "metadata": {
            "tags": []
          },
          "execution_count": 33
        }
      ]
    },
    {
      "metadata": {
        "id": "wwUOLctOooZX",
        "colab_type": "code",
        "colab": {}
      },
      "cell_type": "code",
      "source": [
        ""
      ],
      "execution_count": 0,
      "outputs": []
    }
  ]
}