{
  "nbformat": 4,
  "nbformat_minor": 0,
  "metadata": {
    "colab": {
      "name": "fastai_dl6_sgd.ipynb",
      "version": "0.3.2",
      "provenance": [],
      "collapsed_sections": [],
      "include_colab_link": true
    },
    "kernelspec": {
      "name": "python3",
      "display_name": "Python 3"
    },
    "accelerator": "GPU"
  },
  "cells": [
    {
      "cell_type": "markdown",
      "metadata": {
        "id": "view-in-github",
        "colab_type": "text"
      },
      "source": [
        "<a href=\"https://colab.research.google.com/github/ssttv/ml-resources/blob/master/fastai_dl6_sgd.ipynb\" target=\"_parent\"><img src=\"https://colab.research.google.com/assets/colab-badge.svg\" alt=\"Open In Colab\"/></a>"
      ]
    },
    {
      "metadata": {
        "id": "7cnW_u1z2b6A",
        "colab_type": "code",
        "colab": {}
      },
      "cell_type": "code",
      "source": [
        "!apt-get install -y -qq software-properties-common module-init-tools\n",
        "!add-apt-repository -y ppa:alessandro-strada/ppa 2>&1 > /dev/null\n",
        "!apt-get update -qq 2>&1 > /dev/null\n",
        "!apt-get -y install -qq google-drive-ocamlfuse fuse\n",
        "from google.colab import auth\n",
        "auth.authenticate_user()\n",
        "from oauth2client.client import GoogleCredentials\n",
        "creds = GoogleCredentials.get_application_default()\n",
        "import getpass\n",
        "!google-drive-ocamlfuse -headless -id={creds.client_id} -secret={creds.client_secret} < /dev/null 2>&1 | grep URL\n",
        "vcode = getpass.getpass()\n",
        "!echo {vcode} | google-drive-ocamlfuse -headless -id={creds.client_id} -secret={creds.client_secret}"
      ],
      "execution_count": 0,
      "outputs": []
    },
    {
      "metadata": {
        "id": "h8cOIiah2jJ4",
        "colab_type": "code",
        "colab": {}
      },
      "cell_type": "code",
      "source": [
        "!mkdir -p drive\n",
        "!google-drive-ocamlfuse drive"
      ],
      "execution_count": 0,
      "outputs": []
    },
    {
      "metadata": {
        "id": "7XAVsbkVrR0O",
        "colab_type": "code",
        "colab": {}
      },
      "cell_type": "code",
      "source": [
        "!pip3 install fastai==0.7.0"
      ],
      "execution_count": 0,
      "outputs": []
    },
    {
      "metadata": {
        "id": "wtjwYT1cwNV2",
        "colab_type": "code",
        "colab": {}
      },
      "cell_type": "code",
      "source": [
        "!pip3 install torchtext==0.2.3"
      ],
      "execution_count": 0,
      "outputs": []
    },
    {
      "metadata": {
        "id": "9dvQazSY1I1p",
        "colab_type": "code",
        "colab": {}
      },
      "cell_type": "code",
      "source": [
        "%matplotlib inline\n",
        "from fastai.learner import *"
      ],
      "execution_count": 0,
      "outputs": []
    },
    {
      "metadata": {
        "id": "wS6QZVgF1y_0",
        "colab_type": "code",
        "colab": {}
      },
      "cell_type": "code",
      "source": [
        "# Here we generate some fake data\n",
        "def lin(a,b,x): return a*x+b\n",
        "\n",
        "def gen_fake_data(n, a, b):\n",
        "    x = s = np.random.uniform(0,1,n) \n",
        "    y = lin(a,b,x) + 0.1 * np.random.normal(0,3,n)\n",
        "    return x, y\n",
        "\n",
        "x, y = gen_fake_data(50, 3., 8.)"
      ],
      "execution_count": 0,
      "outputs": []
    },
    {
      "metadata": {
        "id": "a1PM9UFN1zgw",
        "colab_type": "code",
        "colab": {
          "base_uri": "https://localhost:8080/",
          "height": 280
        },
        "outputId": "138c5d3f-436e-4fbd-d92a-5f75a9f621de"
      },
      "cell_type": "code",
      "source": [
        "plt.scatter(x,y, s=8); plt.xlabel(\"x\"); plt.ylabel(\"y\");"
      ],
      "execution_count": 3,
      "outputs": [
        {
          "output_type": "display_data",
          "data": {
            "image/png": "[encoded data removed]",
            "text/plain": [
              "<matplotlib.figure.Figure at 0x7f5e86cfb390>"
            ]
          },
          "metadata": {
            "tags": []
          }
        }
      ]
    },
    {
      "metadata": {
        "id": "GCh7rUF112GY",
        "colab_type": "code",
        "colab": {}
      },
      "cell_type": "code",
      "source": [
        "def mse(y_hat, y): return ((y_hat - y) ** 2).mean()"
      ],
      "execution_count": 0,
      "outputs": []
    },
    {
      "metadata": {
        "id": "mMgI-7VW14D4",
        "colab_type": "code",
        "colab": {
          "base_uri": "https://localhost:8080/",
          "height": 34
        },
        "outputId": "f2c59d03-8c3d-4467-a6b8-b6d69e91d874"
      },
      "cell_type": "code",
      "source": [
        "y_hat = lin(10,5,x)\n",
        "mse(y_hat, y)"
      ],
      "execution_count": 5,
      "outputs": [
        {
          "output_type": "execute_result",
          "data": {
            "text/plain": [
              "4.648603008757235"
            ]
          },
          "metadata": {
            "tags": []
          },
          "execution_count": 5
        }
      ]
    },
    {
      "metadata": {
        "id": "xyIOhzum16L5",
        "colab_type": "code",
        "colab": {}
      },
      "cell_type": "code",
      "source": [
        "def mse_loss(a, b, x, y): return mse(lin(a,b,x), y)"
      ],
      "execution_count": 0,
      "outputs": []
    },
    {
      "metadata": {
        "id": "l74IFzHB1795",
        "colab_type": "code",
        "colab": {
          "base_uri": "https://localhost:8080/",
          "height": 34
        },
        "outputId": "b4c24a08-d8e3-49a2-9ac9-b452d7bda787"
      },
      "cell_type": "code",
      "source": [
        "mse_loss(10, 5, x, y)"
      ],
      "execution_count": 7,
      "outputs": [
        {
          "output_type": "execute_result",
          "data": {
            "text/plain": [
              "4.648603008757235"
            ]
          },
          "metadata": {
            "tags": []
          },
          "execution_count": 7
        }
      ]
    },
    {
      "metadata": {
        "id": "nPuXYywA19ph",
        "colab_type": "code",
        "colab": {
          "base_uri": "https://localhost:8080/",
          "height": 34
        },
        "outputId": "0971af88-0497-4d7d-b485-0ae2722043ae"
      },
      "cell_type": "code",
      "source": [
        "# generate some more data\n",
        "x, y = gen_fake_data(10000, 3., 8.)\n",
        "x.shape, y.shape"
      ],
      "execution_count": 8,
      "outputs": [
        {
          "output_type": "execute_result",
          "data": {
            "text/plain": [
              "((10000,), (10000,))"
            ]
          },
          "metadata": {
            "tags": []
          },
          "execution_count": 8
        }
      ]
    },
    {
      "metadata": {
        "id": "8Bosxv_51_mQ",
        "colab_type": "code",
        "colab": {}
      },
      "cell_type": "code",
      "source": [
        "x,y = V(x),V(y)"
      ],
      "execution_count": 0,
      "outputs": []
    },
    {
      "metadata": {
        "id": "ITJGZvnB2B2o",
        "colab_type": "code",
        "colab": {
          "base_uri": "https://localhost:8080/",
          "height": 104
        },
        "outputId": "0fa09658-a4d5-4c3e-f86f-2048143d8b00"
      },
      "cell_type": "code",
      "source": [
        "# Create random weights a and b, and wrap them in Variables.\n",
        "a = V(np.random.randn(1), requires_grad=True)\n",
        "b = V(np.random.randn(1), requires_grad=True)\n",
        "a,b"
      ],
      "execution_count": 10,
      "outputs": [
        {
          "output_type": "execute_result",
          "data": {
            "text/plain": [
              "(Variable containing:\n",
              " -0.6863\n",
              " [torch.cuda.FloatTensor of size 1 (GPU 0)], Variable containing:\n",
              " -1.0969\n",
              " [torch.cuda.FloatTensor of size 1 (GPU 0)])"
            ]
          },
          "metadata": {
            "tags": []
          },
          "execution_count": 10
        }
      ]
    },
    {
      "metadata": {
        "id": "5viu0zcw2Dui",
        "colab_type": "code",
        "colab": {
          "base_uri": "https://localhost:8080/",
          "height": 190
        },
        "outputId": "e8095768-c1dc-4af3-8adb-b8077228ad05"
      },
      "cell_type": "code",
      "source": [
        "learning_rate = 1e-3\n",
        "for t in range(10000):\n",
        "    # Forward pass: compute predicted y using operations on Variables\n",
        "    loss = mse_loss(a,b,x,y)\n",
        "    if t % 1000 == 0: print(loss.data[0])\n",
        "    \n",
        "    # Computes the gradient of loss with respect to all Variables with requires_grad=True.\n",
        "    # After this call a.grad and b.grad will be Variables holding the gradient\n",
        "    # of the loss with respect to a and b respectively\n",
        "    loss.backward()\n",
        "    \n",
        "    # Update a and b using gradient descent; a.data and b.data are Tensors,\n",
        "    # a.grad and b.grad are Variables and a.grad.data and b.grad.data are Tensors\n",
        "    a.data -= learning_rate * a.grad.data\n",
        "    b.data -= learning_rate * b.grad.data\n",
        "    \n",
        "    # Zero the gradients\n",
        "    a.grad.data.zero_()\n",
        "    b.grad.data.zero_()"
      ],
      "execution_count": 11,
      "outputs": [
        {
          "output_type": "stream",
          "text": [
            "120.71295166015625\n",
            "0.9066709876060486\n",
            "0.13721820712089539\n",
            "0.1226956769824028\n",
            "0.11517951637506485\n",
            "0.10942673683166504\n",
            "0.10500600934028625\n",
            "0.10160885006189346\n",
            "0.09899840503931046\n",
            "0.09699228405952454\n"
          ],
          "name": "stdout"
        }
      ]
    },
    {
      "metadata": {
        "id": "nUvfvo6X2GUq",
        "colab_type": "code",
        "colab": {}
      },
      "cell_type": "code",
      "source": [
        "def gen_fake_data2(n, a, b):\n",
        "    x = s = np.random.uniform(0,1,n) \n",
        "    y = lin(a,b,x) + 0.1 * np.random.normal(0,3,n)\n",
        "    return x, np.where(y>10, 1, 0).astype(np.float32)"
      ],
      "execution_count": 0,
      "outputs": []
    },
    {
      "metadata": {
        "id": "hEPhcHOK2Oyp",
        "colab_type": "code",
        "colab": {}
      },
      "cell_type": "code",
      "source": [
        "x,y = gen_fake_data2(10000, 3., 8.)\n",
        "x,y = V(x),V(y)"
      ],
      "execution_count": 0,
      "outputs": []
    },
    {
      "metadata": {
        "id": "vlQiBtRQ2TH6",
        "colab_type": "code",
        "colab": {}
      },
      "cell_type": "code",
      "source": [
        "def nll(y_hat, y):\n",
        "    y_hat = torch.clamp(y_hat, 1e-5, 1-1e-5)\n",
        "    return (y*y_hat.log() + (1-y)*(1-y_hat).log()).mean()"
      ],
      "execution_count": 0,
      "outputs": []
    },
    {
      "metadata": {
        "id": "1zBUQDo02Vyc",
        "colab_type": "code",
        "colab": {}
      },
      "cell_type": "code",
      "source": [
        "a = V(np.random.randn(1), requires_grad=True)\n",
        "b = V(np.random.randn(1), requires_grad=True)"
      ],
      "execution_count": 0,
      "outputs": []
    },
    {
      "metadata": {
        "id": "GMM-LlZN2Xj8",
        "colab_type": "code",
        "colab": {
          "base_uri": "https://localhost:8080/",
          "height": 69
        },
        "outputId": "cda990b8-926b-457a-c749-2713502c71fc"
      },
      "cell_type": "code",
      "source": [
        "learning_rate = 1e-2\n",
        "for t in range(3000):\n",
        "    p = (-lin(a,b,x)).exp()\n",
        "    y_hat = 1/(1+p)\n",
        "    loss = nll(y_hat,y)\n",
        "    if t % 1000 == 0:\n",
        "        print(loss.data[0], np.mean(to_np(y)==(to_np(y_hat)>0.5)))\n",
        "#         print(y_hat)\n",
        "    \n",
        "    loss.backward()\n",
        "    a.data -= learning_rate * a.grad.data\n",
        "    b.data -= learning_rate * b.grad.data\n",
        "    a.grad.data.zero_()\n",
        "    b.grad.data.zero_()"
      ],
      "execution_count": 16,
      "outputs": [
        {
          "output_type": "stream",
          "text": [
            "-1.5168941020965576 0.3355\n",
            "-6.2285237312316895 0.3355\n",
            "-7.646058559417725 0.3355\n"
          ],
          "name": "stdout"
        }
      ]
    },
    {
      "metadata": {
        "id": "I8V1wZfL2fN7",
        "colab_type": "code",
        "colab": {}
      },
      "cell_type": "code",
      "source": [
        "from matplotlib import rcParams, animation, rc\n",
        "from ipywidgets import interact, interactive, fixed\n",
        "from ipywidgets.widgets import *\n",
        "rc('animation', html='html5')\n",
        "rcParams['figure.figsize'] = 3, 3"
      ],
      "execution_count": 0,
      "outputs": []
    },
    {
      "metadata": {
        "id": "exJk0xdR2nYl",
        "colab_type": "code",
        "colab": {}
      },
      "cell_type": "code",
      "source": [
        "x, y = gen_fake_data(50, 3., 8.)"
      ],
      "execution_count": 0,
      "outputs": []
    },
    {
      "metadata": {
        "id": "BQmXnyHB2p_-",
        "colab_type": "code",
        "colab": {
          "base_uri": "https://localhost:8080/",
          "height": 34
        },
        "outputId": "12a9502f-b8f2-4118-881f-54b4da803d29"
      },
      "cell_type": "code",
      "source": [
        "a_guess,b_guess = -1., 1.\n",
        "mse_loss(a_guess, b_guess, x, y)"
      ],
      "execution_count": 19,
      "outputs": [
        {
          "output_type": "execute_result",
          "data": {
            "text/plain": [
              "83.65750051669785"
            ]
          },
          "metadata": {
            "tags": []
          },
          "execution_count": 19
        }
      ]
    },
    {
      "metadata": {
        "id": "mrL4ApkS2sng",
        "colab_type": "code",
        "colab": {}
      },
      "cell_type": "code",
      "source": [
        "lr=0.01\n",
        "def upd():\n",
        "    global a_guess, b_guess\n",
        "    y_pred = lin(a_guess, b_guess, x)\n",
        "    dydb = 2 * (y_pred - y)\n",
        "    dyda = x*dydb\n",
        "    a_guess -= lr*dyda.mean()\n",
        "    b_guess -= lr*dydb.mean()"
      ],
      "execution_count": 0,
      "outputs": []
    },
    {
      "metadata": {
        "id": "XtETocS22uZ0",
        "colab_type": "code",
        "colab": {
          "base_uri": "https://localhost:8080/",
          "height": 421
        },
        "outputId": "332e0152-8931-4048-afe4-e9c3922fd666"
      },
      "cell_type": "code",
      "source": [
        "fig = plt.figure(dpi=100, figsize=(5, 4))\n",
        "plt.scatter(x,y)\n",
        "line, = plt.plot(x,lin(a_guess,b_guess,x))\n",
        "plt.close()\n",
        "\n",
        "def animate(i):\n",
        "    line.set_ydata(lin(a_guess,b_guess,x))\n",
        "    for i in range(30): upd()\n",
        "    return line,\n",
        "\n",
        "ani = animation.FuncAnimation(fig, animate, np.arange(0, 20), interval=100)\n",
        "ani"
      ],
      "execution_count": 21,
      "outputs": [
        {
          "output_type": "execute_result",
          "data": {
            "text/html": [
              "<video width=\"500\" height=\"400\" controls autoplay loop>\n",
              "  <source type=\"video/mp4\" src=\"data:video/mp4;base64,AAAAHGZ0eXBNNFYgAAACAGlzb21pc28yYXZjMQAAAAhmcmVlAABBWW1kYXQAAAKuBgX//6rcRem9\n",
              "5tlIt5Ys2CDZI+7veDI2NCAtIGNvcmUgMTUyIHIyODU0IGU5YTU5MDMgLSBILjI2NC9NUEVHLTQg\n",
              "QVZDIGNvZGVjIC0gQ29weWxlZnQgMjAwMy0yMDE3IC0gaHR0cDovL3d3dy52aWRlb2xhbi5vcmcv\n",
              "eDI2NC5odG1sIC0gb3B0aW9uczogY2FiYWM9MSByZWY9MyBkZWJsb2NrPTE6MDowIGFuYWx5c2U9\n",
              "MHgzOjB4MTEzIG1lPWhleCBzdWJtZT03IHBzeT0xIHBzeV9yZD0xLjAwOjAuMDAgbWl4ZWRfcmVm\n",
              "PTEgbWVfcmFuZ2U9MTYgY2hyb21hX21lPTEgdHJlbGxpcz0xIDh4OGRjdD0xIGNxbT0wIGRlYWR6\n",
              "b25lPTIxLDExIGZhc3RfcHNraXA9MSBjaHJvbWFfcXBfb2Zmc2V0PS0yIHRocmVhZHM9MyBsb29r\n",
              "YWhlYWRfdGhyZWFkcz0xIHNsaWNlZF90aHJlYWRzPTAgbnI9MCBkZWNpbWF0ZT0xIGludGVybGFj\n",
              "ZWQ9MCBibHVyYXlfY29tcGF0PTAgY29uc3RyYWluZWRfaW50cmE9MCBiZnJhbWVzPTMgYl9weXJh\n",
              "bWlkPTIgYl9hZGFwdD0xIGJfYmlhcz0wIGRpcmVjdD0xIHdlaWdodGI9MSBvcGVuX2dvcD0wIHdl\n",
              "aWdodHA9MiBrZXlpbnQ9MjUwIGtleWludF9taW49MTAgc2NlbmVjdXQ9NDAgaW50cmFfcmVmcmVz\n",
              "aD0wIHJjX2xvb2thaGVhZD00MCByYz1jcmYgbWJ0cmVlPTEgY3JmPTIzLjAgcWNvbXA9MC42MCBx\n",
              "cG1pbj0wIHFwbWF4PTY5IHFwc3RlcD00IGlwX3JhdGlvPTEuNDAgYXE9MToxLjAwAIAAABxlZYiE\n",
              "ABD//veBvzLLXyK6yXH5530srM885DxyXYmuuNAAAAMAAAMCdMWy7nddDaYdgAACogAg/o9j9soQ\n",
              "CYib3Pr4Z1CKwCpIXy9RRkJ/S+pSn+NRrXmxnFK/KwlgdzD+X4Uznee65H5SYWjzPcVoBx4KUjIo\n",
              "QbctNXsAyUQU7nSZ9qPieHuFsn7WaC1Qqxmqlxqwmyi4BThA4CwsHKXmUPUw/M3uTvCMoOBIkUAg\n",
              "lWQqofCLXlnPI2DJCruhz7XPWqRkpoWTYW5D3ymuMY7Srv4yjt81Rxu9qvbL5eXhqtPZPEjdmDZ6\n",
              "tBWQMfSNJ5TVChCXm80d+Mw8hyjIxWC2XgR42K9mjC5fTSN/EC+iqzflsQdB4DOnSpL6shscwMBB\n",
              "R/nS/WvUNBFdMxhnv92Ea0+Ee9kgaR7MqpqaSlEhT86cZYfoWPrLg+SYQqpIhfW4fwNGSQFuQB2T\n",
              "3R+EY7cuk5dSPwyLwMr7SaQFZGnT/viFFRCSldrZMiYgW/OsfF/mFuEcPBCbFyNeyAVCfgdWHqCb\n",
              "oVZy1AmfHvjJUiBB51i7F4tkctsn9xKbRoj2dn4Lm9QkkpoCUHtqlAU9RH1Mt76L7VFqjeLF01Wj\n",
              "0Y2cU3+fpggap1/KuFYFVFqWVdcyJx4mMtPXUb3RkabzKhJEhkAqmLsdyhZ3Q8a2zmtUr8W/xy6N\n",
              "1q6wlhHKO9qskaABhWNYv9sNFOR/+7QeHSxehaBwx4L5vyw4zOYd5ArmwH7vkSSC3l7guIbpp8sv\n",
              "0E/8ks5EgArvBZe4jv9R7+44Hz3MTx4brVppoIiHFsHUUwlnhitpNlVdcVfKuyx2X68k53+miyn1\n",
              "bZfnuHSNnJmShkC8Lb6VHF5GlVKkDGdyom2rL1JHIRz+QNuh3J9JBhSRRMunmXviX32I98gq0UDu\n",
              "7/10TI+grAuF/lUzRLeTiRa+U+6jvRkRfMjaWb9tXOI0voLuYa2WUDuXnMzm22AXBfO01VBqkF5a\n",
              "SPgwH2zgkycDHCu9yOfgoZY5jru7hQMMOAWFuIDubn4jwcLfuK7VuThU+AUh7E3X4Bo37pcCqwSk\n",
              "/Py/XQs0nL8TDermc6DHgKT5q0Ctt9VOdU7wx6LTM9YFabsZ34G/UtRD8jzs1vACaV1goeDaH5Ee\n",
              "F+ZT8mf5OH42jc7hu7SGjuohJz9aY/6dAviIXiI/+YyuBFNj30PQchCAG9zGRzZsTD2l1Xoyyx6b\n",
              "MooYuhWf2YlJoXNA5+3/dl5klYyb1kbBKF4WyyYjq57E3cPtKmCpr5urAOi4JXKeSDtJ2VadGMwH\n",
              "s+5yd+i1wYY7uJR0PkKogIdqJ0GUwaWmt7gTMhZnKJ0q3Ogge5kXVf7gJCzh+3isgLYSY2leME/b\n",
              "aZrz8Sl0GUL5K34yDShvsWPb7tQruESNYGePtxnHXP2lEcOk4BnIs/pcJahu1yOi7/9jSsBDutw4\n",
              "pFEumfRZ1VHkUkEWS6oMkaQHFLb2OPNo/bYGODfV3BOwM+LJCJR72zJ3fMSlBDCHQsK/uZpQ5qY0\n",
              "gPu4gM6fbRdCrJZUcptov5d5QrZREWLr9ME/1Lng/xhL5C6nckDKBKUI0SNxeAN0RBnmKssb3bjy\n",
              "NGr0gmQSvAwWqPYU7R4vTsLi9Zdq6yfNP8ZZHKC9YToB03Wpdl/+1KVOwfzCpDPpYlEz2xaBs/fT\n",
              "hFAjyoQXFsFSrPRCgPNEy+NIgt8ELIC0JMPkBGGKBzSEFRbmGF0MYddpLAQi0+vYr6HJq6wHhdzz\n",
              "C/GKYyJf21/PSwMTbNRJ/Gq9tyFrZsH3sVWU68f0+rxhIiU4QNo3lZDc6Jt9Mp8uEqDletIlVfN1\n",
              "QfqvisRQgQBHfiUlst88wl1vtiRjKAPrvigdRba7m9QDUEaZ7+9vlivQMi+ig4ewp32cnwlDfQ8Q\n",
              "SS7pv1/4OU6MIs8R7gNbeTU7SBsfTv+ld4EavWuUO9sZJ8VInksdwabMwZ7AVfZIJLvfte2l3l23\n",
              "N/A5kDciGTWW2j4asnwyWe/NHgxzoj1JmVN91nLjLNDzRja6o7GYb/II4U9GVYYlZOHe5S//JuRz\n",
              "L767ejszL4joydIXD3EYqLA3nyfMC4Xx+7KUrmiNK1I19wbRpC+7l/KTgC4m6lps3KNeot5DSMF6\n",
              "aczCQMtTO7je3XlRa1xq8mUTHWmoS47nVrby4/x1ruz3IVZynJDnXlkZPBAdtSNDm3ttds8HUaA2\n",
              "wnOWyMxR7FGnLf0i0fENRGbBhYWilsADMXZTl0F5AxGP/KhBxqAfWdZJWKZzM/EkLA/1PHvQeQW6\n",
              "1hgbnZciVBndXYIuXuCVnlbeKGxgZhnOyddU4B80e8fPF9CrUhXD3bbXKqIZlbVNYp1vJ4QhmjeG\n",
              "fuYrxnm2U5TtJSOzVTFDetB7AhCapVzHUyEfRNaAU2k8UXLdYdWt60drtnzHyXPWzqf8mhtoezGi\n",
              "67dM7GRgbNUs5TZpjSikwp/I4NzAaPPjIByZ+QFOwrkwQrsvpbD1+zxhkYRzpoHbePWh+7LNXg+c\n",
              "3/SFE480KuEQ/mg9ddy18Z7rXpsGGoAq5rC3tNylwWksLhrfBU8rtomVdMstD59ltp0nSReThT0V\n",
              "oOZYqIoOlvj1z6pgJfC0fOjPGpTVA22pjXokOWS28JWSKwMmBWpRKvbuYmF1BIlWJthNohT6PS8h\n",
              "G3/ee8d+xZ+Nu5xfVYcBH4AZybmzzFjPvwHsA02Zf7e+4FIJtA/A82JRFzchP9RNy3XOPO6GWMtX\n",
              "QNKrgCb4gCUK+F2UMOfjrfg50G41Yo3bfLQc8u/pGXUsmKcuTv35qzojM1hJ8L7SvVkbAehMXsKI\n",
              "7X8Yc51+irHqjB98E00ohL50HSEhAHGNXzLiHM0Xu7dV0dr6O9devjeu2s2Achzhvk9nQgKYYqzu\n",
              "ZBzJEXw4KYmG2ei56gIL+ZANRiNHb/zZjO9Ddp30c9TCkQyDUqkDR862vmBxeWyF0SwcDY+zjaqA\n",
              "dIg14WNJPU0cL2qcj41r/1d5lCz6tYky4hfTOcZTziHKmTlprY1uZQYtLHguDcxNw2HJajRrCiho\n",
              "4myBbScf2qkkT3KpkZCIfICqsGBs2DEAcm4w6/v2DcnmwHUWayqRjajakFICAV0ibe+JcXzwIl8+\n",
              "UMcTBZ4L/what6aOWIdVsuA6r3hCj4WdgXeGRl/7l3xMzi8w2u1WMKbno/x7MrPm/p+PNUys9+H5\n",
              "NCcX/irg2600yojYFQEB3vL4Y0orH9TVQDpJS7P9TSKq9/omlxqqzTlgucBH7/0J/deLQoEYacIj\n",
              "0sXrNvHhDKHizPdzOcViwjpCBnWaJP2/lQ2JWli3+6cXxFn8+2ohWy6qJ7K5ZQXU3DZ2aXs6Q76u\n",
              "IeLyezcATuLk4r+YsgeMjrElU+RC7SIxWcR3qdILH5rQyd2fjazCBVSKOQ2InjsXPPNP3SJnOeQy\n",
              "baHC5BWjQtoAr1e5vJxUwr3rgx/z9OrgOMOObboGGHnx7166T1Z6TXC4NQQEgWKz7MNX+wvJ61oL\n",
              "0sLpLFio4CsXzsFRMwZVp7r4fg/tNiCDiMpIv3Uq1uoTJPKSPl17CIitdMRpyEEFqQFzAOrhll2r\n",
              "0wfbnud9H4Nl9LJI2Fkma453gQhuMAhYDw2WehweZ3E23JBsU2s+CFd0d1Z35yu2DMgPPof1wxRv\n",
              "dMmmDyhzI40ub/nAlN0NxEK/Fc27W7cYnqjXhZ3xeJj8B3bsAllWeKAVcLWQS29qri4E+HZX0/QM\n",
              "/UHIzfDen0vF9xGwxvmg/3FR0imYRwbFJOiWiDQ4X7CiAh3pQYEUuJWk7YZAoIB7WLTG6K6ofkpH\n",
              "o8vY9O+EOsDz7Z6P8q/ZWKYhkKRz8bmuAdXL2iDREhefqhDtx0mLF6hYP2Zhae/9yR5cBPi9N/zZ\n",
              "c1lEstg7ZI9D+tg2VI1XdforZvSzfLVl0qLtxLsWiWYvGLUPcGnZMoj/g6gPqG6BYJCCec21mawT\n",
              "Ocd5Q/t7waGdRteSXeZAahIaJkogif01GpOk/h4gogrBsndt0sqlQ1k5Y+UGt5aaDtc9uVuxcorT\n",
              "7ylg47QO//fRuMD0nrT/6MDdc5xPJybYFjgf6I0tI4ASUxeDKLk9Keub0VlpvzbmSIZ2JV/GE2yk\n",
              "OQ8FEl1sQK/kbwXh8o2ieIQBrO/vy2R5K00xbr/6Vi37shjAkPm1LQ/6GjMJxkwA6MPfDJ++1w9J\n",
              "a8S4uCbxYUzRFiRsjUHYm9+TlKZqpqB3PIUgix57MLIPE89pEr2EmOeye5CpmpeyZKM2R5wEfFcw\n",
              "WGYPHEqaPh5KXzsrYbepbBhcXmOP009HggVuBRS5y4IHDtxzlNK143jnhApopHxfQuKREkzWkewy\n",
              "dhT3fVThBDx/Xr/CfUpxZyfcQK2e29TTeGQS6Rt9vJlxnDvsOrNEaOWK2wOT+JNx9dOAnd9khDC9\n",
              "G65T0n3mtRE8A7vkgoV8L907fZnxtiaZSFwmk+iVfNoiJbhHYpGwlyb4iix2dWOeSfByfASCaL3z\n",
              "Gk+s16jgLDSN04AIlgfN/3bA0FM+GB8Snw/4J5J336YA3Y+O4wUVyMqz2voWeIdSz9/C7vgeD4CE\n",
              "+1KFknow9Mp2kS77ggxcieLznDJkzL2UYquKgyoZJ8YmI/YjO8EdkuVQ8URVpxNZY/bwBsK4Ewoc\n",
              "6pptSTbtVTXl0os6qo3R3kpqlnuPFUsHgSAXs3pV/RB68qvXvTZweUdppF+PHwGUzFhr6syoto13\n",
              "vWQo81sVcmrzMxzyv08up9KHnwM3PSBMk55JPjNodODmTMtNt9lciQw/qhbN+f3sFjEvXkRo/EN9\n",
              "CAW+dNPGOmgqbZ2rtLdVagwviCP4TdAwPs8/EE8X9IeWcPjxBDD3TWjkfdsZhHPLzrU5i2dJI/8K\n",
              "d1rm5s8tgmMFMKrUIeYib+vdPAxCJ+A0g5YHbvJh2VgPdyStigKS662HFI72fvV/IHvncLZVxNMk\n",
              "5bxzrLFixooHVi8+bnF6EyAaRNZfgYHpPMHQhdNWSGl7+KGVTycqvlI/tzJ7ud7IwsEyf9qANKCd\n",
              "4iALZfvX7H22nu2jdW6HFMPAljY977THEP4zdNh3B6V7GWNPlsIPVEPfjnmk8SU9m5RmtDTHGZ3r\n",
              "MnvoXTmP3EAX1VydASGf+eh0ZC129EQ9Yod9+r/27GMJeZDTm/jUhEjOMo9cDgcsgR3BufHVoZXs\n",
              "i5M2/OrWXzINFuzE2n24/fkzdzl/ugGf0AGk+GhTxFg6VKhy9tzqg1xEgoq8cBI1vkSTACZViBP+\n",
              "BX64Mcuuuos5mHnm7+RJFwmPJ+x0fYWL+SdJ6rzSUNyGnWHF81jawLy43ziENClLYqbRVlJE4lXZ\n",
              "PVz+Xk++Hr/1/W5jMNzn0ndbRkKYAnoIMM1qNhU2eB5WiAzo/Yj5onfZIyZfqrY45nG5JOIHpehp\n",
              "z9xy+rIFmZbOSpCgaN1Or2h3m37zwZ0AzdRD+gh6p5Bni8U6vY/l50QsiycUQ2UZm7QkjTlirFtX\n",
              "AIv0H+/6RZ9doe4l2QPiiY7q4DFnP/Hlif1Ldu1SzkMMDoBuUFedxv6V/LMSw0UENaQJsynApZk0\n",
              "ID7G3EeRwo/7iTj5yj6jtNJgNs3G3jdG/kz5h/CoXe123jHj/BaVyotYfR6GfkG8HyZjhiPVJU5C\n",
              "6Oz73BmVaMlvMGBxV2+9HECpZuFlUp/oTfz8yh2s1yvA5GiRo9ItAioO+tENKZ5V1QvvSyi5zQlv\n",
              "GQ2aHMlGnzRpIG9a0qLs7oYlsqMoNtNsXx1k7r2DCWvUoYnrSn8WBkWhPId7dhhgCEpAE4xRu2Pc\n",
              "8QgCFO+5DaO9TYChg3T3tWgCOC8Xe/x6dLrOIUvTHcfl+Id4l0Bh1OOJHO7KzVuSz6XZmNujU0Gh\n",
              "iVV1f6QJuf7R2Mts7V0Xc/+ZN+MI82o7n6DWU6L1cEybY0zZgO8mL8RlUaNAuLEwelbMp2RM6mIp\n",
              "kPmxdxYWxBR8/i6dJnqKUJf9R6sJa9oqAqI/nLh5eMFqq6b0L5vF/PkpP2paB6PbW5BQLsH/u7cM\n",
              "z+eYrIPYqCyy91dqbMg8ayORpQrX+vmunkSsSpdTLgbfe8CkifCF8iJKCutBqQzyvelwU/FXM/lB\n",
              "TIZpO4jk7+p1ep3HevrxncrL3q/LZ9c5oFG4H+jKWIB1mVizz8sIMnjyTXAHFIW3F/FUDOWIIjF3\n",
              "/q770wTiRjz42ahrWr63p9xmF1rrQNknwLTtHUETT1mhU3eSyLkB/mJyAjfQiAzqRqse3LtX3MVE\n",
              "nfhNmuvhhbqB4Sv0msywxzhSmZ6Hslnwgd/F5lbp6YT/+NGM/DM6zKB/EwrKQvNjwFUWjOaGxy7y\n",
              "TpHuiR/7BF0uRHrRC+HNHcGcxTRBlWBJLAJdZ1KtnaPDoELU9YK/goXsso39JqnGul3WqdArOQy2\n",
              "z0UW1CRSAGU32i6fyvVALy2BCfW3GtW8JfVRxmwikeA8JlDux/yE0SNFh0iHVczUKKF1UsCoZL4N\n",
              "CzzKPM5iOzXTW8u9cXHWvtbjJn70INrpVo2XHP9ukGzMu1zPT4/W4EeCL/nLvC5F7X3oikBDpXiR\n",
              "YvCQSs+cer0sVmtrjegym8jW79ojikxws5bk1MaKxWP9HISMkoQmoQzzx08uvjoajRW8Z59WOhs2\n",
              "iDMEbC2ZVTP2/3GdlmHmAAmRGE9qY3SctWxSidk9dRdjW26vHIDHUApwiRiUcBqitBpc65U7U0yo\n",
              "Djlc1cb1oG10Atc04WXNXTn/EGoBDWc4uKIR+klcBZUrkPuZvAXLovp+l0KAqds4rNOS7iMEeAgL\n",
              "kLmso3Ekjc9s7ag55kSMpqt5XIl5ngQ2m0WDDy6nRjNpMA9Zcna5xovVUtTiFP3G8SRJ6iWDr+18\n",
              "taKlIDKUfKndrc5Qcd1pwikE6NUw7CtdxqZ8xBdwBH3Nre5DmmDjFo2LvTXIc5+RcwJW7JkSYzpS\n",
              "XEKDaA2M+fy1wt3r40fXJp5EszHPUqrlmi52XiaNOvDSn2iszqdNZkuU0CiQhbHK7eoMVmAI5ET9\n",
              "dExjukPzZvWUasH57Wic2hKzZe21/CBhfNNMVEgOkWL+DplBZruROLEywwjyAKt9fCNZFijDxiWT\n",
              "Vzhp1kFhoB/HnlMy+OerM34MQAKiWZOGUJivoUVZMW0Uk5OrM5rNiN1504Ku35VpjDnQhazRWYrQ\n",
              "+cV6FwdDHvgIUsORVxkyO0c64JqrY82MwmFLR/2J+RO9QrllhgGEnOsv7XkzPNffO4K1kshAbck6\n",
              "DRapWfaHeX5WBGu6hIC/RPjhy1y/mjmRoR5Xqx+VTENNkjduUyvkTIN83uNVQB5N4gPabKnGYfqX\n",
              "SoEmxdGKsxu8JJCUv2FXwcjg5BGcpzHi+Z9LAWH1EU0D3vIVTiFtehZdb5S4Siz5s3McLHqDwzuW\n",
              "zXz3lAMoba4vbkVDoJP7PLAJ7d03o2vfWoeJL7LAkTXMdjdaP7gfKBLgzd17lwkbxMo1vK5CbxQP\n",
              "0UTm4Ugi2n62i6PWQrSBoM27H1qxOyghechPlBdAQIIv52azMjHRS+Okq0LRZx0fGq5EMSyacjAV\n",
              "24n9PIw77iEg+SG5Z35Bn3FV0apQDSW9vbRmwOVw8mIgZJpaHZPUyt3Kcfop9Ud2rAJribV9tLum\n",
              "Kq+CGukOLB0n/b4gZqihdm+tAf+fXqZ6VpQGEn0IbZsepPOVW243KzzUbCbofYwII38skI/sb+Z6\n",
              "3AgSHGWfgqD9JxF+j7qLgC12aM09AtTXTGpx49uYhh7N2mCXRXSBEA5oj4YYDcfqw8tISssOREuk\n",
              "GOYtGd9sqDCt/1ayHggjLOoQRMxYSKkWrnQicr6G4FTNMS90M3yawSNl/ypK9pC2TvCXbePhtsdF\n",
              "mKaTL3sj59rx4YbhDSv4CBb2C1EUGe2TJ00g414bMnWCBfNgACSOCuv8ADNJR2+Bo8ykmNJA/0Ey\n",
              "YxlZKimkOvlnNdxqhRII8DGg46fZU/GiKsDK9zEJIhKZyIPC08jC/N5TFJwsFOsF25h7fhcD36Gx\n",
              "cTM2vMt9Et7m0Y1C3AtaxdoUnoVHieKwAOsKRR6wFS1+vQyDTvCklKpzsZCseUdD4RaV0ydI1q2W\n",
              "qpQ6GwjIgpz73yMgIuTYuEMZslbxV6sFunQgG4wDRdZM73f5cfh3TTMcSFw2Fyj36XcDFazXVmbA\n",
              "i1P6KKnp1UOhOxHH1sNwT/nZLk3AvgmfI/h/f3DfYzEDwtd44jhaP19+DKUzGOuyg3aukUFH9C3W\n",
              "KgOxsMZ+KZwmIOCev/J/w8ZBlFcCDTyA2VWJVXiikseQ2OXns6DMYB19g2PUpKo48l6wjhbub5xm\n",
              "0E017Pq/wWlq1PU2tn4zME26WKoqXMdhAK3zJg3UXwMSaG++N5EzZNktAP/2YlPO8UxumJ9VhS2a\n",
              "9oojMFhJMg2UIsAI9NQaGPb4dCwxzc6wdwvdozjqE2HjtyVrMJIxBUyUBxM7ToHIm/sk+76ynEEG\n",
              "u5VWbL0ywkc5x2Gii0QuToHvo6yCZHRe2RufP8uHO0JMtR2XTiC/XIk757g2d3R9rASmOLf3MD5F\n",
              "hyx6nA5eRSFaO54VtV6YWKgP8Dzpbh/zk26zuAPwYgEwUflUYHWQlp1ms3DtQ6uymq7pRELVoD50\n",
              "5kSMFim7K7PYm/bRwRA7M3vMe1X/CRiZxOP+e9xXyK34KA0iILu4Lx4UVDHg/3kiiTfANUTu1oN0\n",
              "BFUiJUOxWOJfvcb5pHJLmj2vlCGCK1cGBkiZx62issLeBBn0oxmxPruEO3AQRDJdn6yNWbRPBBn1\n",
              "BFrykIrc5jqPFlS3xjr2AxVOyL0QY3OnQLmQA9aLoOsgcuzN/HiCdIKDJnQqjtDvBqs2NMe624jl\n",
              "0OY2D+QD/R5G/yTSBZdz4K41M18/1KKk0ylgoCCPKdJpE5EyeynWNsppEIKTmiuVBiir+osdMytw\n",
              "qwAjcWjqjj5t2QdQ451rBKqODOTOOUU2bPjOQiwzoMNZe/SIBN0ecBcCgFuJ0UVxxIgJxSenkBvn\n",
              "qvyBe0Fxc0a7dfcMYqYdLoFD/c7qSDmo7wDLa/QGBLhL8Q+GeeSHduZGDlaViKVnaOt4XDQyz0rs\n",
              "xvX/SOl9LHpMjxfTQhttNA88EPYP5rnKk7POLjnm7Y5O6s32wjJ3cEil6z7W+aSk0vubqyWyJoqX\n",
              "5AWXMD50D1t/I7Z8ZP8xNHwfnDLi/RIPHJWrN5abICGGXHasSArjGm36MbQWlKs0FQ1HqVVqQ9pd\n",
              "WvzxHZdhMqCsKG+8cLoD/SDcXAJ2e7g8cUHwz3+CO+ZWmJu/5kVdcz0M10axtkKySRn7lM83Xnjs\n",
              "tTfi7Mp3pSkIts7THXcFiOvnIu2z9EssHQ1O9t8PdEEX4Mdf3z/gPjsqJNudYcOiidFiVO2Ko3i9\n",
              "VHYJ6B5o+tLAYYwxmMwgOb5jikB85dfWPmN1p+18ymtmTyrglBABstDTpykiK+6j62BqoRP3xWmL\n",
              "JUBYONNNnABf/o3ThANOsxFzCwtnBJajZOc6EVxYqxx96+WN0ge9aV26zRaLrlpnjEhx7KodvXJO\n",
              "5LZrCR4bQiZxwj4lx2L9peYjmLL2nSBEqtbs5VE8ljHDFKDmbN1/MrzK/eDjx6N1HffWNrJOp7nA\n",
              "4n9OXi60vR34nE+wk8xjosdkuMqlLQ37ELf7uJEqcYYwlZlwDV33F6DjRp+wwL8kw3lXNuq6yZqb\n",
              "sQj7cfM7+aXNE1/CFLt6mb/Jo4GnACtgAKmBAAAEP0GaIWxBH/61KoACyj7vUAROy5w6WQCi+HKq\n",
              "7tb0u2bNpIXIkRpv3CP8PoTkoPp0gwelSoOv4+GSwE9xjawXBAz92XjMhszzp9UxKV6MNs9iSaa7\n",
              "vckLh4JLVkQ9GMGQ5TtS1FfIAMwgOzt/aBowBa8Vfr4fTlZy5l1P1YPKaaScN7NHu6Shn9pju0yS\n",
              "eqHz/hNa+nakw99L8f8KkwsqNTnoRYfdQVUdzlfqeE/rdlcLb4D8lReaAnvAtWdEwgzmDzsnwdOU\n",
              "popm1d4oXy77ON5Io6fdAdQQp+xnMU2m8S/VNNXbmqrAPJtm6g4+OhU+zqzv4BERIyH1CMtB+zaQ\n",
              "UKIefj6vQBq5F5jXxOOL62KWOWpHahqC9LsXt/0m7nT29k4Vs09VM0xCT/Nuca+zPiKP0RXwKxqE\n",
              "WkENz+lW5tE4Wfa4ZJQSGg367j8FTFHR74hxj8reThWYRFFQYXd/E1Yh1vDMG+gglzvOxs6abwjT\n",
              "5oqnPssWlyejU1l15juaXKYxBT1gUGbjKvx2qKFljRpti0Kptgg0YNl37qaE5RuF2vdvxo92nodl\n",
              "4ynb/MusXKbhqcS1F9rIWqilv11bpEmmTRy+vdHoTI0ga3/wVO34kadNL4V4wmSoMd90A5E3n06H\n",
              "pOYiEq7VVJz+mp31PrPQdT8qDsCE0eO84LL0FSZ9b0B5O0UqUETVcTjHUlgP3+4CK1gFo3XlAJIL\n",
              "4HbLlGFeyWsvatJGlc8MeOYZKcmnfAsKUwptUvWqQnnebixTUCcIuxdfqyPds5rcXNzOFeGp9EbR\n",
              "8vWQS6EKsRMCEtmtR8nFiyhUxVgK8GBShtMk/GOBKY+oTDlnULX8IvyYH0Sx2Rzqy+pS5EObzZrS\n",
              "UahLKdMMeioLEB7AYmf9Z4vK4NFtcHLBrOT9vWasj7bqRVdMWNqlUz+C0xoOoCYp/7lJl9eVYtu9\n",
              "/kVlBjh+IM5mn1ZvWzSifXUsnTMdwSJe2Fl6rdCYOLfrkUutlPPDO2B0U8oqYOttNKvl58Z6dhac\n",
              "4dfoXiGVISlMDbNdW54guyYK3ASbWvLhkhhvCqAEQVcKQicSpjU+el8IPw5vTmb5QykBGx+3agF5\n",
              "wP8SkODKLfnbnN+6o5WSnCMZyPfMI/3KaMFRn8M20norxxGCI5R+7UcQCUnhHYsn8+mWvGN+Az15\n",
              "GUX4urLpgfn7cwS2GZ/tzGp+0TNz3Baf++zb597abMnkTobHoxDkDgeciujgj0qRps20ziKAFyD9\n",
              "i3flHPKkEWRx2CFeKPAYHkADI48XQ4eyttNxZZ6xaIRatpxT1oq3TNx/NA9VaEOMSXa7XySv+Yjm\n",
              "8fpn+Q6D3bjTqJ41gMTUpn3JAnaVwOBzfZzQm4Za06n0essY0ruNKYmCfkpMoWdvk0EZIYUAjK9n\n",
              "Xxr9zU15m4FYo0AHR/otK2sTGL3A/pIXIVuKy1p/bMR+A7YAAAXCQZpFPCGTKYQQ//6qVQAFJ8Te\n",
              "AEYoxaSi9P7zzSRgrh9jlFeXJnJ30FcwUSMTHUNDCHPaL/zcJGN4owowc/1oliq/61yyIJizpzMa\n",
              "FnhHzbvu3pQmtYAYh+SOXuoN7CO6mDCznIWBizfZfHJD41l6fCJm7wW/VtHGuKDcKbOb+Rf0LsX6\n",
              "7wYJkFRMBPTrphlW5/kYOWT7cKXrHjIzuHd1IYECobyOdjMsuSLvvmQ/BBqc3GU+OoDdh2YQcl0g\n",
              "XggLhAFPPOGGjo18aRnnUl+WgbROeU+3gbx5QOdMPfORYsySPfmmdu5jOl3Z9ttgoOrZaP16OuAJ\n",
              "6jw7Sp8Fm+xeccJsrVGVvHN2Cd0UdUCpWeeeyrYGpc/22wPiyhlaVky6mIb8Jg7Ls6WkJvwW83DX\n",
              "1oUkuH7u/Do64FhcsbH+2NaIQCBlEozB6XeC8t+gQzzihnU2cqDX9HXRD3JHVxQpwVmep0YmlRqx\n",
              "AuKeEOXln8m3Fn8sALfyFgIOYVbVTbbJZs+ADu0LvXpW8NlM6s4IGRKmO/+QxcFCcS18LeKDn/w/\n",
              "Ndww/xV/2Ftim+jRCoBCxlLOepGvCGIsD4/gpLwSsuJx2IG8L7x7egBRqM0vzVqcEOMprOUbRYdu\n",
              "pgCafq+auX2F7fSLlZQRQg3dcFVmkdr24LupKOvrFPq2vmV4y9GQtf4AbqDrU0kVyGDeSM4eY21/\n",
              "WHSq2YS8OlgqAj5F0fVQYvS2izQ5Zp6B4XEGMi1a5fysWt8bebRx2CWm25PQsM210332/2KFpHyX\n",
              "2+tK5Fjl2iNDTVGDjxQ8p+AKkaJnSaqzKpvVoM22Q+EmhykoLqoMXcM6Yy2BwKKWLmzWKDxhRTaV\n",
              "HwfLtYaSxAfsfwupBEBj5z7K5LbcWyHE5xTjY4D1DnXDk96jpC3vt84H40+r9nGgttjvvdIKWbKN\n",
              "VtUbqvk4jWMFfV05xxWGO4ptplJUOquNaacm6df3lVcBnNaGLmFFcTj/7FonffOHDK+cXlPT7atO\n",
              "imNWH3SuB19s8EZbaDNLlLu38hlclve3H4KbQGAF8UTkyFvMbANbq0ELU+SstzMtFjxat6ykQ7Rt\n",
              "ChcOV4A6BSMORamJ3vtb8QGfIFrtYFPqWKWTGEJ+Wnd+wEjZIFksH15Y9hGnMtD/57rnnMQ4RQH/\n",
              "yBokwX7ZelqrR6BNVwiHNdHrzFxzxXkZqXLnSZ+50yKtkzQc4N4Ix7EbAEvMzRqXnfDpMKZ1zPEz\n",
              "13x3u4PzPB9NxOvgbOjaokvqJdEPoPKs8O3ocLWoYV6SI91VixUWyFf3x4ZI+cQg8jrwhVycTPVp\n",
              "lXkEMwLJoi2+/VLzKpbN6m2zGKt2a2vUeZ3SJ4XPP/uar+cjjhy+jaFNnKBB94K5tF/4eFR6j1Wy\n",
              "b5rJAq7lrUKkU3AG/5r7m5sdMXO3SbbQqfamtH7iXuFvp1boZlR0KSoMopqzsG/kcM6z2fJkGJZw\n",
              "BBcRX7l62Y6d5saVxYcs0BGT8jhL9TOGc/YTP0cPKm/GlPhgrL0ruEBUF65inDLw1YvzHUrBMxY1\n",
              "e4zt+R3oiisV0NcVYHwIMuIn0FjZAgRMQDhQQBUHKParXYeAp+1+9TAUF3/G2YbV48TJEKXjQ2Hq\n",
              "2QJSDc7E77RbdfhiTunGE6RGCmMPl2e5wNOhoVK+L8XkMRZ1Jo7ztMwhDmh548Hi5QcdQr9jzpy0\n",
              "/bzFoPrxfR/l8R9H/LQvKZM1TOv1JB9NRIojJw+FvLVYw3me1/3GTwVPWGuCe9sVtnmAxElrCuUo\n",
              "2dv47LrYzO/+5VqCPYyH4MRm34iNJh/qOUH/F278RCqXJa4x6rSqr/G+muwopQTj5636x25gUw20\n",
              "SX8P+7zrocHJN+XZS69xfw3FpwF8nKIF1HigiaUX6TFFRLSBIe6FM2Bv8YgcZTM4qwEQKZXF66UR\n",
              "0AANR5Xri3wbIKwFaLwSSbEH+OriPAWP1TsltAABHwAAA6ZBnmNqU8O/AAoKr15tjhajTdXNieKw\n",
              "AS1csUpVwkpbC1fQzJqboC8hi3+rabZWq36dcSvigKyOkp3SKeB1tehEI3Cfbq4rxg5Ma+pUFcsp\n",
              "R33iPO7h4Kr3M/PU1Ta+Kme/Y1qi09cbi8cCj+IC6eOZ9UXP6tEa8+5Xk03brPFW/KQFPPQDjySw\n",
              "aXqhKyhcZbSsJkoVwnW86rSYchz9DZjCOrSD+ticj8rqKDdcGgh0+UppRJ3EXaMI2P4m6lVN8AlA\n",
              "FJIEd5y2vGn/w7ScmCKb8jFHcl7yxATRko1QF4fv/LTb+DMiBP9SShxZxu2/vy/J0qvHHIHFHtHI\n",
              "sL55YkK2UfV7e3aBk6bVsaasdZLoeTX3VBh26HXKBzDa5pDOh8+0iJA+IAUXmxNshQVgGnDJSIQ7\n",
              "N2sgDvLEIpiFidy+MvDaVk7uYx3uyQXpmFV6PFkD0EzoOQTuYtI4eMwNWFMuWFUEyJuWAV8f4lQj\n",
              "kzi/GUfVvR6lAbOQUQ8D1OvN7yXtXRJokE1U+yMmO4JHaaCxiQYMWCRZmooBO0El6xZT1dFXXut4\n",
              "iCl6NZEsLnzq7b4SXoAtxfwDB44aQ0rb//BEAj3pn5V1ljZroxA7GAL2WNh7i9oZOt7NhxHRrClR\n",
              "Bqwy0ljNfQxf/+me1vzQsgO3VErOIvT+a2G0ZN2wLVjCwlJga5D2i/H1RCMKOzTs2inZNKe6ixs8\n",
              "+697tnK18Q7ikj317Iz2OY1bGt7rHA3yQ+2KZayKCmEhweWZ4UCLT/9viqdYKyVFAR4d2YV70Go6\n",
              "LuRz6zHd/Who/C9mdReM8sa/QsRZXCD4w87qNgv4tMwwLvYy+aNZw4ypl7iRXQC28Osd0MyHHBnY\n",
              "65Ct3x+oeG3CjkYAeQcXazufDCi6+FrCU/TNT4xFZFGhEMCFu1LXjk7qfaMQ5mBH80CeGyNO3uVD\n",
              "TqwXN7HTZOPn808jcEE1E12HZegLIJECYvhzaCPsTBsXE/JnO2BJ8LkowN9M+Ya6LxM3bTSiAEnm\n",
              "6lJ+sfAil6cYhcrnY7kQ6tKrQHz3Ylq7y9rxRL+0kjdc1Rnb5+afTiQWcKjd9zIZssHBFXrVeC4B\n",
              "r9X8ul50+F/wYfP6gFFeYUnYHSIieXI7VouYX0LzuL0pe1X2nmaL4DA0msc3ruHt9IbhtZ8ndMv7\n",
              "TNyGy+ib/0ovA42IAAq7T3KNgq3aRsvRLhMViRWzAUP/W/izgH4oMQAuVX4lhCMcdUCvpAJ8DedA\n",
              "AAAEKAGegnRDfwAN0hVzvmyBXrPf6JIYrJQAXSeqNXJvngYXGwQHkS9Gzvq5ASJSlIJ3RKXBWbx+\n",
              "x+qK5Rm+/o/BqCmPNdLCVyDQdXaFCv7JksnGk2Pfr3uAhRpttfum/KSgdLSBTyOSYlMRawgw9NQS\n",
              "5tYBfi2MMKu7owdEe7E9y4GA04NE5SCM/AqGbIO+stkUhjbr+ufo4GE5dZ03DgkrhomNmyxBiBVA\n",
              "QMydx1v1mWgO6XPyFnBXomw9yKpHVa6hAuFJgubjICpqlbD0qtBrsgUqxjLyPP9U79+kanOq4SDP\n",
              "H9fW/UtM+rIC468Jw+YeaGw1RIHAbVNG6zKBhyuzCkiLWqVvT/IYvIUK1RrHXYsAlrdK4a97mXu/\n",
              "kKe0MURJLMAQhgkmnka+YLFKTDBsIhdGwkOPx6gT0vDbdLt4ZpPG46SrWCHt12Eau6J8BWkFkALe\n",
              "Y0W8p0roX7mS25gELZLOCyOBT24sLP9pgZx/GukCHJEwLAX7sH24hlXpsIFER0Jm/q1ytSfTZtiM\n",
              "QsOLX5R4slsj4t7WnejZfe47SpwnBniVUR+gfVqNjzo80XM0ky0vjGfJYxBi+Vulu6kmUs9RZzqe\n",
              "eHgIJz/dPcf++u4JuBgsa12G88epL/0LGlsAx+uim1hlrbqtnttBlgn84suEe8Q96vrkz3gGefEQ\n",
              "2ZWB3XAqy51i4elf/ftUP7yQkuUtPbayLTf8diXgzkbiW++nHpq4Ha7PGQepWLlrzHEQLgZOxzKp\n",
              "Kfbpmkj2ya0fTC7Sh57Xk6AIybaMFfpcMwf70cybSgLjotXV0XRQgu4NDxEAsGtsGGaVEqNZXCZw\n",
              "2cIL5V6LGh4Z0F5dimVxYIuRPrZ1V6ole0WfMDq7lz4gF+GqW/rTUc53tiC/biEKKoRTuczJ5gby\n",
              "ee8UjJWircEjU1anr/FHwx3pKlpURZAIhEqBp0fKQGQm6jYIdeT77v8WiAKKpZfRRhvf0/mmutMQ\n",
              "FDwQf19wN80/iN25K4M7lQfEdUvuLfB6kgCDV7hAShPFs4kGPWLnsbW0Gyrs3z/BKlv/MLOeNxd3\n",
              "fi5iCIDaLDeQ5KcIOvokSB7ozoRfMdb9Qsa4ETIn8dq4EhHaKcAtmDX1bf36vtn2yz2xlCnflXOs\n",
              "jbiInwAo3XjTG/w6FM+E7m8SPc15WTZMi78zIRqu1zkQDUNbL8PsqO7pxDbDgtbxb7S1Bf5uVOIz\n",
              "jczSDGOJHnxvF8RPd4BKWMC1lP4qxasGkzGgp21Ypy+53Ce3WARBSkxQH4fFMVDb6xPpdYeiCQx4\n",
              "5JAdJjSCaHEJCPKEwO7clzw/CbdHk1+5ns9OpDhPPng0UpJ8XLpvyWKthsSCKA/PL5wgm77SGc6X\n",
              "uyBng+sAgFcL8wCXccmkO1iAggVcc7RoSRsgZFTQzLEpGy80AADihtoLAAACWQGehGpDfwAOKUAs\n",
              "ETWZg/zxWhRzXgA86lmySygR4PnYX8F0RtrfjFcdDG+/Xd4hxQ4lYhCa1AezO8XmOTliKMszvhTs\n",
              "JOP8BrJZLrpVqCS8Kt6A54I9bKaiXgvNpEx9SFHBulVyqpEaKcDcHFO20SrVAj8DDOBuDW6O+7E0\n",
              "uIyISY+8YHx1pTqBlSvV9khbvaUBKa/p5N9e+Mq44NtJ57l3faLczjw+FIMFPOtU7jppsgvw1DA+\n",
              "GPqZp7JicRGTS3aFuPc7YFNJ5HUZBnQw7KS7kf0AphQvT7FHndLExRui/oJ7VBmb/1QBbqpktogv\n",
              "aFlV98jUe7M2UHqwtfbrnKWuXY0Wp5MWFruB0IkgUwmGvqOnUpZKJZeN6BvyznewgvoY7MbUkXPc\n",
              "uOpWn580Cb2xvaGqeF+4SndzHxIui7U52M/+qbmgX8EvzCV3u5DhsQVFZ6gYCazNNbzu+6isdmy6\n",
              "iFZQkVB782Aw28atGAwcUZ4CiXHpO1sPXuLb5wXeNbUZd9L7WjpdgXA1dUEOBMtDLUMWsZ8tOhRC\n",
              "kCSF1/ic7l0nwEO7PXfCdZvhymyikzzLb2HbA+MCB21Xmp/TFS+WMvRN4CuuoxRD+aIP1qnuUmmK\n",
              "RLusBpR1ZEymGe2w6UQPDKYqltCvllEfVa191Y9OYTn8Shy9eZU7Vj1zQF9tTdVv8yJDG5MJY04e\n",
              "fOBP9v+emYysiTXkeMTBSpzSFgZVU9U5EBJYYi3u1K72/1KBvnG8OHjBT/4GVrvmHd/jGRpH7xwG\n",
              "vA9dAAS0ZaHlXYqO8wADdP6/F2kAAAP3QZqHSahBaJlMFPBH//61KoACk7dZhGgfbAC10j3r3nxj\n",
              "PGQmd1v+7DoG7HDvtevcxi8mPhkL03kZwyI+TJ3tQDcAzVpchufFLaGUCqWPYt5/o+DqHJc/mcKF\n",
              "Q+BilTgOak0XupO9jk4GMv/BedMeyHje45QTd/aLZQFQGZDYt8DQCV7zHa7ez7smBlM+vV8aWAQG\n",
              "2fNrAn6Gs3NhAoJTPEvflrAHpGg0QPxf6JjTI8nboLgTNXsWC/Qs8u5S8YaXZsvxv2Ys8+uSXp4c\n",
              "cnRyX3oLoZ4DGKC8ew/uvJjB9oB9HiJ86omXyCFq4x8c8l/Gc2Kl12LYixRhbsDkZodoIwd+O9OC\n",
              "CoGvgi4FeS0VVsFGqDV3+IAzVm9uwZFDvJbaJL5V4gPB/o9oZSTTljR7ydEXz4zqqAByiNhG49ds\n",
              "U7JXfU4XcyyLvdZBaoYqV4JhYYWiXUB7Rf0A+0+emgSUQf5Ph+cJkDDP6ZtQwsAQm0bEXfnFQ/RK\n",
              "uYTPegi3QO50qfXwPTZGAd372vGj3eLMYbPfHi+aUZ+WsGWMRrk0foZry+qDC1DH3hzdH+OQGiA1\n",
              "s8HsXlyh/UbHJc22FH+EoFCd7fnag1WgG8ecR/9K586C5CBpbFAAupaHhAmhrJqJioD/Yp7EXCIH\n",
              "25KSesgqpjik88nFsAuc9XBCSO6f9uZKH4fG2WyA8Lx/e1R7KeusZ4lao8b1bx56SnYhnaToOXEc\n",
              "m+fRlknZkSCP61+qaO84gRk4VbAfOKowVaS66gWA94X6pLBPJQp9qLI6ZmE1MkPcygmE+3cCRYSH\n",
              "XBU13GU/7fSAkVYE3a+yWLKQRaL21CA6Yj7b3pFOd5drFikbvaQltaPFCtqY7TdLPqdoo3ou1hCx\n",
              "1cCA+snRqTclBJvL90QEZrrhu5kQVRFMKUmwKQhok+GYhkQrTjrjcKHSGuvb32BsvkqGApou/BCu\n",
              "Nnyp6WVWholZp15cFMharOeKTHGCI/JqvwidWAkI5Eu8KfhXHG9IKzxEQwyC90XrRXIpXlv+K/ss\n",
              "VIzx6g2M1VnaTeZK5aYMIhFQ9U2aEUaNL5YSQoBc5/70H/jCToABhx0kbbwBfaUBGmkCXk7MQm/U\n",
              "pJW9UIeV+qf9N1YVOCQvsxsdi7VGx5pyT79QUk3fAs+8lLbEyVHpSggyf8lmBkGbnLSHiV7aATaP\n",
              "UrjGvvMRDIfLlYdDO6MtBMhLURTKRQdhkk70tbEaNy8laDoFXFdJzcWYX+TckPlT+1kIXKwLncRW\n",
              "q6N6BAZWFO60AWE4fenhjaLMqxo2N2/ZNxoB0+xfK83NVpdakDKKXcF13mRSNCA33ZJqXf2xUQGl\n",
              "3u2U7W49mr1W3dyboQAAAWsBnqZqQ38ADflVPeOkEgBNR5kZGqNqCgCPLcvWeEzb0EwvfXRMoEYU\n",
              "Oj3tqBO6I6CszPpgWLhx6BsxsiWCKSPJeP834+z9WTXuRqhuCE1f3WRT13mhoyBql6Y8Vs+GbFU6\n",
              "ZgAHcSDzfbbL2GcKfqZuUDRsRbj9eoMaubECX8nGE0ksaLuP3g8pn3/T2SCop0HdkHEJd2b5YFsa\n",
              "A/3xscUJVzf4D63JWQkK1hu9OT+UxgbMha1rBCRbE1Fkvv8yWx++Rzd9qFEjrTEQQuFMemPN0RJT\n",
              "todkup2wqvXsUmVfudGD8e3ZjYsVVo1DeSxwpdSjATcBwMx55vEnN/v634Q05LuY7pXbAdUCRlcb\n",
              "GA5jCqoW9Ey9fZzC9j/X0vQGrgmXJNVdo5DyPa8GQ6YCFnEMT+0NFFrPg75E6LqsBrdWwVmg4+CF\n",
              "yTn49IrtMkmAYRlz8R5fDYioTHtOa6Xe3cO1lw4/B2gBhx//E80AAAJqQZqrSeEKUmUwIIf//qpV\n",
              "AAUpCwWpXoANvsG5MsgxtRUGIZEvQGwsDs+n2hj6Gh96/gLC/Ooqo4ColjEBfjTiwclHiRFous7w\n",
              "0DyRnkYbH2gI/HBajDZYs52ZF9xCI221SL+r+8FviqLuW4frLQz0QFJySIikQn/Qtnl8y8535U79\n",
              "sjCuqZQj8P3ItkavGVu+YVuyV9GGV7JfwPaYbXycSf8IzvKG8QRjKO6Oy9ElhWsJdmvQoK0pfJ++\n",
              "yPwAruX85mJteyhkrPxH4Fmr1GCkWodHDcOU2Wmelf+nndfZO97Eq2VmnWPrSSpGpcrGh9aI8Zrq\n",
              "nq853HOtxpJkUi2ld+WI7oOC+GnKmMdKCgxfcBMPCcp+giCJrEiov7c+gpKZIm+R8ynR5jKlGDF1\n",
              "mjbfp0nV94XfL/0+QH2L9MVm2aqoZX7ifnxPVWtieekiiPRMzcqKhNAj8mGj/YPXhK52xwHsEiRN\n",
              "hbUMr9BgkFkwyxqPBN0dUKP4t0om4GVUn6F3W2YN3WKaT0DwTtcVrwjwP8fZmcUfT6SqAFCwICyG\n",
              "8ggS2YCxBBh5Svhb88hz8KVhm9JZSIB8CXJDhgx1voMlIj31YuZD5S6D7n7BU71YEOT/5wAwWxRF\n",
              "k/8S7O+yQeQcJhBq2NpxMyoU63NkKE5uq32irFusGEytE2vy+1RYMXpkLHICaBMk7PqavNXtEWlW\n",
              "kig7Um1TJfiXUK9lRcE8oqPu8osWUiT0GqZRKF17wuUX5P816p31w5WpqK2wKo/buWEXI4X6kuc3\n",
              "dOa8dswKQ959osYNT9MvECpxONWWsA1owwm0BCJjbob0AAAAr0GeyUU0TDv/AAnniU9yG/oALqC1\n",
              "3WJWWCF4/k5ZXzmLqS5H/sdJauC/Jj4xsWCOYg9+4/pscqxg80bkIuJV0ygVUYkFpk/qdBRg/XE+\n",
              "xQtlpSD0FqPzILTNrAgNOaOFmWZRjWdEbDUKrv/eD2mxYojDD1kZpFR9zsycBX+bf9ivfwkdKnvL\n",
              "Fc7wsZKh3FW7Qy3l4MQBFk72xpwmrrI+579YQ5eUxMAVe5mQPeafxPMAAAB9AZ7odEN/AA35VbgX\n",
              "unKlLLoWUAJq9tO4gItZQ14U3BwVb5IY2tSkCH5iUDEJOjHUZt9o8ohgJRc9E2JfKs8zacsYfey3\n",
              "1hECzR5g9ulaRkho6C8K+7wciyk68S74y2HLh7ABR8fCxtWkSvJEyjFMcqIFgeV/3AH86J32+rEA\n",
              "AAApAZ7qakN/AA4N7GMvCkL4yi07oJyDF8JgnHcZeJ6t+0Z11AAGvIrK39AAAAFFQZrtSahBaJlM\n",
              "FPBD//6qVQAFKgGyKAAA43yFCSq9E5agfopkA0pq7fx7eWWXtls3kc1ATa6cbgtmQNIrK8gXsu6t\n",
              "SdTW9OdGLMrX0lDYD0YM07CfusM9rqz/JJhuvUzfMkjKQZNlYJoLViYqZETIQBrxGfc6tDjIyuxp\n",
              "mIuxI8ppTJrtZFNexocG6ZHhEzp9hqC5piQNfjAv+vAVZf1AJ8B/fKr0JEK5Kr9PlI+b+plxNP1S\n",
              "IUIf65dh/viENcI3vhnCddJPngDsmwI1BlGNkgYoq3iBLq9pnuSnvzBGiTMsGyfLc4LeMFdEujID\n",
              "DOCI9F3uuWhkHdcn8efNKHjz6uEdvgcoPjfG3vFCIElKPjrLK1qJ3FrmPDYSpFRmvvhm0JVjbqHH\n",
              "+ZrI6MgYBuoKUroqN8a4CwzULVJxNzaEzmOycQAB/gAAACEBnwxqQ38ADcvD76AHcCR36r+K4CO1\n",
              "B+IJgdAAXsFl8mEAAAGaQZsRSeEKUmUwIf/+qZYAFBYvaDABbopgI08IfsPvqadUKUTt3h7MogVv\n",
              "VpiA0/NuV9uus6lfPY3SFULJjbEPFctTTXzDnPN0M4VGYCivHHJLg4CSsrVAXHxs7HM/2ENmvd0D\n",
              "mS2l93iJZi3Xf2R2zPY72Q5ULZTTuSo0aiUEM6YizPPROSeQHIlbjDsBZ/gpIfC1SdglNYtr8H2R\n",
              "37NF8Rru8pmcv9sHZoTeoN7w7duwUi7p3G6nM/5e1KCaSgDqXkR8TTT+o/iJBzlxCdG69neZn1Xb\n",
              "NpL63CPpa/Ff9shMMkku3+HUnVq+d2qjysrc6a/PyT8qxgdDuVwBL9FGY9IOl28axABn+hmywF9O\n",
              "WrcOgKOO6IfP9TiFq3r0A/lgu8XHJD3WNoBIKSPvG2kwQJqqPP/JoVKhurOHYYCEhXtzUq/evnUb\n",
              "9i89rqQOkyojdYoBu8OgeMUWA60l0pPqEn5TCIVFECsQ2pLvM9e62hqaaZUByzAM13M++XcrEPBa\n",
              "uubjDJYI8wV20ozyvjAAZOX2WEKm7zAAEnEAAACRQZ8vRTRMO/8ACeeWumRTqCDK28OPWAFjxaYZ\n",
              "R5422dBq6j49oCBKkNradUHzzt/shhUs550ulm+AfT4xILaKwvCGdru2yIvuwlMlDugsvtAt7NbO\n",
              "/HP/misw8OehjRZL0GFIybLnMioiac5bYApzrBAskIwZ7LJ5C8G5qRMsaTf+jkMZEFKu3UMzMcB7\n",
              "C/eF4QAAABcBn050Q38ABnEKpsqkBRKxVUxNu7C+QAAAACUBn1BqQ38ADidwMV+EV3aBg0hoAE20\n",
              "0YWT4UyBU55AR/ohfdtSAAAAukGbU0moQWiZTBTw3/6nhAAnzP2ISAE1e7w2wpitCKaqWB4DftAd\n",
              "xASgT93bVFPpnsLlChvJ3sM4uLGK7fq+tMNvUwqeufhb797urU4hTvIIwhd1/+zpymCSEBV8oSTe\n",
              "JbKqdxRi6uCMkGCdkcLvmP2Vdtigk6fDZeQQq7a56n7pulJsJ3OaMdR78zmCUn0FCdIOQfXSPHAC\n",
              "moJSjdto5Y8DgbjUmVgCHwI5FUVc32iRUVXmeVfzhmABNwAAABoBn3JqQ38ADcn1LG912Oc3XTAI\n",
              "2ooNEo0TWAAABBdtb292AAAAbG12aGQAAAAAAAAAAAAAAAAAAAPoAAAH0AABAAABAAAAAAAAAAAA\n",
              "AAAAAQAAAAAAAAAAAAAAAAAAAAEAAAAAAAAAAAAAAAAAAEAAAAAAAAAAAAAAAAAAAAAAAAAAAAAA\n",
              "AAAAAAAAAAACAAADQXRyYWsAAABcdGtoZAAAAAMAAAAAAAAAAAAAAAEAAAAAAAAH0AAAAAAAAAAA\n",
              "AAAAAAAAAAAAAQAAAAAAAAAAAAAAAAAAAAEAAAAAAAAAAAAAAAAAAEAAAAAB9AAAAZAAAAAAACRl\n",
              "ZHRzAAAAHGVsc3QAAAAAAAAAAQAAB9AAAAgAAAEAAAAAArltZGlhAAAAIG1kaGQAAAAAAAAAAAAA\n",
              "AAAAACgAAABQAFXEAAAAAAAtaGRscgAAAAAAAAAAdmlkZQAAAAAAAAAAAAAAAFZpZGVvSGFuZGxl\n",
              "cgAAAAJkbWluZgAAABR2bWhkAAAAAQAAAAAAAAAAAAAAJGRpbmYAAAAcZHJlZgAAAAAAAAABAAAA\n",
              "DHVybCAAAAABAAACJHN0YmwAAAC0c3RzZAAAAAAAAAABAAAApGF2YzEAAAAAAAAAAQAAAAAAAAAA\n",
              "AAAAAAAAAAAB9AGQAEgAAABIAAAAAAAAAAEAAAAAAAAAAAAAAAAAAAAAAAAAAAAAAAAAAAAAAAAA\n",
              "AAAY//8AAAAyYXZjQwFkABb/4QAZZ2QAFqzZQIAz5+EAAAMAAQAAAwAUDxYtlgEABmjr48siwAAA\n",
              "ABx1dWlka2hA8l8kT8W6OaUbzwMj8wAAAAAAAAAYc3R0cwAAAAAAAAABAAAAFAAABAAAAAAUc3Rz\n",
              "cwAAAAAAAAABAAAAAQAAAKhjdHRzAAAAAAAAABMAAAACAAAIAAAAAAEAABQAAAAAAQAACAAAAAAB\n",
              "AAAAAAAAAAEAAAQAAAAAAQAADAAAAAABAAAEAAAAAAEAABQAAAAAAQAACAAAAAABAAAAAAAAAAEA\n",
              "AAQAAAAAAQAADAAAAAABAAAEAAAAAAEAABQAAAAAAQAACAAAAAABAAAAAAAAAAEAAAQAAAAAAQAA\n",
              "DAAAAAABAAAEAAAAABxzdHNjAAAAAAAAAAEAAAABAAAAFAAAAAEAAABkc3RzegAAAAAAAAAAAAAA\n",
              "FAAAHxsAAARDAAAFxgAAA6oAAAQsAAACXQAAA/sAAAFvAAACbgAAALMAAACBAAAALQAAAUkAAAAl\n",
              "AAABngAAAJUAAAAbAAAAKQAAAL4AAAAeAAAAFHN0Y28AAAAAAAAAAQAAACwAAABidWR0YQAAAFpt\n",
              "ZXRhAAAAAAAAACFoZGxyAAAAAAAAAABtZGlyYXBwbAAAAAAAAAAAAAAAAC1pbHN0AAAAJal0b28A\n",
              "AAAdZGF0YQAAAAEAAAAATGF2ZjU3LjgzLjEwMA==\n",
              "\">\n",
              "  Your browser does not support the video tag.\n",
              "</video>"
            ],
            "text/plain": [
              "<matplotlib.animation.FuncAnimation at 0x7f5e82be77f0>"
            ]
          },
          "metadata": {
            "tags": []
          },
          "execution_count": 21
        }
      ]
    },
    {
      "metadata": {
        "id": "A1OXxvzl2wwn",
        "colab_type": "code",
        "colab": {}
      },
      "cell_type": "code",
      "source": [
        ""
      ],
      "execution_count": 0,
      "outputs": []
    }
  ]
}