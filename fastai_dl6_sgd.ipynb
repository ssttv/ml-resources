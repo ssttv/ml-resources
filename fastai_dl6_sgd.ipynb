{
  "nbformat": 4,
  "nbformat_minor": 0,
  "metadata": {
    "colab": {
      "name": "fastai_dl6_sgd.ipynb",
      "version": "0.3.2",
      "provenance": [],
      "collapsed_sections": [],
      "include_colab_link": true
    },
    "kernelspec": {
      "name": "python3",
      "display_name": "Python 3"
    },
    "accelerator": "GPU"
  },
  "cells": [
    {
      "cell_type": "markdown",
      "metadata": {
        "id": "view-in-github",
        "colab_type": "text"
      },
      "source": [
        "<a href=\"https://colab.research.google.com/github/ssttv/ml-resources/blob/master/fastai_dl6_sgd.ipynb\" target=\"_parent\"><img src=\"https://colab.research.google.com/assets/colab-badge.svg\" alt=\"Open In Colab\"/></a>"
      ]
    },
    {
      "metadata": {
        "id": "7cnW_u1z2b6A",
        "colab_type": "code",
        "colab": {}
      },
      "cell_type": "code",
      "source": [
        "!apt-get install -y -qq software-properties-common module-init-tools\n",
        "!add-apt-repository -y ppa:alessandro-strada/ppa 2>&1 > /dev/null\n",
        "!apt-get update -qq 2>&1 > /dev/null\n",
        "!apt-get -y install -qq google-drive-ocamlfuse fuse\n",
        "from google.colab import auth\n",
        "auth.authenticate_user()\n",
        "from oauth2client.client import GoogleCredentials\n",
        "creds = GoogleCredentials.get_application_default()\n",
        "import getpass\n",
        "!google-drive-ocamlfuse -headless -id={creds.client_id} -secret={creds.client_secret} < /dev/null 2>&1 | grep URL\n",
        "vcode = getpass.getpass()\n",
        "!echo {vcode} | google-drive-ocamlfuse -headless -id={creds.client_id} -secret={creds.client_secret}"
      ],
      "execution_count": 0,
      "outputs": []
    },
    {
      "metadata": {
        "id": "h8cOIiah2jJ4",
        "colab_type": "code",
        "colab": {}
      },
      "cell_type": "code",
      "source": [
        "!mkdir -p drive\n",
        "!google-drive-ocamlfuse drive"
      ],
      "execution_count": 0,
      "outputs": []
    },
    {
      "metadata": {
        "id": "7XAVsbkVrR0O",
        "colab_type": "code",
        "colab": {}
      },
      "cell_type": "code",
      "source": [
        "!pip3 install fastai==0.7.0"
      ],
      "execution_count": 0,
      "outputs": []
    },
    {
      "metadata": {
        "id": "wtjwYT1cwNV2",
        "colab_type": "code",
        "colab": {}
      },
      "cell_type": "code",
      "source": [
        "!pip3 install torchtext==0.2.3"
      ],
      "execution_count": 0,
      "outputs": []
    },
    {
      "metadata": {
        "id": "9dvQazSY1I1p",
        "colab_type": "code",
        "colab": {}
      },
      "cell_type": "code",
      "source": [
        "%matplotlib inline\n",
        "from fastai.learner import *"
      ],
      "execution_count": 0,
      "outputs": []
    },
    {
      "metadata": {
        "id": "wS6QZVgF1y_0",
        "colab_type": "code",
        "colab": {}
      },
      "cell_type": "code",
      "source": [
        "# Here we generate some fake data\n",
        "def lin(a,b,x): return a*x+b\n",
        "\n",
        "def gen_fake_data(n, a, b):\n",
        "    x = s = np.random.uniform(0,1,n) \n",
        "    y = lin(a,b,x) + 0.1 * np.random.normal(0,3,n)\n",
        "    return x, y\n",
        "\n",
        "x, y = gen_fake_data(50, 3., 8.)"
      ],
      "execution_count": 0,
      "outputs": []
    },
    {
      "metadata": {
        "id": "a1PM9UFN1zgw",
        "colab_type": "code",
        "colab": {
          "base_uri": "https://localhost:8080/",
          "height": 280
        },
        "outputId": "138c5d3f-436e-4fbd-d92a-5f75a9f621de"
      },
      "cell_type": "code",
      "source": [
        "plt.scatter(x,y, s=8); plt.xlabel(\"x\"); plt.ylabel(\"y\");"
      ],
      "execution_count": 3,
      "outputs": [
        {
          "output_type": "display_data",
          "data": {
            "image/png": "[encoded data removed]",
            "text/plain": [
              "<matplotlib.figure.Figure at 0x7f5e86cfb390>"
            ]
          },
          "metadata": {
            "tags": []
          }
        }
      ]
    },
    {
      "metadata": {
        "id": "GCh7rUF112GY",
        "colab_type": "code",
        "colab": {}
      },
      "cell_type": "code",
      "source": [
        "def mse(y_hat, y): return ((y_hat - y) ** 2).mean()"
      ],
      "execution_count": 0,
      "outputs": []
    },
    {
      "metadata": {
        "id": "mMgI-7VW14D4",
        "colab_type": "code",
        "colab": {
          "base_uri": "https://localhost:8080/",
          "height": 34
        },
        "outputId": "f2c59d03-8c3d-4467-a6b8-b6d69e91d874"
      },
      "cell_type": "code",
      "source": [
        "y_hat = lin(10,5,x)\n",
        "mse(y_hat, y)"
      ],
      "execution_count": 5,
      "outputs": [
        {
          "output_type": "execute_result",
          "data": {
            "text/plain": [
              "4.648603008757235"
            ]
          },
          "metadata": {
            "tags": []
          },
          "execution_count": 5
        }
      ]
    },
    {
      "metadata": {
        "id": "xyIOhzum16L5",
        "colab_type": "code",
        "colab": {}
      },
      "cell_type": "code",
      "source": [
        "def mse_loss(a, b, x, y): return mse(lin(a,b,x), y)"
      ],
      "execution_count": 0,
      "outputs": []
    },
    {
      "metadata": {
        "id": "l74IFzHB1795",
        "colab_type": "code",
        "colab": {
          "base_uri": "https://localhost:8080/",
          "height": 34
        },
        "outputId": "b4c24a08-d8e3-49a2-9ac9-b452d7bda787"
      },
      "cell_type": "code",
      "source": [
        "mse_loss(10, 5, x, y)"
      ],
      "execution_count": 7,
      "outputs": [
        {
          "output_type": "execute_result",
          "data": {
            "text/plain": [
              "4.648603008757235"
            ]
          },
          "metadata": {
            "tags": []
          },
          "execution_count": 7
        }
      ]
    },
    {
      "metadata": {
        "id": "nPuXYywA19ph",
        "colab_type": "code",
        "colab": {
          "base_uri": "https://localhost:8080/",
          "height": 34
        },
        "outputId": "0971af88-0497-4d7d-b485-0ae2722043ae"
      },
      "cell_type": "code",
      "source": [
        "# generate some more data\n",
        "x, y = gen_fake_data(10000, 3., 8.)\n",
        "x.shape, y.shape"
      ],
      "execution_count": 8,
      "outputs": [
        {
          "output_type": "execute_result",
          "data": {
            "text/plain": [
              "((10000,), (10000,))"
            ]
          },
          "metadata": {
            "tags": []
          },
          "execution_count": 8
        }
      ]
    },
    {
      "metadata": {
        "id": "8Bosxv_51_mQ",
        "colab_type": "code",
        "colab": {}
      },
      "cell_type": "code",
      "source": [
        "x,y = V(x),V(y)"
      ],
      "execution_count": 0,
      "outputs": []
    },
    {
      "metadata": {
        "id": "ITJGZvnB2B2o",
        "colab_type": "code",
        "colab": {
          "base_uri": "https://localhost:8080/",
          "height": 104
        },
        "outputId": "0fa09658-a4d5-4c3e-f86f-2048143d8b00"
      },
      "cell_type": "code",
      "source": [
        "# Create random weights a and b, and wrap them in Variables.\n",
        "a = V(np.random.randn(1), requires_grad=True)\n",
        "b = V(np.random.randn(1), requires_grad=True)\n",
        "a,b"
      ],
      "execution_count": 10,
      "outputs": [
        {
          "output_type": "execute_result",
          "data": {
            "text/plain": [
              "(Variable containing:\n",
              " -0.6863\n",
              " [torch.cuda.FloatTensor of size 1 (GPU 0)], Variable containing:\n",
              " -1.0969\n",
              " [torch.cuda.FloatTensor of size 1 (GPU 0)])"
            ]
          },
          "metadata": {
            "tags": []
          },
          "execution_count": 10
        }
      ]
    },
    {
      "metadata": {
        "id": "5viu0zcw2Dui",
        "colab_type": "code",
        "colab": {
          "base_uri": "https://localhost:8080/",
          "height": 190
        },
        "outputId": "e8095768-c1dc-4af3-8adb-b8077228ad05"
      },
      "cell_type": "code",
      "source": [
        "learning_rate = 1e-3\n",
        "for t in range(10000):\n",
        "    # Forward pass: compute predicted y using operations on Variables\n",
        "    loss = mse_loss(a,b,x,y)\n",
        "    if t % 1000 == 0: print(loss.data[0])\n",
        "    \n",
        "    # Computes the gradient of loss with respect to all Variables with requires_grad=True.\n",
        "    # After this call a.grad and b.grad will be Variables holding the gradient\n",
        "    # of the loss with respect to a and b respectively\n",
        "    loss.backward()\n",
        "    \n",
        "    # Update a and b using gradient descent; a.data and b.data are Tensors,\n",
        "    # a.grad and b.grad are Variables and a.grad.data and b.grad.data are Tensors\n",
        "    a.data -= learning_rate * a.grad.data\n",
        "    b.data -= learning_rate * b.grad.data\n",
        "    \n",
        "    # Zero the gradients\n",
        "    a.grad.data.zero_()\n",
        "    b.grad.data.zero_()"
      ],
      "execution_count": 11,
      "outputs": [
        {
          "output_type": "stream",
          "text": [
            "120.71295166015625\n",
            "0.9066709876060486\n",
            "0.13721820712089539\n",
            "0.1226956769824028\n",
            "0.11517951637506485\n",
            "0.10942673683166504\n",
            "0.10500600934028625\n",
            "0.10160885006189346\n",
            "0.09899840503931046\n",
            "0.09699228405952454\n"
          ],
          "name": "stdout"
        }
      ]
    },
    {
      "metadata": {
        "id": "nUvfvo6X2GUq",
        "colab_type": "code",
        "colab": {}
      },
      "cell_type": "code",
      "source": [
        ""
      ],
      "execution_count": 0,
      "outputs": []
    }
  ]
}