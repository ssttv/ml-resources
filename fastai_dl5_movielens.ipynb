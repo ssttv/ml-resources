{
  "nbformat": 4,
  "nbformat_minor": 0,
  "metadata": {
    "colab": {
      "name": "fastai_dl5_movielens.ipynb",
      "version": "0.3.2",
      "provenance": [],
      "collapsed_sections": [],
      "include_colab_link": true
    },
    "kernelspec": {
      "name": "python3",
      "display_name": "Python 3"
    },
    "accelerator": "GPU"
  },
  "cells": [
    {
      "cell_type": "markdown",
      "metadata": {
        "id": "view-in-github",
        "colab_type": "text"
      },
      "source": [
        "<a href=\"https://colab.research.google.com/github/ssttv/ml-resources/blob/master/fastai_dl5_movielens.ipynb\" target=\"_parent\"><img src=\"https://colab.research.google.com/assets/colab-badge.svg\" alt=\"Open In Colab\"/></a>"
      ]
    },
    {
      "metadata": {
        "id": "7cnW_u1z2b6A",
        "colab_type": "code",
        "colab": {}
      },
      "cell_type": "code",
      "source": [
        "!apt-get install -y -qq software-properties-common module-init-tools\n",
        "!add-apt-repository -y ppa:alessandro-strada/ppa 2>&1 > /dev/null\n",
        "!apt-get update -qq 2>&1 > /dev/null\n",
        "!apt-get -y install -qq google-drive-ocamlfuse fuse\n",
        "from google.colab import auth\n",
        "auth.authenticate_user()\n",
        "from oauth2client.client import GoogleCredentials\n",
        "creds = GoogleCredentials.get_application_default()\n",
        "import getpass\n",
        "!google-drive-ocamlfuse -headless -id={creds.client_id} -secret={creds.client_secret} < /dev/null 2>&1 | grep URL\n",
        "vcode = getpass.getpass()\n",
        "!echo {vcode} | google-drive-ocamlfuse -headless -id={creds.client_id} -secret={creds.client_secret}"
      ],
      "execution_count": 0,
      "outputs": []
    },
    {
      "metadata": {
        "id": "h8cOIiah2jJ4",
        "colab_type": "code",
        "colab": {}
      },
      "cell_type": "code",
      "source": [
        "!mkdir -p drive\n",
        "!google-drive-ocamlfuse drive"
      ],
      "execution_count": 0,
      "outputs": []
    },
    {
      "metadata": {
        "id": "7XAVsbkVrR0O",
        "colab_type": "code",
        "colab": {}
      },
      "cell_type": "code",
      "source": [
        "!pip3 install fastai==0.7.0"
      ],
      "execution_count": 0,
      "outputs": []
    },
    {
      "metadata": {
        "id": "wtjwYT1cwNV2",
        "colab_type": "code",
        "colab": {}
      },
      "cell_type": "code",
      "source": [
        "!pip3 install torchtext==0.2.3"
      ],
      "execution_count": 0,
      "outputs": []
    },
    {
      "metadata": {
        "id": "ZeZ8Dt7glsdl",
        "colab_type": "code",
        "colab": {}
      },
      "cell_type": "code",
      "source": [
        "%reload_ext autoreload\n",
        "%autoreload 2\n",
        "%matplotlib inline\n",
        "\n",
        "from fastai.learner import *\n",
        "from fastai.column_data import *"
      ],
      "execution_count": 0,
      "outputs": []
    },
    {
      "metadata": {
        "id": "z0UdJx7grTRr",
        "colab_type": "code",
        "outputId": "5bd29ffd-cdd7-4471-ee6d-88ea70df71bd",
        "colab": {
          "base_uri": "https://localhost:8080/",
          "height": 329
        }
      },
      "cell_type": "code",
      "source": [
        "!wget http://files.grouplens.org/datasets/movielens/ml-latest-small.zip\n",
        "!unzip ml-latest-small.zip\n",
        "!mkdir data\n",
        "!mv ml-latest-small data"
      ],
      "execution_count": 0,
      "outputs": [
        {
          "output_type": "stream",
          "text": [
            "--2019-01-05 10:01:17--  http://files.grouplens.org/datasets/movielens/ml-latest-small.zip\n",
            "Resolving files.grouplens.org (files.grouplens.org)... 128.101.34.235\n",
            "Connecting to files.grouplens.org (files.grouplens.org)|128.101.34.235|:80... connected.\n",
            "HTTP request sent, awaiting response... 200 OK\n",
            "Length: 978202 (955K) [application/zip]\n",
            "Saving to: ‘ml-latest-small.zip’\n",
            "\n",
            "\rml-latest-small.zip   0%[                    ]       0  --.-KB/s               \rml-latest-small.zip 100%[===================>] 955.28K  --.-KB/s    in 0.1s    \n",
            "\n",
            "2019-01-05 10:01:17 (7.33 MB/s) - ‘ml-latest-small.zip’ saved [978202/978202]\n",
            "\n",
            "Archive:  ml-latest-small.zip\n",
            "   creating: ml-latest-small/\n",
            "  inflating: ml-latest-small/links.csv  \n",
            "  inflating: ml-latest-small/tags.csv  \n",
            "  inflating: ml-latest-small/ratings.csv  \n",
            "  inflating: ml-latest-small/README.txt  \n",
            "  inflating: ml-latest-small/movies.csv  \n"
          ],
          "name": "stdout"
        }
      ]
    },
    {
      "metadata": {
        "id": "0I6vgp80ddB6",
        "colab_type": "code",
        "colab": {}
      },
      "cell_type": "code",
      "source": [
        "path='data/ml-latest-small/'"
      ],
      "execution_count": 0,
      "outputs": []
    },
    {
      "metadata": {
        "id": "rQmbEdmhdhmo",
        "colab_type": "code",
        "outputId": "7ad3ef94-48cc-4de7-9683-c166c5dc85cc",
        "colab": {
          "base_uri": "https://localhost:8080/",
          "height": 202
        }
      },
      "cell_type": "code",
      "source": [
        "ratings = pd.read_csv(path+'ratings.csv')\n",
        "ratings.head()"
      ],
      "execution_count": 0,
      "outputs": [
        {
          "output_type": "execute_result",
          "data": {
            "text/html": [
              "<div>\n",
              "<style scoped>\n",
              "    .dataframe tbody tr th:only-of-type {\n",
              "        vertical-align: middle;\n",
              "    }\n",
              "\n",
              "    .dataframe tbody tr th {\n",
              "        vertical-align: top;\n",
              "    }\n",
              "\n",
              "    .dataframe thead th {\n",
              "        text-align: right;\n",
              "    }\n",
              "</style>\n",
              "<table border=\"1\" class=\"dataframe\">\n",
              "  <thead>\n",
              "    <tr style=\"text-align: right;\">\n",
              "      <th></th>\n",
              "      <th>userId</th>\n",
              "      <th>movieId</th>\n",
              "      <th>rating</th>\n",
              "      <th>timestamp</th>\n",
              "    </tr>\n",
              "  </thead>\n",
              "  <tbody>\n",
              "    <tr>\n",
              "      <th>0</th>\n",
              "      <td>1</td>\n",
              "      <td>1</td>\n",
              "      <td>4.0</td>\n",
              "      <td>964982703</td>\n",
              "    </tr>\n",
              "    <tr>\n",
              "      <th>1</th>\n",
              "      <td>1</td>\n",
              "      <td>3</td>\n",
              "      <td>4.0</td>\n",
              "      <td>964981247</td>\n",
              "    </tr>\n",
              "    <tr>\n",
              "      <th>2</th>\n",
              "      <td>1</td>\n",
              "      <td>6</td>\n",
              "      <td>4.0</td>\n",
              "      <td>964982224</td>\n",
              "    </tr>\n",
              "    <tr>\n",
              "      <th>3</th>\n",
              "      <td>1</td>\n",
              "      <td>47</td>\n",
              "      <td>5.0</td>\n",
              "      <td>964983815</td>\n",
              "    </tr>\n",
              "    <tr>\n",
              "      <th>4</th>\n",
              "      <td>1</td>\n",
              "      <td>50</td>\n",
              "      <td>5.0</td>\n",
              "      <td>964982931</td>\n",
              "    </tr>\n",
              "  </tbody>\n",
              "</table>\n",
              "</div>"
            ],
            "text/plain": [
              "   userId  movieId  rating  timestamp\n",
              "0       1        1     4.0  964982703\n",
              "1       1        3     4.0  964981247\n",
              "2       1        6     4.0  964982224\n",
              "3       1       47     5.0  964983815\n",
              "4       1       50     5.0  964982931"
            ]
          },
          "metadata": {
            "tags": []
          },
          "execution_count": 43
        }
      ]
    },
    {
      "metadata": {
        "id": "pUCnPSDkdkv7",
        "colab_type": "code",
        "outputId": "754ff859-4e3f-4746-da78-0dcee3af8dbf",
        "colab": {
          "base_uri": "https://localhost:8080/",
          "height": 202
        }
      },
      "cell_type": "code",
      "source": [
        "movies = pd.read_csv(path+'movies.csv')\n",
        "movies.head()"
      ],
      "execution_count": 0,
      "outputs": [
        {
          "output_type": "execute_result",
          "data": {
            "text/html": [
              "<div>\n",
              "<style scoped>\n",
              "    .dataframe tbody tr th:only-of-type {\n",
              "        vertical-align: middle;\n",
              "    }\n",
              "\n",
              "    .dataframe tbody tr th {\n",
              "        vertical-align: top;\n",
              "    }\n",
              "\n",
              "    .dataframe thead th {\n",
              "        text-align: right;\n",
              "    }\n",
              "</style>\n",
              "<table border=\"1\" class=\"dataframe\">\n",
              "  <thead>\n",
              "    <tr style=\"text-align: right;\">\n",
              "      <th></th>\n",
              "      <th>movieId</th>\n",
              "      <th>title</th>\n",
              "      <th>genres</th>\n",
              "    </tr>\n",
              "  </thead>\n",
              "  <tbody>\n",
              "    <tr>\n",
              "      <th>0</th>\n",
              "      <td>1</td>\n",
              "      <td>Toy Story (1995)</td>\n",
              "      <td>Adventure|Animation|Children|Comedy|Fantasy</td>\n",
              "    </tr>\n",
              "    <tr>\n",
              "      <th>1</th>\n",
              "      <td>2</td>\n",
              "      <td>Jumanji (1995)</td>\n",
              "      <td>Adventure|Children|Fantasy</td>\n",
              "    </tr>\n",
              "    <tr>\n",
              "      <th>2</th>\n",
              "      <td>3</td>\n",
              "      <td>Grumpier Old Men (1995)</td>\n",
              "      <td>Comedy|Romance</td>\n",
              "    </tr>\n",
              "    <tr>\n",
              "      <th>3</th>\n",
              "      <td>4</td>\n",
              "      <td>Waiting to Exhale (1995)</td>\n",
              "      <td>Comedy|Drama|Romance</td>\n",
              "    </tr>\n",
              "    <tr>\n",
              "      <th>4</th>\n",
              "      <td>5</td>\n",
              "      <td>Father of the Bride Part II (1995)</td>\n",
              "      <td>Comedy</td>\n",
              "    </tr>\n",
              "  </tbody>\n",
              "</table>\n",
              "</div>"
            ],
            "text/plain": [
              "   movieId                               title  \\\n",
              "0        1                    Toy Story (1995)   \n",
              "1        2                      Jumanji (1995)   \n",
              "2        3             Grumpier Old Men (1995)   \n",
              "3        4            Waiting to Exhale (1995)   \n",
              "4        5  Father of the Bride Part II (1995)   \n",
              "\n",
              "                                        genres  \n",
              "0  Adventure|Animation|Children|Comedy|Fantasy  \n",
              "1                   Adventure|Children|Fantasy  \n",
              "2                               Comedy|Romance  \n",
              "3                         Comedy|Drama|Romance  \n",
              "4                                       Comedy  "
            ]
          },
          "metadata": {
            "tags": []
          },
          "execution_count": 44
        }
      ]
    },
    {
      "metadata": {
        "id": "_IGvx2L7geDO",
        "colab_type": "code",
        "outputId": "ba81848e-a0f2-41da-dc82-a63e6a49d65a",
        "colab": {
          "base_uri": "https://localhost:8080/",
          "height": 540
        }
      },
      "cell_type": "code",
      "source": [
        "g=ratings.groupby('userId')['rating'].count()\n",
        "topUsers=g.sort_values(ascending=False)[:15]\n",
        "\n",
        "g=ratings.groupby('movieId')['rating'].count()\n",
        "topMovies=g.sort_values(ascending=False)[:15]\n",
        "\n",
        "top_r = ratings.join(topUsers, rsuffix='_r', how='inner', on='userId')\n",
        "top_r = top_r.join(topMovies, rsuffix='_r', how='inner', on='movieId')\n",
        "\n",
        "pd.crosstab(top_r.userId, top_r.movieId, top_r.rating, aggfunc=np.sum)"
      ],
      "execution_count": 0,
      "outputs": [
        {
          "output_type": "execute_result",
          "data": {
            "text/html": [
              "<div>\n",
              "<style scoped>\n",
              "    .dataframe tbody tr th:only-of-type {\n",
              "        vertical-align: middle;\n",
              "    }\n",
              "\n",
              "    .dataframe tbody tr th {\n",
              "        vertical-align: top;\n",
              "    }\n",
              "\n",
              "    .dataframe thead th {\n",
              "        text-align: right;\n",
              "    }\n",
              "</style>\n",
              "<table border=\"1\" class=\"dataframe\">\n",
              "  <thead>\n",
              "    <tr style=\"text-align: right;\">\n",
              "      <th>movieId</th>\n",
              "      <th>1</th>\n",
              "      <th>50</th>\n",
              "      <th>110</th>\n",
              "      <th>260</th>\n",
              "      <th>296</th>\n",
              "      <th>318</th>\n",
              "      <th>356</th>\n",
              "      <th>480</th>\n",
              "      <th>527</th>\n",
              "      <th>589</th>\n",
              "      <th>593</th>\n",
              "      <th>1196</th>\n",
              "      <th>2571</th>\n",
              "      <th>2858</th>\n",
              "      <th>2959</th>\n",
              "    </tr>\n",
              "    <tr>\n",
              "      <th>userId</th>\n",
              "      <th></th>\n",
              "      <th></th>\n",
              "      <th></th>\n",
              "      <th></th>\n",
              "      <th></th>\n",
              "      <th></th>\n",
              "      <th></th>\n",
              "      <th></th>\n",
              "      <th></th>\n",
              "      <th></th>\n",
              "      <th></th>\n",
              "      <th></th>\n",
              "      <th></th>\n",
              "      <th></th>\n",
              "      <th></th>\n",
              "    </tr>\n",
              "  </thead>\n",
              "  <tbody>\n",
              "    <tr>\n",
              "      <th>68</th>\n",
              "      <td>2.5</td>\n",
              "      <td>3.0</td>\n",
              "      <td>2.5</td>\n",
              "      <td>5.0</td>\n",
              "      <td>2.0</td>\n",
              "      <td>3.0</td>\n",
              "      <td>3.5</td>\n",
              "      <td>3.5</td>\n",
              "      <td>4.0</td>\n",
              "      <td>3.5</td>\n",
              "      <td>3.5</td>\n",
              "      <td>5.0</td>\n",
              "      <td>4.5</td>\n",
              "      <td>5.0</td>\n",
              "      <td>2.5</td>\n",
              "    </tr>\n",
              "    <tr>\n",
              "      <th>182</th>\n",
              "      <td>4.0</td>\n",
              "      <td>4.5</td>\n",
              "      <td>3.5</td>\n",
              "      <td>3.5</td>\n",
              "      <td>5.0</td>\n",
              "      <td>4.5</td>\n",
              "      <td>5.0</td>\n",
              "      <td>3.5</td>\n",
              "      <td>4.0</td>\n",
              "      <td>2.0</td>\n",
              "      <td>4.5</td>\n",
              "      <td>3.0</td>\n",
              "      <td>5.0</td>\n",
              "      <td>5.0</td>\n",
              "      <td>5.0</td>\n",
              "    </tr>\n",
              "    <tr>\n",
              "      <th>249</th>\n",
              "      <td>4.0</td>\n",
              "      <td>4.0</td>\n",
              "      <td>5.0</td>\n",
              "      <td>5.0</td>\n",
              "      <td>4.0</td>\n",
              "      <td>4.5</td>\n",
              "      <td>4.5</td>\n",
              "      <td>4.0</td>\n",
              "      <td>4.5</td>\n",
              "      <td>4.0</td>\n",
              "      <td>4.0</td>\n",
              "      <td>5.0</td>\n",
              "      <td>5.0</td>\n",
              "      <td>4.5</td>\n",
              "      <td>5.0</td>\n",
              "    </tr>\n",
              "    <tr>\n",
              "      <th>274</th>\n",
              "      <td>4.0</td>\n",
              "      <td>4.0</td>\n",
              "      <td>4.5</td>\n",
              "      <td>3.0</td>\n",
              "      <td>5.0</td>\n",
              "      <td>4.5</td>\n",
              "      <td>4.5</td>\n",
              "      <td>3.5</td>\n",
              "      <td>4.0</td>\n",
              "      <td>4.5</td>\n",
              "      <td>4.0</td>\n",
              "      <td>4.5</td>\n",
              "      <td>4.0</td>\n",
              "      <td>5.0</td>\n",
              "      <td>5.0</td>\n",
              "    </tr>\n",
              "    <tr>\n",
              "      <th>288</th>\n",
              "      <td>4.5</td>\n",
              "      <td>NaN</td>\n",
              "      <td>5.0</td>\n",
              "      <td>5.0</td>\n",
              "      <td>5.0</td>\n",
              "      <td>5.0</td>\n",
              "      <td>5.0</td>\n",
              "      <td>2.0</td>\n",
              "      <td>5.0</td>\n",
              "      <td>4.0</td>\n",
              "      <td>5.0</td>\n",
              "      <td>4.5</td>\n",
              "      <td>3.0</td>\n",
              "      <td>NaN</td>\n",
              "      <td>3.5</td>\n",
              "    </tr>\n",
              "    <tr>\n",
              "      <th>307</th>\n",
              "      <td>4.0</td>\n",
              "      <td>4.5</td>\n",
              "      <td>3.5</td>\n",
              "      <td>3.5</td>\n",
              "      <td>4.5</td>\n",
              "      <td>4.5</td>\n",
              "      <td>4.0</td>\n",
              "      <td>3.5</td>\n",
              "      <td>4.5</td>\n",
              "      <td>2.5</td>\n",
              "      <td>4.5</td>\n",
              "      <td>3.0</td>\n",
              "      <td>3.5</td>\n",
              "      <td>4.0</td>\n",
              "      <td>4.0</td>\n",
              "    </tr>\n",
              "    <tr>\n",
              "      <th>380</th>\n",
              "      <td>5.0</td>\n",
              "      <td>4.0</td>\n",
              "      <td>4.0</td>\n",
              "      <td>5.0</td>\n",
              "      <td>5.0</td>\n",
              "      <td>3.0</td>\n",
              "      <td>5.0</td>\n",
              "      <td>5.0</td>\n",
              "      <td>NaN</td>\n",
              "      <td>5.0</td>\n",
              "      <td>5.0</td>\n",
              "      <td>5.0</td>\n",
              "      <td>4.5</td>\n",
              "      <td>NaN</td>\n",
              "      <td>4.0</td>\n",
              "    </tr>\n",
              "    <tr>\n",
              "      <th>387</th>\n",
              "      <td>NaN</td>\n",
              "      <td>4.5</td>\n",
              "      <td>3.5</td>\n",
              "      <td>4.5</td>\n",
              "      <td>5.0</td>\n",
              "      <td>3.5</td>\n",
              "      <td>4.0</td>\n",
              "      <td>3.0</td>\n",
              "      <td>NaN</td>\n",
              "      <td>3.5</td>\n",
              "      <td>4.0</td>\n",
              "      <td>4.5</td>\n",
              "      <td>4.0</td>\n",
              "      <td>4.5</td>\n",
              "      <td>4.5</td>\n",
              "    </tr>\n",
              "    <tr>\n",
              "      <th>414</th>\n",
              "      <td>4.0</td>\n",
              "      <td>5.0</td>\n",
              "      <td>5.0</td>\n",
              "      <td>5.0</td>\n",
              "      <td>5.0</td>\n",
              "      <td>5.0</td>\n",
              "      <td>5.0</td>\n",
              "      <td>4.0</td>\n",
              "      <td>4.0</td>\n",
              "      <td>5.0</td>\n",
              "      <td>4.0</td>\n",
              "      <td>5.0</td>\n",
              "      <td>5.0</td>\n",
              "      <td>5.0</td>\n",
              "      <td>5.0</td>\n",
              "    </tr>\n",
              "    <tr>\n",
              "      <th>448</th>\n",
              "      <td>5.0</td>\n",
              "      <td>4.0</td>\n",
              "      <td>NaN</td>\n",
              "      <td>5.0</td>\n",
              "      <td>5.0</td>\n",
              "      <td>NaN</td>\n",
              "      <td>3.0</td>\n",
              "      <td>3.0</td>\n",
              "      <td>NaN</td>\n",
              "      <td>3.0</td>\n",
              "      <td>5.0</td>\n",
              "      <td>5.0</td>\n",
              "      <td>2.0</td>\n",
              "      <td>4.0</td>\n",
              "      <td>4.0</td>\n",
              "    </tr>\n",
              "    <tr>\n",
              "      <th>474</th>\n",
              "      <td>4.0</td>\n",
              "      <td>4.0</td>\n",
              "      <td>3.0</td>\n",
              "      <td>4.0</td>\n",
              "      <td>4.0</td>\n",
              "      <td>5.0</td>\n",
              "      <td>3.0</td>\n",
              "      <td>4.5</td>\n",
              "      <td>5.0</td>\n",
              "      <td>4.0</td>\n",
              "      <td>4.5</td>\n",
              "      <td>5.0</td>\n",
              "      <td>4.5</td>\n",
              "      <td>3.5</td>\n",
              "      <td>4.0</td>\n",
              "    </tr>\n",
              "    <tr>\n",
              "      <th>599</th>\n",
              "      <td>3.0</td>\n",
              "      <td>3.5</td>\n",
              "      <td>3.5</td>\n",
              "      <td>5.0</td>\n",
              "      <td>5.0</td>\n",
              "      <td>4.0</td>\n",
              "      <td>3.5</td>\n",
              "      <td>4.0</td>\n",
              "      <td>NaN</td>\n",
              "      <td>4.5</td>\n",
              "      <td>3.0</td>\n",
              "      <td>5.0</td>\n",
              "      <td>5.0</td>\n",
              "      <td>5.0</td>\n",
              "      <td>5.0</td>\n",
              "    </tr>\n",
              "    <tr>\n",
              "      <th>603</th>\n",
              "      <td>4.0</td>\n",
              "      <td>NaN</td>\n",
              "      <td>1.0</td>\n",
              "      <td>4.0</td>\n",
              "      <td>5.0</td>\n",
              "      <td>NaN</td>\n",
              "      <td>3.0</td>\n",
              "      <td>NaN</td>\n",
              "      <td>3.0</td>\n",
              "      <td>NaN</td>\n",
              "      <td>5.0</td>\n",
              "      <td>3.0</td>\n",
              "      <td>5.0</td>\n",
              "      <td>5.0</td>\n",
              "      <td>4.0</td>\n",
              "    </tr>\n",
              "    <tr>\n",
              "      <th>606</th>\n",
              "      <td>2.5</td>\n",
              "      <td>4.5</td>\n",
              "      <td>3.5</td>\n",
              "      <td>4.5</td>\n",
              "      <td>5.0</td>\n",
              "      <td>3.5</td>\n",
              "      <td>4.0</td>\n",
              "      <td>2.5</td>\n",
              "      <td>5.0</td>\n",
              "      <td>3.5</td>\n",
              "      <td>4.5</td>\n",
              "      <td>4.5</td>\n",
              "      <td>5.0</td>\n",
              "      <td>4.5</td>\n",
              "      <td>5.0</td>\n",
              "    </tr>\n",
              "    <tr>\n",
              "      <th>610</th>\n",
              "      <td>5.0</td>\n",
              "      <td>4.0</td>\n",
              "      <td>4.5</td>\n",
              "      <td>5.0</td>\n",
              "      <td>5.0</td>\n",
              "      <td>3.0</td>\n",
              "      <td>3.0</td>\n",
              "      <td>5.0</td>\n",
              "      <td>3.5</td>\n",
              "      <td>5.0</td>\n",
              "      <td>4.5</td>\n",
              "      <td>5.0</td>\n",
              "      <td>5.0</td>\n",
              "      <td>3.5</td>\n",
              "      <td>5.0</td>\n",
              "    </tr>\n",
              "  </tbody>\n",
              "</table>\n",
              "</div>"
            ],
            "text/plain": [
              "movieId  1     50    110   260   296   318   356   480   527   589   593   \\\n",
              "userId                                                                      \n",
              "68        2.5   3.0   2.5   5.0   2.0   3.0   3.5   3.5   4.0   3.5   3.5   \n",
              "182       4.0   4.5   3.5   3.5   5.0   4.5   5.0   3.5   4.0   2.0   4.5   \n",
              "249       4.0   4.0   5.0   5.0   4.0   4.5   4.5   4.0   4.5   4.0   4.0   \n",
              "274       4.0   4.0   4.5   3.0   5.0   4.5   4.5   3.5   4.0   4.5   4.0   \n",
              "288       4.5   NaN   5.0   5.0   5.0   5.0   5.0   2.0   5.0   4.0   5.0   \n",
              "307       4.0   4.5   3.5   3.5   4.5   4.5   4.0   3.5   4.5   2.5   4.5   \n",
              "380       5.0   4.0   4.0   5.0   5.0   3.0   5.0   5.0   NaN   5.0   5.0   \n",
              "387       NaN   4.5   3.5   4.5   5.0   3.5   4.0   3.0   NaN   3.5   4.0   \n",
              "414       4.0   5.0   5.0   5.0   5.0   5.0   5.0   4.0   4.0   5.0   4.0   \n",
              "448       5.0   4.0   NaN   5.0   5.0   NaN   3.0   3.0   NaN   3.0   5.0   \n",
              "474       4.0   4.0   3.0   4.0   4.0   5.0   3.0   4.5   5.0   4.0   4.5   \n",
              "599       3.0   3.5   3.5   5.0   5.0   4.0   3.5   4.0   NaN   4.5   3.0   \n",
              "603       4.0   NaN   1.0   4.0   5.0   NaN   3.0   NaN   3.0   NaN   5.0   \n",
              "606       2.5   4.5   3.5   4.5   5.0   3.5   4.0   2.5   5.0   3.5   4.5   \n",
              "610       5.0   4.0   4.5   5.0   5.0   3.0   3.0   5.0   3.5   5.0   4.5   \n",
              "\n",
              "movieId  1196  2571  2858  2959  \n",
              "userId                           \n",
              "68        5.0   4.5   5.0   2.5  \n",
              "182       3.0   5.0   5.0   5.0  \n",
              "249       5.0   5.0   4.5   5.0  \n",
              "274       4.5   4.0   5.0   5.0  \n",
              "288       4.5   3.0   NaN   3.5  \n",
              "307       3.0   3.5   4.0   4.0  \n",
              "380       5.0   4.5   NaN   4.0  \n",
              "387       4.5   4.0   4.5   4.5  \n",
              "414       5.0   5.0   5.0   5.0  \n",
              "448       5.0   2.0   4.0   4.0  \n",
              "474       5.0   4.5   3.5   4.0  \n",
              "599       5.0   5.0   5.0   5.0  \n",
              "603       3.0   5.0   5.0   4.0  \n",
              "606       4.5   5.0   4.5   5.0  \n",
              "610       5.0   5.0   3.5   5.0  "
            ]
          },
          "metadata": {
            "tags": []
          },
          "execution_count": 45
        }
      ]
    },
    {
      "metadata": {
        "id": "ArGN0zdGgjP5",
        "colab_type": "code",
        "colab": {}
      },
      "cell_type": "code",
      "source": [
        "val_idxs = get_cv_idxs(len(ratings))\n",
        "wd=2e-4\n",
        "n_factors = 50"
      ],
      "execution_count": 0,
      "outputs": []
    },
    {
      "metadata": {
        "id": "YEZ2u0Magt9I",
        "colab_type": "code",
        "colab": {}
      },
      "cell_type": "code",
      "source": [
        "cf = CollabFilterDataset.from_csv(path, 'ratings.csv', 'userId', 'movieId', 'rating')\n",
        "learn = cf.get_learner(n_factors, val_idxs, 64, opt_fn=optim.Adam)"
      ],
      "execution_count": 0,
      "outputs": []
    },
    {
      "metadata": {
        "id": "QHX0sg-ugxUR",
        "colab_type": "code",
        "outputId": "9daffa34-1c62-49ac-fcba-55623ecb573b",
        "colab": {
          "base_uri": "https://localhost:8080/",
          "height": 138
        }
      },
      "cell_type": "code",
      "source": [
        "learn.fit(1e-2, 2, wds=wd, cycle_len=1, cycle_mult=2)"
      ],
      "execution_count": 0,
      "outputs": [
        {
          "output_type": "display_data",
          "data": {
            "application/vnd.jupyter.widget-view+json": {
              "model_id": "03f5cd8771b74ced800c64656df27d4f",
              "version_minor": 0,
              "version_major": 2
            },
            "text/plain": [
              "HBox(children=(IntProgress(value=0, description='Epoch', max=3, style=ProgressStyle(description_width='initial…"
            ]
          },
          "metadata": {
            "tags": []
          }
        },
        {
          "output_type": "stream",
          "text": [
            "epoch      trn_loss   val_loss   \n",
            "    0      0.743587   0.774747  \n",
            "    1      0.711504   0.75581   \n",
            "    2      0.590478   0.738703  \n",
            "\n"
          ],
          "name": "stdout"
        },
        {
          "output_type": "execute_result",
          "data": {
            "text/plain": [
              "[array([0.7387])]"
            ]
          },
          "metadata": {
            "tags": []
          },
          "execution_count": 48
        }
      ]
    },
    {
      "metadata": {
        "id": "r6TZSQsBg0FY",
        "colab_type": "code",
        "outputId": "ba40c866-5cbb-4b84-8d3f-51b2a8a23ea9",
        "colab": {
          "base_uri": "https://localhost:8080/",
          "height": 34
        }
      },
      "cell_type": "code",
      "source": [
        "math.sqrt(0.776)"
      ],
      "execution_count": 0,
      "outputs": [
        {
          "output_type": "execute_result",
          "data": {
            "text/plain": [
              "0.8809086218218096"
            ]
          },
          "metadata": {
            "tags": []
          },
          "execution_count": 49
        }
      ]
    },
    {
      "metadata": {
        "id": "Pg733lsgg_gR",
        "colab_type": "code",
        "colab": {}
      },
      "cell_type": "code",
      "source": [
        "preds = learn.predict()"
      ],
      "execution_count": 0,
      "outputs": []
    },
    {
      "metadata": {
        "id": "lRE13Aa4hEm6",
        "colab_type": "code",
        "outputId": "ee9a6e63-fc32-4c45-f52c-a77788e3a96b",
        "colab": {
          "base_uri": "https://localhost:8080/",
          "height": 441
        }
      },
      "cell_type": "code",
      "source": [
        "y=learn.data.val_y\n",
        "sns.jointplot(preds, y, kind='hex', stat_func=None);"
      ],
      "execution_count": 0,
      "outputs": [
        {
          "output_type": "display_data",
          "data": {
            "image/png": "[encoded data removed]",
            "text/plain": [
              "<matplotlib.figure.Figure at 0x7f5ae4c04ac8>"
            ]
          },
          "metadata": {
            "tags": []
          }
        }
      ]
    },
    {
      "metadata": {
        "id": "vrTZlEk7jEge",
        "colab_type": "code",
        "colab": {}
      },
      "cell_type": "code",
      "source": [
        "movie_names = movies.set_index('movieId')['title'].to_dict()\n",
        "g=ratings.groupby('movieId')['rating'].count()\n",
        "topMovies=g.sort_values(ascending=False).index.values[:3000]\n",
        "topMovieIdx = np.array([cf.item2idx[o] for o in topMovies])"
      ],
      "execution_count": 0,
      "outputs": []
    },
    {
      "metadata": {
        "id": "GfVELwI1jEeZ",
        "colab_type": "code",
        "outputId": "1f13efa4-e859-4858-b431-ec20b428172c",
        "colab": {
          "base_uri": "https://localhost:8080/",
          "height": 121
        }
      },
      "cell_type": "code",
      "source": [
        "m=learn.model; m.cuda()"
      ],
      "execution_count": 0,
      "outputs": [
        {
          "output_type": "execute_result",
          "data": {
            "text/plain": [
              "EmbeddingDotBias(\n",
              "  (u): Embedding(610, 50)\n",
              "  (i): Embedding(9724, 50)\n",
              "  (ub): Embedding(610, 1)\n",
              "  (ib): Embedding(9724, 1)\n",
              ")"
            ]
          },
          "metadata": {
            "tags": []
          },
          "execution_count": 53
        }
      ]
    },
    {
      "metadata": {
        "id": "WNteSPL7hImy",
        "colab_type": "code",
        "colab": {}
      },
      "cell_type": "code",
      "source": [
        "movie_bias = to_np(m.ib(V(topMovieIdx)))"
      ],
      "execution_count": 0,
      "outputs": []
    },
    {
      "metadata": {
        "id": "Lnk7LoJWjNSB",
        "colab_type": "code",
        "colab": {}
      },
      "cell_type": "code",
      "source": [
        "movie_ratings = [(b[0], movie_names[i]) for i,b in zip(topMovies,movie_bias)]"
      ],
      "execution_count": 0,
      "outputs": []
    },
    {
      "metadata": {
        "id": "j33fHNauj6Wu",
        "colab_type": "code",
        "outputId": "67fea327-198d-4948-d328-adab1f9de2c9",
        "colab": {
          "base_uri": "https://localhost:8080/",
          "height": 277
        }
      },
      "cell_type": "code",
      "source": [
        "sorted(movie_ratings, key=lambda o: o[0])[:15]"
      ],
      "execution_count": 0,
      "outputs": [
        {
          "output_type": "execute_result",
          "data": {
            "text/plain": [
              "[(-0.71808666, 'Spice World (1997)'),\n",
              " (-0.71340644, 'Catwoman (2004)'),\n",
              " (-0.68893695, 'Problem Child (1990)'),\n",
              " (-0.6886232, 'Anaconda (1997)'),\n",
              " (-0.673943, 'Stuart Saves His Family (1995)'),\n",
              " (-0.6670832, 'Speed 2: Cruise Control (1997)'),\n",
              " (-0.6588677, 'Battlefield Earth (2000)'),\n",
              " (-0.621744, 'Flintstones in Viva Rock Vegas, The (2000)'),\n",
              " (-0.6118025, 'Joe Dirt (2001)'),\n",
              " (-0.6117188, 'Stop! Or My Mom Will Shoot (1992)'),\n",
              " (-0.6115112, 'Godzilla (1998)'),\n",
              " (-0.6109995, 'Grease 2 (1982)'),\n",
              " (-0.6051065, 'Karate Kid, Part III, The (1989)'),\n",
              " (-0.6032626, 'Super Mario Bros. (1993)'),\n",
              " (-0.599947, 'Jason X (2002)')]"
            ]
          },
          "metadata": {
            "tags": []
          },
          "execution_count": 56
        }
      ]
    },
    {
      "metadata": {
        "id": "0kUsSXwSkDnW",
        "colab_type": "code",
        "outputId": "cdfc3936-e066-469e-dd1c-905922729dab",
        "colab": {
          "base_uri": "https://localhost:8080/",
          "height": 277
        }
      },
      "cell_type": "code",
      "source": [
        "sorted(movie_ratings, key=itemgetter(0))[:15]"
      ],
      "execution_count": 0,
      "outputs": [
        {
          "output_type": "execute_result",
          "data": {
            "text/plain": [
              "[(-0.71808666, 'Spice World (1997)'),\n",
              " (-0.71340644, 'Catwoman (2004)'),\n",
              " (-0.68893695, 'Problem Child (1990)'),\n",
              " (-0.6886232, 'Anaconda (1997)'),\n",
              " (-0.673943, 'Stuart Saves His Family (1995)'),\n",
              " (-0.6670832, 'Speed 2: Cruise Control (1997)'),\n",
              " (-0.6588677, 'Battlefield Earth (2000)'),\n",
              " (-0.621744, 'Flintstones in Viva Rock Vegas, The (2000)'),\n",
              " (-0.6118025, 'Joe Dirt (2001)'),\n",
              " (-0.6117188, 'Stop! Or My Mom Will Shoot (1992)'),\n",
              " (-0.6115112, 'Godzilla (1998)'),\n",
              " (-0.6109995, 'Grease 2 (1982)'),\n",
              " (-0.6051065, 'Karate Kid, Part III, The (1989)'),\n",
              " (-0.6032626, 'Super Mario Bros. (1993)'),\n",
              " (-0.599947, 'Jason X (2002)')]"
            ]
          },
          "metadata": {
            "tags": []
          },
          "execution_count": 57
        }
      ]
    },
    {
      "metadata": {
        "id": "6vP-vu0skIgm",
        "colab_type": "code",
        "outputId": "519d2e31-a5d3-4d22-db69-d99ad4a45e83",
        "colab": {
          "base_uri": "https://localhost:8080/",
          "height": 294
        }
      },
      "cell_type": "code",
      "source": [
        "sorted(movie_ratings, key=lambda o: o[0], reverse=True)[:15]"
      ],
      "execution_count": 0,
      "outputs": [
        {
          "output_type": "execute_result",
          "data": {
            "text/plain": [
              "[(1.2327476, 'Shawshank Redemption, The (1994)'),\n",
              " (0.9745466, 'Goodfellas (1990)'),\n",
              " (0.9408841, 'Pulp Fiction (1994)'),\n",
              " (0.9144735, 'Casablanca (1942)'),\n",
              " (0.9073034, 'Forrest Gump (1994)'),\n",
              " (0.9046505, 'Dark Knight, The (2008)'),\n",
              " (0.89746624, \"Schindler's List (1993)\"),\n",
              " (0.89367086, \"Amelie (Fabuleux destin d'Amélie Poulain, Le) (2001)\"),\n",
              " (0.8928887, 'Star Wars: Episode IV - A New Hope (1977)'),\n",
              " (0.8736371,\n",
              "  'Raiders of the Lost Ark (Indiana Jones and the Raiders of the Lost Ark) (1981)'),\n",
              " (0.86174405, 'Star Wars: Episode V - The Empire Strikes Back (1980)'),\n",
              " (0.83802426, 'Godfather, The (1972)'),\n",
              " (0.8362374, 'American History X (1998)'),\n",
              " (0.831434, 'Eternal Sunshine of the Spotless Mind (2004)'),\n",
              " (0.8257496, \"One Flew Over the Cuckoo's Nest (1975)\")]"
            ]
          },
          "metadata": {
            "tags": []
          },
          "execution_count": 58
        }
      ]
    },
    {
      "metadata": {
        "id": "C2zW22p6kPmQ",
        "colab_type": "code",
        "outputId": "c0030a5a-016f-4f65-cffb-f61873e02f95",
        "colab": {
          "base_uri": "https://localhost:8080/",
          "height": 34
        }
      },
      "cell_type": "code",
      "source": [
        "movie_emb = to_np(m.i(V(topMovieIdx)))\n",
        "movie_emb.shape"
      ],
      "execution_count": 0,
      "outputs": [
        {
          "output_type": "execute_result",
          "data": {
            "text/plain": [
              "(3000, 50)"
            ]
          },
          "metadata": {
            "tags": []
          },
          "execution_count": 59
        }
      ]
    },
    {
      "metadata": {
        "id": "M29GUylzkdzS",
        "colab_type": "code",
        "colab": {}
      },
      "cell_type": "code",
      "source": [
        "from sklearn.decomposition import PCA\n",
        "pca = PCA(n_components=3)\n",
        "movie_pca = pca.fit(movie_emb.T).components_"
      ],
      "execution_count": 0,
      "outputs": []
    },
    {
      "metadata": {
        "id": "_NG3eb7fkhvK",
        "colab_type": "code",
        "outputId": "19c20520-49b8-4c55-b19f-3fb03b18bb51",
        "colab": {
          "base_uri": "https://localhost:8080/",
          "height": 34
        }
      },
      "cell_type": "code",
      "source": [
        "movie_pca.shape"
      ],
      "execution_count": 0,
      "outputs": [
        {
          "output_type": "execute_result",
          "data": {
            "text/plain": [
              "(3, 3000)"
            ]
          },
          "metadata": {
            "tags": []
          },
          "execution_count": 61
        }
      ]
    },
    {
      "metadata": {
        "id": "nc7I45Nykjfq",
        "colab_type": "code",
        "colab": {}
      },
      "cell_type": "code",
      "source": [
        "fac0 = movie_pca[0]\n",
        "movie_comp = [(f, movie_names[i]) for f,i in zip(fac0, topMovies)]"
      ],
      "execution_count": 0,
      "outputs": []
    },
    {
      "metadata": {
        "id": "KzvGwVnikqLz",
        "colab_type": "code",
        "outputId": "bed3fff9-f1c5-47b4-ca43-bc13a9aeeea1",
        "colab": {
          "base_uri": "https://localhost:8080/",
          "height": 190
        }
      },
      "cell_type": "code",
      "source": [
        "sorted(movie_comp, key=itemgetter(0), reverse=True)[:10]"
      ],
      "execution_count": 0,
      "outputs": [
        {
          "output_type": "execute_result",
          "data": {
            "text/plain": [
              "[(0.06662063, 'Congo (1995)'),\n",
              " (0.061289035, 'Independence Day (a.k.a. ID4) (1996)'),\n",
              " (0.061002906, 'Twister (1996)'),\n",
              " (0.05996734, 'First Knight (1995)'),\n",
              " (0.059282508, 'Broken Arrow (1996)'),\n",
              " (0.05755112, 'Home Alone 2: Lost in New York (1992)'),\n",
              " (0.054288838, 'Batman Forever (1995)'),\n",
              " (0.05345344, 'Casper (1995)'),\n",
              " (0.052828778, 'Lara Croft: Tomb Raider (2001)'),\n",
              " (0.050373737, 'The Scorpion King (2002)')]"
            ]
          },
          "metadata": {
            "tags": []
          },
          "execution_count": 63
        }
      ]
    },
    {
      "metadata": {
        "id": "BsfKt0-NkxCr",
        "colab_type": "code",
        "outputId": "7e4bbab6-953f-4fda-cd6b-f4cfe8323eb4",
        "colab": {
          "base_uri": "https://localhost:8080/",
          "height": 190
        }
      },
      "cell_type": "code",
      "source": [
        "sorted(movie_comp, key=itemgetter(0))[:10]"
      ],
      "execution_count": 0,
      "outputs": [
        {
          "output_type": "execute_result",
          "data": {
            "text/plain": [
              "[(-0.10193114, 'Pulp Fiction (1994)'),\n",
              " (-0.08334034, 'Fight Club (1999)'),\n",
              " (-0.07929038, 'Godfather, The (1972)'),\n",
              " (-0.07747319, 'Big Lebowski, The (1998)'),\n",
              " (-0.07461213, \"Amelie (Fabuleux destin d'Amélie Poulain, Le) (2001)\"),\n",
              " (-0.073920935, 'American Beauty (1999)'),\n",
              " (-0.06967537, 'Monty Python and the Holy Grail (1975)'),\n",
              " (-0.06631224, 'Memento (2000)'),\n",
              " (-0.06507845, 'Godfather: Part II, The (1974)'),\n",
              " (-0.0645468, 'Donnie Darko (2001)')]"
            ]
          },
          "metadata": {
            "tags": []
          },
          "execution_count": 64
        }
      ]
    },
    {
      "metadata": {
        "id": "VjwF5rs4kzbj",
        "colab_type": "code",
        "colab": {}
      },
      "cell_type": "code",
      "source": [
        "fac1 = movie_pca[1]\n",
        "movie_comp = [(f, movie_names[i]) for f,i in zip(fac1, topMovies)]"
      ],
      "execution_count": 0,
      "outputs": []
    },
    {
      "metadata": {
        "id": "3fHSFYXKk9yL",
        "colab_type": "code",
        "outputId": "9f8a46e9-1cbe-4bf8-8769-8f03c7ad39ab",
        "colab": {
          "base_uri": "https://localhost:8080/",
          "height": 190
        }
      },
      "cell_type": "code",
      "source": [
        "sorted(movie_comp, key=itemgetter(0), reverse=True)[:10]"
      ],
      "execution_count": 0,
      "outputs": [
        {
          "output_type": "execute_result",
          "data": {
            "text/plain": [
              "[(0.060699098, 'Blair Witch Project, The (1999)'),\n",
              " (0.057921503, 'Eyes Wide Shut (1999)'),\n",
              " (0.056583237, 'Mulholland Drive (2001)'),\n",
              " (0.05378052, 'Election (1999)'),\n",
              " (0.04998991, 'Judge Dredd (1995)'),\n",
              " (0.04965712, 'Blue Velvet (1986)'),\n",
              " (0.046825532, 'The Artist (2011)'),\n",
              " (0.04569879, 'Clueless (1995)'),\n",
              " (0.04467792, 'Showgirls (1995)'),\n",
              " (0.044503212, 'Others, The (2001)')]"
            ]
          },
          "metadata": {
            "tags": []
          },
          "execution_count": 66
        }
      ]
    },
    {
      "metadata": {
        "id": "-WdiD2EqlCYM",
        "colab_type": "code",
        "outputId": "42870278-d19c-4a3d-f45c-4a08601ba3ff",
        "colab": {
          "base_uri": "https://localhost:8080/",
          "height": 208
        }
      },
      "cell_type": "code",
      "source": [
        "sorted(movie_comp, key=itemgetter(0))[:10]"
      ],
      "execution_count": 0,
      "outputs": [
        {
          "output_type": "execute_result",
          "data": {
            "text/plain": [
              "[(-0.1093069, 'Matrix, The (1999)'),\n",
              " (-0.09376553, 'Braveheart (1995)'),\n",
              " (-0.08384445, 'Lion King, The (1994)'),\n",
              " (-0.08360965, 'Back to the Future (1985)'),\n",
              " (-0.083012424,\n",
              "  'Raiders of the Lost Ark (Indiana Jones and the Raiders of the Lost Ark) (1981)'),\n",
              " (-0.08043311, 'Speed (1994)'),\n",
              " (-0.08027351, 'Independence Day (a.k.a. ID4) (1996)'),\n",
              " (-0.08016788, 'True Lies (1994)'),\n",
              " (-0.07978522, 'Forrest Gump (1994)'),\n",
              " (-0.07872934, 'Star Wars: Episode V - The Empire Strikes Back (1980)')]"
            ]
          },
          "metadata": {
            "tags": []
          },
          "execution_count": 67
        }
      ]
    },
    {
      "metadata": {
        "id": "3z8qXhRslE0c",
        "colab_type": "code",
        "outputId": "b5d52c8a-64c5-4dc9-d67c-be887c94c356",
        "colab": {
          "base_uri": "https://localhost:8080/",
          "height": 864
        }
      },
      "cell_type": "code",
      "source": [
        "idxs = np.random.choice(len(topMovies), 50, replace=False)\n",
        "X = fac0[idxs]\n",
        "Y = fac1[idxs]\n",
        "plt.figure(figsize=(15,15))\n",
        "plt.scatter(X, Y)\n",
        "for i, x, y in zip(topMovies[idxs], X, Y):\n",
        "    plt.text(x,y,movie_names[i], color=np.random.rand(3)*0.7, fontsize=11)\n",
        "plt.show()"
      ],
      "execution_count": 0,
      "outputs": [
        {
          "output_type": "display_data",
          "data": {
            "image/png": "[encoded data removed]",
            "text/plain": [
              "<matplotlib.figure.Figure at 0x7f5acaac5fd0>"
            ]
          },
          "metadata": {
            "tags": []
          }
        }
      ]
    },
    {
      "metadata": {
        "id": "14qZTOmNlKBO",
        "colab_type": "code",
        "outputId": "dbd99b64-a621-4b76-8e94-7600bb507145",
        "colab": {
          "base_uri": "https://localhost:8080/",
          "height": 138
        }
      },
      "cell_type": "code",
      "source": [
        "a = T([[1.,2],[3,4]])\n",
        "b = T([[2.,2],[10,10]])\n",
        "a,b"
      ],
      "execution_count": 0,
      "outputs": [
        {
          "output_type": "execute_result",
          "data": {
            "text/plain": [
              "(\n",
              "  1  2\n",
              "  3  4\n",
              " [torch.cuda.FloatTensor of size 2x2 (GPU 0)], \n",
              "   2   2\n",
              "  10  10\n",
              " [torch.cuda.FloatTensor of size 2x2 (GPU 0)])"
            ]
          },
          "metadata": {
            "tags": []
          },
          "execution_count": 69
        }
      ]
    },
    {
      "metadata": {
        "id": "ImE4_qDLmLXX",
        "colab_type": "code",
        "outputId": "68144b43-8415-4db3-eb8a-92c5cdc63b98",
        "colab": {
          "base_uri": "https://localhost:8080/",
          "height": 86
        }
      },
      "cell_type": "code",
      "source": [
        "a*b"
      ],
      "execution_count": 0,
      "outputs": [
        {
          "output_type": "execute_result",
          "data": {
            "text/plain": [
              "\n",
              "  2   4\n",
              " 30  40\n",
              "[torch.cuda.FloatTensor of size 2x2 (GPU 0)]"
            ]
          },
          "metadata": {
            "tags": []
          },
          "execution_count": 70
        }
      ]
    },
    {
      "metadata": {
        "id": "6ksS7F3YmUev",
        "colab_type": "code",
        "outputId": "df76260f-4f38-47a0-8f86-3f1aa732f375",
        "colab": {
          "base_uri": "https://localhost:8080/",
          "height": 86
        }
      },
      "cell_type": "code",
      "source": [
        "(a*b).sum(1)"
      ],
      "execution_count": 0,
      "outputs": [
        {
          "output_type": "execute_result",
          "data": {
            "text/plain": [
              "\n",
              "  6\n",
              " 70\n",
              "[torch.cuda.FloatTensor of size 2 (GPU 0)]"
            ]
          },
          "metadata": {
            "tags": []
          },
          "execution_count": 75
        }
      ]
    },
    {
      "metadata": {
        "id": "jBsVG8UxmW1-",
        "colab_type": "code",
        "colab": {}
      },
      "cell_type": "code",
      "source": [
        "\n",
        "class DotProduct(nn.Module):\n",
        "    def forward(self, u, m): return (u*m).sum(1)"
      ],
      "execution_count": 0,
      "outputs": []
    },
    {
      "metadata": {
        "id": "VSsDTll_81VM",
        "colab_type": "code",
        "colab": {}
      },
      "cell_type": "code",
      "source": [
        "model=DotProduct()"
      ],
      "execution_count": 0,
      "outputs": []
    },
    {
      "metadata": {
        "id": "n0E1V-ew882d",
        "colab_type": "code",
        "outputId": "b785ca21-8878-48d8-85bd-ab496071043e",
        "colab": {
          "base_uri": "https://localhost:8080/",
          "height": 86
        }
      },
      "cell_type": "code",
      "source": [
        "model(a,b)"
      ],
      "execution_count": 0,
      "outputs": [
        {
          "output_type": "execute_result",
          "data": {
            "text/plain": [
              "\n",
              "  6\n",
              " 70\n",
              "[torch.cuda.FloatTensor of size 2 (GPU 0)]"
            ]
          },
          "metadata": {
            "tags": []
          },
          "execution_count": 74
        }
      ]
    },
    {
      "metadata": {
        "id": "pgNEWgfp8_u-",
        "colab_type": "code",
        "colab": {}
      },
      "cell_type": "code",
      "source": [
        "u_uniq = ratings.userId.unique()\n",
        "user2idx = {o:i for i,o in enumerate(u_uniq)}\n",
        "ratings.userId = ratings.userId.apply(lambda x: user2idx[x])\n",
        "\n",
        "m_uniq = ratings.movieId.unique()\n",
        "movie2idx = {o:i for i,o in enumerate(m_uniq)}\n",
        "ratings.movieId = ratings.movieId.apply(lambda x: movie2idx[x])\n",
        "\n",
        "n_users=int(ratings.userId.nunique())\n",
        "n_movies=int(ratings.movieId.nunique())"
      ],
      "execution_count": 0,
      "outputs": []
    },
    {
      "metadata": {
        "id": "6Tha1fKd9GVe",
        "colab_type": "code",
        "colab": {}
      },
      "cell_type": "code",
      "source": [
        "class EmbeddingDot(nn.Module):\n",
        "    def __init__(self, n_users, n_movies):\n",
        "        super().__init__()\n",
        "        self.u = nn.Embedding(n_users, n_factors)\n",
        "        self.m = nn.Embedding(n_movies, n_factors)\n",
        "        self.u.weight.data.uniform_(0,0.05)\n",
        "        self.m.weight.data.uniform_(0,0.05)\n",
        "        \n",
        "    def forward(self, cats, conts):\n",
        "        users,movies = cats[:,0],cats[:,1]\n",
        "        u,m = self.u(users),self.m(movies)\n",
        "        return (u*m).sum(1).view(-1, 1)"
      ],
      "execution_count": 0,
      "outputs": []
    },
    {
      "metadata": {
        "id": "9xx1C0Rj9KHm",
        "colab_type": "code",
        "colab": {}
      },
      "cell_type": "code",
      "source": [
        "\n",
        "x = ratings.drop(['rating', 'timestamp'],axis=1)\n",
        "y = ratings['rating'].astype(np.float32)"
      ],
      "execution_count": 0,
      "outputs": []
    },
    {
      "metadata": {
        "id": "xJrqrSx_9M_m",
        "colab_type": "code",
        "colab": {}
      },
      "cell_type": "code",
      "source": [
        "data = ColumnarModelData.from_data_frame(path, val_idxs, x, y, ['userId', 'movieId'], 64)"
      ],
      "execution_count": 0,
      "outputs": []
    },
    {
      "metadata": {
        "id": "vdZg8ZhV9PbH",
        "colab_type": "code",
        "colab": {}
      },
      "cell_type": "code",
      "source": [
        "wd=1e-5\n",
        "model = EmbeddingDot(n_users, n_movies).cuda()\n",
        "opt = optim.SGD(model.parameters(), 1e-1, weight_decay=wd, momentum=0.9)"
      ],
      "execution_count": 0,
      "outputs": []
    },
    {
      "metadata": {
        "id": "FsB_lNEQ9Rw4",
        "colab_type": "code",
        "outputId": "1e4d3a65-0fec-4684-b7d4-415b36cf938f",
        "colab": {
          "base_uri": "https://localhost:8080/",
          "height": 138
        }
      },
      "cell_type": "code",
      "source": [
        "fit(model, data, 3, opt, F.mse_loss)"
      ],
      "execution_count": 0,
      "outputs": [
        {
          "output_type": "display_data",
          "data": {
            "application/vnd.jupyter.widget-view+json": {
              "model_id": "08eaf79829254ce8bfbe85ee8dc5b81b",
              "version_minor": 0,
              "version_major": 2
            },
            "text/plain": [
              "HBox(children=(IntProgress(value=0, description='Epoch', max=3, style=ProgressStyle(description_width='initial…"
            ]
          },
          "metadata": {
            "tags": []
          }
        },
        {
          "output_type": "stream",
          "text": [
            "epoch      trn_loss   val_loss   \n",
            "    0      1.597462   1.605762  \n",
            "    1      1.025854   1.289598  \n",
            "    2      0.882318   1.224778  \n",
            "\n"
          ],
          "name": "stdout"
        },
        {
          "output_type": "execute_result",
          "data": {
            "text/plain": [
              "[array([1.22478])]"
            ]
          },
          "metadata": {
            "tags": []
          },
          "execution_count": 81
        }
      ]
    },
    {
      "metadata": {
        "id": "3NtpdJtD9TgQ",
        "colab_type": "code",
        "colab": {}
      },
      "cell_type": "code",
      "source": [
        "set_lrs(opt, 0.01)"
      ],
      "execution_count": 0,
      "outputs": []
    },
    {
      "metadata": {
        "id": "E0dWUdZQ9Vhx",
        "colab_type": "code",
        "outputId": "ab43dec7-fb34-4f6c-941d-bc99fe37fe19",
        "colab": {
          "base_uri": "https://localhost:8080/",
          "height": 138
        }
      },
      "cell_type": "code",
      "source": [
        "fit(model, data, 3, opt, F.mse_loss)"
      ],
      "execution_count": 0,
      "outputs": [
        {
          "output_type": "display_data",
          "data": {
            "application/vnd.jupyter.widget-view+json": {
              "model_id": "5fc426cf59a84e0dbc0beabcee181318",
              "version_minor": 0,
              "version_major": 2
            },
            "text/plain": [
              "HBox(children=(IntProgress(value=0, description='Epoch', max=3, style=ProgressStyle(description_width='initial…"
            ]
          },
          "metadata": {
            "tags": []
          }
        },
        {
          "output_type": "stream",
          "text": [
            "epoch      trn_loss   val_loss   \n",
            "    0      0.679463   1.152166  \n",
            "    1      0.665684   1.141327  \n",
            "    2      0.642427   1.136183  \n",
            "\n"
          ],
          "name": "stdout"
        },
        {
          "output_type": "execute_result",
          "data": {
            "text/plain": [
              "[array([1.13618])]"
            ]
          },
          "metadata": {
            "tags": []
          },
          "execution_count": 83
        }
      ]
    },
    {
      "metadata": {
        "id": "ZAOtkgNB9YzH",
        "colab_type": "code",
        "outputId": "f8a093f0-ad05-40fb-a197-82197cb32cb5",
        "colab": {
          "base_uri": "https://localhost:8080/",
          "height": 34
        }
      },
      "cell_type": "code",
      "source": [
        "min_rating,max_rating = ratings.rating.min(),ratings.rating.max()\n",
        "min_rating,max_rating"
      ],
      "execution_count": 0,
      "outputs": [
        {
          "output_type": "execute_result",
          "data": {
            "text/plain": [
              "(0.5, 5.0)"
            ]
          },
          "metadata": {
            "tags": []
          },
          "execution_count": 84
        }
      ]
    },
    {
      "metadata": {
        "id": "m8gjfvbl9eP5",
        "colab_type": "code",
        "colab": {}
      },
      "cell_type": "code",
      "source": [
        "def get_emb(ni,nf):\n",
        "    e = nn.Embedding(ni, nf)\n",
        "    e.weight.data.uniform_(-0.01,0.01)\n",
        "    return e\n",
        "\n",
        "class EmbeddingDotBias(nn.Module):\n",
        "    def __init__(self, n_users, n_movies):\n",
        "        super().__init__()\n",
        "        (self.u, self.m, self.ub, self.mb) = [get_emb(*o) for o in [\n",
        "            (n_users, n_factors), (n_movies, n_factors), (n_users,1), (n_movies,1)\n",
        "        ]]\n",
        "        \n",
        "    def forward(self, cats, conts):\n",
        "        users,movies = cats[:,0],cats[:,1]\n",
        "        um = (self.u(users)* self.m(movies)).sum(1)\n",
        "        res = um + self.ub(users).squeeze() + self.mb(movies).squeeze()\n",
        "        res = F.sigmoid(res) * (max_rating-min_rating) + min_rating\n",
        "        return res.view(-1, 1)"
      ],
      "execution_count": 0,
      "outputs": []
    },
    {
      "metadata": {
        "id": "97vmh2oo9g0E",
        "colab_type": "code",
        "colab": {}
      },
      "cell_type": "code",
      "source": [
        "wd=2e-4\n",
        "model = EmbeddingDotBias(cf.n_users, cf.n_items).cuda()\n",
        "opt = optim.SGD(model.parameters(), 1e-1, weight_decay=wd, momentum=0.9)"
      ],
      "execution_count": 0,
      "outputs": []
    },
    {
      "metadata": {
        "id": "KIVe4gK89imh",
        "colab_type": "code",
        "outputId": "ff2674bb-d5ab-4ebe-be80-bea7e86b6e34",
        "colab": {
          "base_uri": "https://localhost:8080/",
          "height": 138
        }
      },
      "cell_type": "code",
      "source": [
        "fit(model, data, 3, opt, F.mse_loss)"
      ],
      "execution_count": 0,
      "outputs": [
        {
          "output_type": "display_data",
          "data": {
            "application/vnd.jupyter.widget-view+json": {
              "model_id": "1345884c3e53494b815e5175b29c9103",
              "version_minor": 0,
              "version_major": 2
            },
            "text/plain": [
              "HBox(children=(IntProgress(value=0, description='Epoch', max=3, style=ProgressStyle(description_width='initial…"
            ]
          },
          "metadata": {
            "tags": []
          }
        },
        {
          "output_type": "stream",
          "text": [
            "epoch      trn_loss   val_loss   \n",
            "    0      0.816016   0.814077  \n",
            "    1      0.760468   0.796955  \n",
            "    2      0.764757   0.78756   \n",
            "\n"
          ],
          "name": "stdout"
        },
        {
          "output_type": "execute_result",
          "data": {
            "text/plain": [
              "[array([0.78756])]"
            ]
          },
          "metadata": {
            "tags": []
          },
          "execution_count": 87
        }
      ]
    },
    {
      "metadata": {
        "id": "aXJNuY039lta",
        "colab_type": "code",
        "colab": {}
      },
      "cell_type": "code",
      "source": [
        "set_lrs(opt, 1e-2)"
      ],
      "execution_count": 0,
      "outputs": []
    },
    {
      "metadata": {
        "id": "l6_5YQVZ9oUr",
        "colab_type": "code",
        "outputId": "75534f09-45f8-49b6-b70a-da4c226c9a4e",
        "colab": {
          "base_uri": "https://localhost:8080/",
          "height": 138
        }
      },
      "cell_type": "code",
      "source": [
        "fit(model, data, 3, opt, F.mse_loss)"
      ],
      "execution_count": 0,
      "outputs": [
        {
          "output_type": "display_data",
          "data": {
            "application/vnd.jupyter.widget-view+json": {
              "model_id": "af9d3a773ada4e898aa3f98d389ea931",
              "version_minor": 0,
              "version_major": 2
            },
            "text/plain": [
              "HBox(children=(IntProgress(value=0, description='Epoch', max=3, style=ProgressStyle(description_width='initial…"
            ]
          },
          "metadata": {
            "tags": []
          }
        },
        {
          "output_type": "stream",
          "text": [
            "epoch      trn_loss   val_loss   \n",
            "    0      0.69678    0.781268  \n",
            "    1      0.719466   0.780251  \n",
            "    2      0.707979   0.779494  \n",
            "\n"
          ],
          "name": "stdout"
        },
        {
          "output_type": "execute_result",
          "data": {
            "text/plain": [
              "[array([0.77949])]"
            ]
          },
          "metadata": {
            "tags": []
          },
          "execution_count": 89
        }
      ]
    },
    {
      "metadata": {
        "id": "Fibx_Snq9qOw",
        "colab_type": "code",
        "colab": {}
      },
      "cell_type": "code",
      "source": [
        "\n",
        "class EmbeddingNet(nn.Module):\n",
        "    def __init__(self, n_users, n_movies, nh=10, p1=0.05, p2=0.5):\n",
        "        super().__init__()\n",
        "        (self.u, self.m) = [get_emb(*o) for o in [\n",
        "            (n_users, n_factors), (n_movies, n_factors)]]\n",
        "        self.lin1 = nn.Linear(n_factors*2, nh)\n",
        "        self.lin2 = nn.Linear(nh, 1)\n",
        "        self.drop1 = nn.Dropout(p1)\n",
        "        self.drop2 = nn.Dropout(p2)\n",
        "        \n",
        "    def forward(self, cats, conts):\n",
        "        users,movies = cats[:,0],cats[:,1]\n",
        "        x = self.drop1(torch.cat([self.u(users),self.m(movies)], dim=1))\n",
        "        x = self.drop2(F.relu(self.lin1(x)))\n",
        "        return F.sigmoid(self.lin2(x)) * (max_rating-min_rating+1) + min_rating-0.5"
      ],
      "execution_count": 0,
      "outputs": []
    },
    {
      "metadata": {
        "id": "RooFjf0s9tmK",
        "colab_type": "code",
        "colab": {}
      },
      "cell_type": "code",
      "source": [
        "wd=1e-5\n",
        "model = EmbeddingNet(n_users, n_movies).cuda()\n",
        "opt = optim.Adam(model.parameters(), 1e-3, weight_decay=wd)\n"
      ],
      "execution_count": 0,
      "outputs": []
    },
    {
      "metadata": {
        "id": "BJ8XFTIr9wZS",
        "colab_type": "code",
        "outputId": "e9b59243-9b27-47f8-d227-e05c4afe43f7",
        "colab": {
          "base_uri": "https://localhost:8080/",
          "height": 138
        }
      },
      "cell_type": "code",
      "source": [
        "fit(model, data, 3, opt, F.mse_loss)"
      ],
      "execution_count": 0,
      "outputs": [
        {
          "output_type": "display_data",
          "data": {
            "application/vnd.jupyter.widget-view+json": {
              "model_id": "e9e43c73266a4be38cba6b27b448cedc",
              "version_minor": 0,
              "version_major": 2
            },
            "text/plain": [
              "HBox(children=(IntProgress(value=0, description='Epoch', max=3, style=ProgressStyle(description_width='initial…"
            ]
          },
          "metadata": {
            "tags": []
          }
        },
        {
          "output_type": "stream",
          "text": [
            "epoch      trn_loss   val_loss   \n",
            "    0      0.85435    0.789304  \n",
            "    1      0.744012   0.775673  \n",
            "    2      0.75922    0.766714  \n",
            "\n"
          ],
          "name": "stdout"
        },
        {
          "output_type": "execute_result",
          "data": {
            "text/plain": [
              "[array([0.76671])]"
            ]
          },
          "metadata": {
            "tags": []
          },
          "execution_count": 92
        }
      ]
    },
    {
      "metadata": {
        "id": "4NA2J2_X9zbb",
        "colab_type": "code",
        "colab": {}
      },
      "cell_type": "code",
      "source": [
        "set_lrs(opt,1e-3)"
      ],
      "execution_count": 0,
      "outputs": []
    },
    {
      "metadata": {
        "id": "c7vP0iMx93jj",
        "colab_type": "code",
        "outputId": "673311bc-4083-4125-c79c-5849d7544aa1",
        "colab": {
          "base_uri": "https://localhost:8080/",
          "height": 138
        }
      },
      "cell_type": "code",
      "source": [
        "fit(model, data, 3, opt, F.mse_loss)"
      ],
      "execution_count": 0,
      "outputs": [
        {
          "output_type": "display_data",
          "data": {
            "application/vnd.jupyter.widget-view+json": {
              "model_id": "4ed27662d5aa45b0955ca1e3a7fd9281",
              "version_minor": 0,
              "version_major": 2
            },
            "text/plain": [
              "HBox(children=(IntProgress(value=0, description='Epoch', max=3, style=ProgressStyle(description_width='initial…"
            ]
          },
          "metadata": {
            "tags": []
          }
        },
        {
          "output_type": "stream",
          "text": [
            "epoch      trn_loss   val_loss   \n",
            "    0      0.724295   0.767693  \n",
            "    1      0.740638   0.771425  \n",
            "    2      0.727892   0.774707  \n",
            "\n"
          ],
          "name": "stdout"
        },
        {
          "output_type": "execute_result",
          "data": {
            "text/plain": [
              "[array([0.77471])]"
            ]
          },
          "metadata": {
            "tags": []
          },
          "execution_count": 94
        }
      ]
    },
    {
      "metadata": {
        "id": "9j1pnevc96xz",
        "colab_type": "code",
        "colab": {}
      },
      "cell_type": "code",
      "source": [
        ""
      ],
      "execution_count": 0,
      "outputs": []
    }
  ]
}