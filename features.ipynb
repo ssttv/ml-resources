{
  "nbformat": 4,
  "nbformat_minor": 0,
  "metadata": {
    "colab": {
      "name": "features.ipynb",
      "version": "0.3.2",
      "provenance": [],
      "collapsed_sections": [],
      "include_colab_link": true
    },
    "kernelspec": {
      "name": "python3",
      "display_name": "Python 3"
    },
    "accelerator": "GPU"
  },
  "cells": [
    {
      "cell_type": "markdown",
      "metadata": {
        "id": "view-in-github",
        "colab_type": "text"
      },
      "source": [
        "<a href=\"https://colab.research.google.com/github/ssttv/ml-resources/blob/master/features.ipynb\" target=\"_parent\"><img src=\"https://colab.research.google.com/assets/colab-badge.svg\" alt=\"Open In Colab\"/></a>"
      ]
    },
    {
      "metadata": {
        "id": "D4YXqLRrhlrw",
        "colab_type": "code",
        "colab": {}
      },
      "cell_type": "code",
      "source": [
        "!apt-get install -y -qq software-properties-common module-init-tools\n",
        "!add-apt-repository -y ppa:alessandro-strada/ppa 2>&1 > /dev/null\n",
        "!apt-get update -qq 2>&1 > /dev/null\n",
        "!apt-get -y install -qq google-drive-ocamlfuse fuse\n",
        "from google.colab import auth\n",
        "auth.authenticate_user()\n",
        "from oauth2client.client import GoogleCredentials\n",
        "creds = GoogleCredentials.get_application_default()\n",
        "import getpass\n",
        "!google-drive-ocamlfuse -headless -id={creds.client_id} -secret={creds.client_secret} < /dev/null 2>&1 | grep URL\n",
        "vcode = getpass.getpass()\n",
        "!echo {vcode} | google-drive-ocamlfuse -headless -id={creds.client_id} -secret={creds.client_secret}"
      ],
      "execution_count": 0,
      "outputs": []
    },
    {
      "metadata": {
        "id": "m31lUO9AiMqG",
        "colab_type": "code",
        "colab": {}
      },
      "cell_type": "code",
      "source": [
        "!mkdir -p drive\n",
        "!google-drive-ocamlfuse drive"
      ],
      "execution_count": 0,
      "outputs": []
    },
    {
      "metadata": {
        "id": "grmLfle6Fdtc",
        "colab_type": "code",
        "colab": {}
      },
      "cell_type": "code",
      "source": [
        "from __future__ import division, print_function\n",
        "\n",
        "# Disable warnings in Anaconda\n",
        "import warnings\n",
        "warnings.filterwarnings('ignore')\n",
        "\n",
        "%matplotlib inline\n",
        "from matplotlib import pyplot as plt\n",
        "import seaborn as sns\n",
        "\n",
        "# Set the font for titles in Russian\n",
        "from matplotlib import rc\n",
        "font = {'family': 'Verdana',\n",
        "        'weight': 'normal'}\n",
        "rc('font', **font)\n",
        "\n",
        "import pandas as pd\n",
        "import numpy as np\n",
        "from sklearn.ensemble.forest import RandomForestRegressor"
      ],
      "execution_count": 0,
      "outputs": []
    },
    {
      "metadata": {
        "id": "JACPpDi6Fe2L",
        "colab_type": "code",
        "colab": {
          "base_uri": "https://localhost:8080/",
          "height": 136
        },
        "outputId": "9817df15-c963-467b-e660-d851dc65a1f1"
      },
      "cell_type": "code",
      "source": [
        "ostel_data = pd.read_csv(\"/content/drive/generic_datasets/hostel_factors.csv\")\n",
        "features = {\"f1\":u\"Staff\",\n",
        "\"f2\":u\"Hostel booking\",\n",
        "\"f3\":u\"Check-in and check-out\",\n",
        "\"f4\":u\"Room condition\",\n",
        "\"f5\":u\"Shared kitchen condition\",\n",
        "\"f6\":u\"Shared space condition\",\n",
        "\"f7\":u\"Extra services\",\n",
        "\"f8\":u\"General conditions & conveniences\",\n",
        "\"f9\":u\"Value for money\",\n",
        "\"f10\":u\"Customer Co-creation\"}\n",
        "\n",
        "forest = RandomForestRegressor(n_estimators=1000, max_features=10,\n",
        "                                random_state=0)\n",
        "\n",
        "forest.fit(hostel_data.drop(['hostel', 'rating'], axis=1), \n",
        "           hostel_data['rating'])\n",
        "importances = forest.feature_importances_\n",
        "\n",
        "indices = np.argsort(importances)[::-1]\n",
        "# Plot the feature importancies of the forest\n",
        "num_to_plot = 10\n",
        "feature_indices = [ind+1 for ind in indices[:num_to_plot]]\n",
        "\n",
        "# Print the feature ranking\n",
        "print(\"Feature ranking:\")\n",
        "  \n",
        "for f in range(num_to_plot):\n",
        "    print(\"%d. %s %f \" % (f + 1, \n",
        "            features[\"f\"+str(feature_indices[f])], \n",
        "            importances[indices[f]]))\n",
        "plt.figure(figsize=(15,5))\n",
        "plt.title(u\"Feature Importance\")\n",
        "bars = plt.bar(range(num_to_plot), \n",
        "               importances[indices[:num_to_plot]],\n",
        "       color=([str(i/float(num_to_plot+1)) \n",
        "               for i in range(num_to_plot)]),\n",
        "               align=\"center\")\n",
        "ticks = plt.xticks(range(num_to_plot), \n",
        "                   feature_indices)\n",
        "plt.xlim([-1, num_to_plot])\n",
        "plt.legend(bars, [u''.join(features[\"f\"+str(i)]) \n",
        "                  for i in feature_indices]);\n",
        "Feature ranking:\n",
        "1. Staff 0.182757 \n",
        "2. Value for money 0.148373 \n",
        "3. Shared space condition 0.128296 \n",
        "4. Extra services 0.116604 \n",
        "5. Customer Co-creation 0.106668 \n",
        "6. General conditions & conveniences 0.088589 \n",
        "7. Shared kitchen condition 0.074273 \n",
        "8. Check-in and check-out 0.061521 \n",
        "9. Hostel booking 0.053615 \n",
        "10. Room condition 0.039305 "
      ],
      "execution_count": 22,
      "outputs": [
        {
          "output_type": "error",
          "ename": "SyntaxError",
          "evalue": "ignored",
          "traceback": [
            "\u001b[0;36m  File \u001b[0;32m\"<ipython-input-22-ede3bbc39e12>\"\u001b[0;36m, line \u001b[0;32m44\u001b[0m\n\u001b[0;31m    Feature ranking:\u001b[0m\n\u001b[0m                  ^\u001b[0m\n\u001b[0;31mSyntaxError\u001b[0m\u001b[0;31m:\u001b[0m invalid syntax\n"
          ]
        }
      ]
    },
    {
      "metadata": {
        "id": "MEZghnjSGhEu",
        "colab_type": "code",
        "colab": {}
      },
      "cell_type": "code",
      "source": [
        ""
      ],
      "execution_count": 0,
      "outputs": []
    }
  ]
}